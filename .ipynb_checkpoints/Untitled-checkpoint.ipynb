{
 "cells": [
  {
   "cell_type": "code",
   "execution_count": 33,
   "id": "6d63cb5c-dbcc-4acc-830f-1f2a51aa48be",
   "metadata": {},
   "outputs": [],
   "source": [
    "import os\n",
    "os.chdir('/data/user/adam.ginza/misc')\n",
    "\n",
    "import pandas as pd\n",
    "import numpy as np\n",
    "\n",
    "from matplotlib import pyplot as plt\n",
    "from matplotlib.ticker import PercentFormatter\n",
    "import seaborn as sns\n",
    "import datetime\n",
    "import re\n",
    "\n",
    "from utils.general import load_yaml, iqr, get_distance_lat_lon\n",
    "from utils.date_func import days_between\n",
    "from utils.viz import create_count_amount_pareto"
   ]
  },
  {
   "cell_type": "markdown",
   "id": "81b7325f-c6a3-4bf1-b019-fdacd7c7662b",
   "metadata": {},
   "source": [
    "# LOAD CONFIG"
   ]
  },
  {
   "cell_type": "code",
   "execution_count": 51,
   "id": "33d8faa2-1cee-4f6b-947b-03b89e37efb6",
   "metadata": {},
   "outputs": [],
   "source": [
    "configs = load_yaml('config/config.yaml')"
   ]
  },
  {
   "cell_type": "code",
   "execution_count": 52,
   "id": "54d94514-6ec5-4e73-9d54-cd80b91cab15",
   "metadata": {},
   "outputs": [
    {
     "data": {
      "text/plain": [
       "{'RAW_PATH': 'data/01.raw',\n",
       " 'INTERMEDIATE_PATH': 'data/02.intermediate',\n",
       " 'FINAL_PATH': 'data/03.final',\n",
       " 'MODEL_PATH': 'data/04.models',\n",
       " 'CUTOFF_DATE': datetime.date(2021, 10, 31)}"
      ]
     },
     "execution_count": 52,
     "metadata": {},
     "output_type": "execute_result"
    }
   ],
   "source": [
    "configs"
   ]
  },
  {
   "cell_type": "markdown",
   "id": "cb090925-fa69-4f57-b6eb-72bef8734ad5",
   "metadata": {},
   "source": [
    "# 1. PREPARE DATA"
   ]
  },
  {
   "cell_type": "markdown",
   "id": "546ef82e-4f0f-436d-bcfd-2880d368759f",
   "metadata": {},
   "source": [
    "### Read transactions"
   ]
  },
  {
   "cell_type": "code",
   "execution_count": 4,
   "id": "aee15202-0774-4f33-acbb-4f85925488d8",
   "metadata": {},
   "outputs": [],
   "source": [
    "trx = pd.read_csv(f'{configs[\"RAW_PATH\"]}/transactions.csv')"
   ]
  },
  {
   "cell_type": "markdown",
   "id": "c0f8edc5-e6a1-416e-9e42-fe1e6647ac40",
   "metadata": {},
   "source": [
    "#### Quick look on the trx data"
   ]
  },
  {
   "cell_type": "markdown",
   "id": "75298622-bdc3-4bad-a502-c43e6a7d3e6d",
   "metadata": {},
   "source": [
    "No null rows in the transaction dataframe"
   ]
  },
  {
   "cell_type": "code",
   "execution_count": 5,
   "id": "fd661aea-431a-4fc4-bdf1-0f31af0ba5ff",
   "metadata": {},
   "outputs": [
    {
     "name": "stdout",
     "output_type": "stream",
     "text": [
      "(1582260, 5)\n"
     ]
    },
    {
     "data": {
      "text/html": [
       "<div>\n",
       "<style scoped>\n",
       "    .dataframe tbody tr th:only-of-type {\n",
       "        vertical-align: middle;\n",
       "    }\n",
       "\n",
       "    .dataframe tbody tr th {\n",
       "        vertical-align: top;\n",
       "    }\n",
       "\n",
       "    .dataframe thead th {\n",
       "        text-align: right;\n",
       "    }\n",
       "</style>\n",
       "<table border=\"1\" class=\"dataframe\">\n",
       "  <thead>\n",
       "    <tr style=\"text-align: right;\">\n",
       "      <th></th>\n",
       "      <th>id</th>\n",
       "      <th>user_id</th>\n",
       "      <th>store_id</th>\n",
       "      <th>event_occurrence</th>\n",
       "      <th>amount</th>\n",
       "    </tr>\n",
       "  </thead>\n",
       "  <tbody>\n",
       "    <tr>\n",
       "      <th>0</th>\n",
       "      <td>a555eb55-1da4-6087-b5ab-06b35b608002</td>\n",
       "      <td>93098549-3ff0-e579-01c3-df9183278f64</td>\n",
       "      <td>a3c7874b-75df-9cf2-62ab-cf58be5d9e0e</td>\n",
       "      <td>2020-01-01 06:40:43.323987</td>\n",
       "      <td>315</td>\n",
       "    </tr>\n",
       "    <tr>\n",
       "      <th>1</th>\n",
       "      <td>f699b867-e70c-5160-90c8-7dfa32dce0da</td>\n",
       "      <td>35ba9da1-98d0-cbb7-7844-e648601b7208</td>\n",
       "      <td>1d59adf3-94f2-f5f8-46c6-8558c544a3a9</td>\n",
       "      <td>2020-01-01 07:04:25.968615</td>\n",
       "      <td>1646</td>\n",
       "    </tr>\n",
       "    <tr>\n",
       "      <th>2</th>\n",
       "      <td>5c3f8abc-f4e6-94fd-7b13-fe0efd4e4591</td>\n",
       "      <td>63cb5ee0-a457-9975-5455-4d76109bc754</td>\n",
       "      <td>c835f09d-ac5b-2005-1959-f452456a746a</td>\n",
       "      <td>2020-01-01 07:06:16.164563</td>\n",
       "      <td>385</td>\n",
       "    </tr>\n",
       "    <tr>\n",
       "      <th>3</th>\n",
       "      <td>f033da1a-bafb-5faa-67e3-c76b07b04333</td>\n",
       "      <td>786fcb82-40cf-1dc9-b9ba-2541502ca95a</td>\n",
       "      <td>eaf4c05d-13e1-7c8a-9ae0-cf2ec2e3dcd2</td>\n",
       "      <td>2020-01-01 07:07:26.029685</td>\n",
       "      <td>166</td>\n",
       "    </tr>\n",
       "    <tr>\n",
       "      <th>4</th>\n",
       "      <td>ccc35ffe-ee42-b696-783c-6670bfd800ec</td>\n",
       "      <td>acc814f5-beb6-db35-64f1-52f7c5a8466c</td>\n",
       "      <td>a8301ae2-df3b-ffe4-0279-c74af1dbb847</td>\n",
       "      <td>2020-01-01 07:12:24.448015</td>\n",
       "      <td>656</td>\n",
       "    </tr>\n",
       "  </tbody>\n",
       "</table>\n",
       "</div>"
      ],
      "text/plain": [
       "                                     id                               user_id  \\\n",
       "0  a555eb55-1da4-6087-b5ab-06b35b608002  93098549-3ff0-e579-01c3-df9183278f64   \n",
       "1  f699b867-e70c-5160-90c8-7dfa32dce0da  35ba9da1-98d0-cbb7-7844-e648601b7208   \n",
       "2  5c3f8abc-f4e6-94fd-7b13-fe0efd4e4591  63cb5ee0-a457-9975-5455-4d76109bc754   \n",
       "3  f033da1a-bafb-5faa-67e3-c76b07b04333  786fcb82-40cf-1dc9-b9ba-2541502ca95a   \n",
       "4  ccc35ffe-ee42-b696-783c-6670bfd800ec  acc814f5-beb6-db35-64f1-52f7c5a8466c   \n",
       "\n",
       "                               store_id            event_occurrence  amount  \n",
       "0  a3c7874b-75df-9cf2-62ab-cf58be5d9e0e  2020-01-01 06:40:43.323987     315  \n",
       "1  1d59adf3-94f2-f5f8-46c6-8558c544a3a9  2020-01-01 07:04:25.968615    1646  \n",
       "2  c835f09d-ac5b-2005-1959-f452456a746a  2020-01-01 07:06:16.164563     385  \n",
       "3  eaf4c05d-13e1-7c8a-9ae0-cf2ec2e3dcd2  2020-01-01 07:07:26.029685     166  \n",
       "4  a8301ae2-df3b-ffe4-0279-c74af1dbb847  2020-01-01 07:12:24.448015     656  "
      ]
     },
     "execution_count": 5,
     "metadata": {},
     "output_type": "execute_result"
    }
   ],
   "source": [
    "### get shape of dataframe and see first few rows\n",
    "print(trx.shape)\n",
    "trx.head()"
   ]
  },
  {
   "cell_type": "markdown",
   "id": "a322b84b-b33b-4596-b700-9f20d287d2ae",
   "metadata": {},
   "source": [
    "Since there's no assigned column names, we'll check on which column refers to which other dataset by joining later on."
   ]
  },
  {
   "cell_type": "code",
   "execution_count": 6,
   "id": "a0498164-8a98-4df2-ba2d-918fd2026ac5",
   "metadata": {},
   "outputs": [
    {
     "name": "stdout",
     "output_type": "stream",
     "text": [
      "<class 'pandas.core.frame.DataFrame'>\n",
      "RangeIndex: 1582260 entries, 0 to 1582259\n",
      "Data columns (total 5 columns):\n",
      " #   Column            Non-Null Count    Dtype \n",
      "---  ------            --------------    ----- \n",
      " 0   id                1582260 non-null  object\n",
      " 1   user_id           1582260 non-null  object\n",
      " 2   store_id          1582260 non-null  object\n",
      " 3   event_occurrence  1582260 non-null  object\n",
      " 4   amount            1582260 non-null  int64 \n",
      "dtypes: int64(1), object(4)\n",
      "memory usage: 60.4+ MB\n"
     ]
    }
   ],
   "source": [
    "trx.info()"
   ]
  },
  {
   "cell_type": "markdown",
   "id": "ba88baa7-7600-4465-9291-8e565035f1e2",
   "metadata": {},
   "source": [
    "No null rows in the transaction dataset. Will check if there's any literal string **NA** or blank space in any columns.\n",
    "\n",
    "Need to convert the column **event_occurence** into datetime datatype."
   ]
  },
  {
   "cell_type": "code",
   "execution_count": 7,
   "id": "81acca35-da41-4e50-8f6e-11bfc34f1dfd",
   "metadata": {},
   "outputs": [],
   "source": [
    "trx['event_occurrence'] = pd.to_datetime(trx['event_occurrence'])"
   ]
  },
  {
   "cell_type": "markdown",
   "id": "db407cfa-6a7a-4f0e-9432-1198ff6ec84e",
   "metadata": {},
   "source": [
    "Check again if column **event_occurrence** has been converted into a datetime datatype.\n",
    "\n",
    "Since there was no error when converting the **event_occurrence** column, then it is safe to say there was no literal string that could make up a null value."
   ]
  },
  {
   "cell_type": "code",
   "execution_count": 8,
   "id": "75a6912f-8c2f-41fe-9da9-09e0a0dce168",
   "metadata": {},
   "outputs": [
    {
     "name": "stdout",
     "output_type": "stream",
     "text": [
      "<class 'pandas.core.frame.DataFrame'>\n",
      "RangeIndex: 1582260 entries, 0 to 1582259\n",
      "Data columns (total 5 columns):\n",
      " #   Column            Non-Null Count    Dtype         \n",
      "---  ------            --------------    -----         \n",
      " 0   id                1582260 non-null  object        \n",
      " 1   user_id           1582260 non-null  object        \n",
      " 2   store_id          1582260 non-null  object        \n",
      " 3   event_occurrence  1582260 non-null  datetime64[ns]\n",
      " 4   amount            1582260 non-null  int64         \n",
      "dtypes: datetime64[ns](1), int64(1), object(3)\n",
      "memory usage: 60.4+ MB\n"
     ]
    }
   ],
   "source": [
    "trx.info()"
   ]
  },
  {
   "cell_type": "code",
   "execution_count": 9,
   "id": "6d79385a-442b-42a9-bd12-293446bae399",
   "metadata": {},
   "outputs": [
    {
     "name": "stderr",
     "output_type": "stream",
     "text": [
      "/tmp/ipykernel_4003/27448712.py:1: FutureWarning: Treating datetime data as categorical rather than numeric in `.describe` is deprecated and will be removed in a future version of pandas. Specify `datetime_is_numeric=True` to silence this warning and adopt the future behavior now.\n",
      "  trx.describe(include = 'all')\n"
     ]
    },
    {
     "data": {
      "text/html": [
       "<div>\n",
       "<style scoped>\n",
       "    .dataframe tbody tr th:only-of-type {\n",
       "        vertical-align: middle;\n",
       "    }\n",
       "\n",
       "    .dataframe tbody tr th {\n",
       "        vertical-align: top;\n",
       "    }\n",
       "\n",
       "    .dataframe thead th {\n",
       "        text-align: right;\n",
       "    }\n",
       "</style>\n",
       "<table border=\"1\" class=\"dataframe\">\n",
       "  <thead>\n",
       "    <tr style=\"text-align: right;\">\n",
       "      <th></th>\n",
       "      <th>id</th>\n",
       "      <th>user_id</th>\n",
       "      <th>store_id</th>\n",
       "      <th>event_occurrence</th>\n",
       "      <th>amount</th>\n",
       "    </tr>\n",
       "  </thead>\n",
       "  <tbody>\n",
       "    <tr>\n",
       "      <th>count</th>\n",
       "      <td>1582260</td>\n",
       "      <td>1582260</td>\n",
       "      <td>1582260</td>\n",
       "      <td>1582260</td>\n",
       "      <td>1.582260e+06</td>\n",
       "    </tr>\n",
       "    <tr>\n",
       "      <th>unique</th>\n",
       "      <td>1582260</td>\n",
       "      <td>9542</td>\n",
       "      <td>95460</td>\n",
       "      <td>1582259</td>\n",
       "      <td>NaN</td>\n",
       "    </tr>\n",
       "    <tr>\n",
       "      <th>top</th>\n",
       "      <td>6d243198-7ac7-4bbf-924f-e28276a158c8</td>\n",
       "      <td>ffbdfd47-dc79-72f0-1338-94b3854ca896</td>\n",
       "      <td>205a9fb1-7000-006a-853d-e97b7bdf8499</td>\n",
       "      <td>2021-03-08 10:59:53.518682</td>\n",
       "      <td>NaN</td>\n",
       "    </tr>\n",
       "    <tr>\n",
       "      <th>freq</th>\n",
       "      <td>1</td>\n",
       "      <td>478</td>\n",
       "      <td>1594</td>\n",
       "      <td>2</td>\n",
       "      <td>NaN</td>\n",
       "    </tr>\n",
       "    <tr>\n",
       "      <th>first</th>\n",
       "      <td>NaN</td>\n",
       "      <td>NaN</td>\n",
       "      <td>NaN</td>\n",
       "      <td>2020-01-01 06:40:43.323987</td>\n",
       "      <td>NaN</td>\n",
       "    </tr>\n",
       "    <tr>\n",
       "      <th>last</th>\n",
       "      <td>NaN</td>\n",
       "      <td>NaN</td>\n",
       "      <td>NaN</td>\n",
       "      <td>2021-12-31 17:09:49.237044</td>\n",
       "      <td>NaN</td>\n",
       "    </tr>\n",
       "    <tr>\n",
       "      <th>mean</th>\n",
       "      <td>NaN</td>\n",
       "      <td>NaN</td>\n",
       "      <td>NaN</td>\n",
       "      <td>NaN</td>\n",
       "      <td>1.703913e+03</td>\n",
       "    </tr>\n",
       "    <tr>\n",
       "      <th>std</th>\n",
       "      <td>NaN</td>\n",
       "      <td>NaN</td>\n",
       "      <td>NaN</td>\n",
       "      <td>NaN</td>\n",
       "      <td>5.361803e+03</td>\n",
       "    </tr>\n",
       "    <tr>\n",
       "      <th>min</th>\n",
       "      <td>NaN</td>\n",
       "      <td>NaN</td>\n",
       "      <td>NaN</td>\n",
       "      <td>NaN</td>\n",
       "      <td>2.000000e+00</td>\n",
       "    </tr>\n",
       "    <tr>\n",
       "      <th>25%</th>\n",
       "      <td>NaN</td>\n",
       "      <td>NaN</td>\n",
       "      <td>NaN</td>\n",
       "      <td>NaN</td>\n",
       "      <td>3.320000e+02</td>\n",
       "    </tr>\n",
       "    <tr>\n",
       "      <th>50%</th>\n",
       "      <td>NaN</td>\n",
       "      <td>NaN</td>\n",
       "      <td>NaN</td>\n",
       "      <td>NaN</td>\n",
       "      <td>7.320000e+02</td>\n",
       "    </tr>\n",
       "    <tr>\n",
       "      <th>75%</th>\n",
       "      <td>NaN</td>\n",
       "      <td>NaN</td>\n",
       "      <td>NaN</td>\n",
       "      <td>NaN</td>\n",
       "      <td>1.675000e+03</td>\n",
       "    </tr>\n",
       "    <tr>\n",
       "      <th>max</th>\n",
       "      <td>NaN</td>\n",
       "      <td>NaN</td>\n",
       "      <td>NaN</td>\n",
       "      <td>NaN</td>\n",
       "      <td>1.883119e+06</td>\n",
       "    </tr>\n",
       "  </tbody>\n",
       "</table>\n",
       "</div>"
      ],
      "text/plain": [
       "                                          id  \\\n",
       "count                                1582260   \n",
       "unique                               1582260   \n",
       "top     6d243198-7ac7-4bbf-924f-e28276a158c8   \n",
       "freq                                       1   \n",
       "first                                    NaN   \n",
       "last                                     NaN   \n",
       "mean                                     NaN   \n",
       "std                                      NaN   \n",
       "min                                      NaN   \n",
       "25%                                      NaN   \n",
       "50%                                      NaN   \n",
       "75%                                      NaN   \n",
       "max                                      NaN   \n",
       "\n",
       "                                     user_id  \\\n",
       "count                                1582260   \n",
       "unique                                  9542   \n",
       "top     ffbdfd47-dc79-72f0-1338-94b3854ca896   \n",
       "freq                                     478   \n",
       "first                                    NaN   \n",
       "last                                     NaN   \n",
       "mean                                     NaN   \n",
       "std                                      NaN   \n",
       "min                                      NaN   \n",
       "25%                                      NaN   \n",
       "50%                                      NaN   \n",
       "75%                                      NaN   \n",
       "max                                      NaN   \n",
       "\n",
       "                                    store_id            event_occurrence  \\\n",
       "count                                1582260                     1582260   \n",
       "unique                                 95460                     1582259   \n",
       "top     205a9fb1-7000-006a-853d-e97b7bdf8499  2021-03-08 10:59:53.518682   \n",
       "freq                                    1594                           2   \n",
       "first                                    NaN  2020-01-01 06:40:43.323987   \n",
       "last                                     NaN  2021-12-31 17:09:49.237044   \n",
       "mean                                     NaN                         NaN   \n",
       "std                                      NaN                         NaN   \n",
       "min                                      NaN                         NaN   \n",
       "25%                                      NaN                         NaN   \n",
       "50%                                      NaN                         NaN   \n",
       "75%                                      NaN                         NaN   \n",
       "max                                      NaN                         NaN   \n",
       "\n",
       "              amount  \n",
       "count   1.582260e+06  \n",
       "unique           NaN  \n",
       "top              NaN  \n",
       "freq             NaN  \n",
       "first            NaN  \n",
       "last             NaN  \n",
       "mean    1.703913e+03  \n",
       "std     5.361803e+03  \n",
       "min     2.000000e+00  \n",
       "25%     3.320000e+02  \n",
       "50%     7.320000e+02  \n",
       "75%     1.675000e+03  \n",
       "max     1.883119e+06  "
      ]
     },
     "execution_count": 9,
     "metadata": {},
     "output_type": "execute_result"
    }
   ],
   "source": [
    "trx.describe(include = 'all')"
   ]
  },
  {
   "cell_type": "markdown",
   "id": "4f0fde29-d3dd-48c0-864d-0b230f5c0df1",
   "metadata": {},
   "source": [
    "* Looks like there's an outlier in the column **amount** since the max is way off from the 75th percentile. Will do a treatment on the analysis and model building.\n",
    "* Column **id** has the same number of count as well as the unique count. Hence, we can consider this as the unique transaction identifier.\n",
    "* Only ONE simultaneous transactions happened in the exact same time.\n",
    "* We can rename column **event_occurrence** to trx_time and column **amount** to trx_amount for now.\n",
    "* We can create new column that contains the date taken from the **event_occurrence** column."
   ]
  },
  {
   "cell_type": "code",
   "execution_count": 10,
   "id": "f422d9a0-cad7-4919-8c1d-1820331117df",
   "metadata": {},
   "outputs": [],
   "source": [
    "trx.rename(columns = {'event_occurrence':'trx_datetime', 'amount':'trx_amount', 'id':'trx_id'}, inplace=True)"
   ]
  },
  {
   "cell_type": "code",
   "execution_count": 11,
   "id": "5e4fd782-5034-49e5-891f-6d0b66327772",
   "metadata": {},
   "outputs": [],
   "source": [
    "## CONVERT DATETIME TO DATE AND STORE TO NEW COLUMN\n",
    "trx['trx_date'] = pd.to_datetime(trx['trx_datetime']).dt.date"
   ]
  },
  {
   "cell_type": "markdown",
   "id": "4d6696af-6bc5-4202-957e-98c957fb5644",
   "metadata": {},
   "source": [
    "### Read users"
   ]
  },
  {
   "cell_type": "code",
   "execution_count": 12,
   "id": "19cd8a88-9fae-4e87-8dcf-2a97ff53785c",
   "metadata": {},
   "outputs": [],
   "source": [
    "users = pd.read_csv(f\"{configs['RAW_PATH']}/users.csv\")"
   ]
  },
  {
   "cell_type": "code",
   "execution_count": 13,
   "id": "f0e58d98-1672-43f9-98bb-c90e7d7f6aa1",
   "metadata": {},
   "outputs": [
    {
     "data": {
      "text/html": [
       "<div>\n",
       "<style scoped>\n",
       "    .dataframe tbody tr th:only-of-type {\n",
       "        vertical-align: middle;\n",
       "    }\n",
       "\n",
       "    .dataframe tbody tr th {\n",
       "        vertical-align: top;\n",
       "    }\n",
       "\n",
       "    .dataframe thead th {\n",
       "        text-align: right;\n",
       "    }\n",
       "</style>\n",
       "<table border=\"1\" class=\"dataframe\">\n",
       "  <thead>\n",
       "    <tr style=\"text-align: right;\">\n",
       "      <th></th>\n",
       "      <th>id</th>\n",
       "      <th>gender</th>\n",
       "      <th>age</th>\n",
       "    </tr>\n",
       "  </thead>\n",
       "  <tbody>\n",
       "    <tr>\n",
       "      <th>0</th>\n",
       "      <td>3cf2d95c-851a-3e66-bd62-36050c1aa8dd</td>\n",
       "      <td>M</td>\n",
       "      <td>30.0</td>\n",
       "    </tr>\n",
       "    <tr>\n",
       "      <th>1</th>\n",
       "      <td>a85536f3-1bf8-fbeb-d06e-62e6dc5a2a83</td>\n",
       "      <td>M</td>\n",
       "      <td>55.0</td>\n",
       "    </tr>\n",
       "    <tr>\n",
       "      <th>2</th>\n",
       "      <td>355a293c-2c15-d6bd-45ce-cd3c275ee5a9</td>\n",
       "      <td>M</td>\n",
       "      <td>40.0</td>\n",
       "    </tr>\n",
       "    <tr>\n",
       "      <th>3</th>\n",
       "      <td>61fb5b45-9bf8-1659-7a0c-b6f85a0f870b</td>\n",
       "      <td>NaN</td>\n",
       "      <td>NaN</td>\n",
       "    </tr>\n",
       "    <tr>\n",
       "      <th>4</th>\n",
       "      <td>ff9e16ef-3a0b-9373-567f-fb07cbc96874</td>\n",
       "      <td>M</td>\n",
       "      <td>90.0</td>\n",
       "    </tr>\n",
       "  </tbody>\n",
       "</table>\n",
       "</div>"
      ],
      "text/plain": [
       "                                     id gender   age\n",
       "0  3cf2d95c-851a-3e66-bd62-36050c1aa8dd      M  30.0\n",
       "1  a85536f3-1bf8-fbeb-d06e-62e6dc5a2a83      M  55.0\n",
       "2  355a293c-2c15-d6bd-45ce-cd3c275ee5a9      M  40.0\n",
       "3  61fb5b45-9bf8-1659-7a0c-b6f85a0f870b    NaN   NaN\n",
       "4  ff9e16ef-3a0b-9373-567f-fb07cbc96874      M  90.0"
      ]
     },
     "execution_count": 13,
     "metadata": {},
     "output_type": "execute_result"
    }
   ],
   "source": [
    "users.head()"
   ]
  },
  {
   "cell_type": "code",
   "execution_count": 14,
   "id": "5ed88433-96dd-4a0c-a118-49ebf1478ef9",
   "metadata": {},
   "outputs": [
    {
     "name": "stdout",
     "output_type": "stream",
     "text": [
      "<class 'pandas.core.frame.DataFrame'>\n",
      "RangeIndex: 9961 entries, 0 to 9960\n",
      "Data columns (total 3 columns):\n",
      " #   Column  Non-Null Count  Dtype  \n",
      "---  ------  --------------  -----  \n",
      " 0   id      9961 non-null   object \n",
      " 1   gender  8965 non-null   object \n",
      " 2   age     9463 non-null   float64\n",
      "dtypes: float64(1), object(2)\n",
      "memory usage: 233.6+ KB\n"
     ]
    }
   ],
   "source": [
    "users.info()"
   ]
  },
  {
   "cell_type": "code",
   "execution_count": 15,
   "id": "2e5db5d5-c52c-49e3-a6e5-46baeb21087d",
   "metadata": {},
   "outputs": [
    {
     "data": {
      "text/html": [
       "<div>\n",
       "<style scoped>\n",
       "    .dataframe tbody tr th:only-of-type {\n",
       "        vertical-align: middle;\n",
       "    }\n",
       "\n",
       "    .dataframe tbody tr th {\n",
       "        vertical-align: top;\n",
       "    }\n",
       "\n",
       "    .dataframe thead th {\n",
       "        text-align: right;\n",
       "    }\n",
       "</style>\n",
       "<table border=\"1\" class=\"dataframe\">\n",
       "  <thead>\n",
       "    <tr style=\"text-align: right;\">\n",
       "      <th></th>\n",
       "      <th>id</th>\n",
       "      <th>gender</th>\n",
       "      <th>age</th>\n",
       "    </tr>\n",
       "  </thead>\n",
       "  <tbody>\n",
       "    <tr>\n",
       "      <th>count</th>\n",
       "      <td>9961</td>\n",
       "      <td>8965</td>\n",
       "      <td>9463.000000</td>\n",
       "    </tr>\n",
       "    <tr>\n",
       "      <th>unique</th>\n",
       "      <td>9961</td>\n",
       "      <td>3</td>\n",
       "      <td>NaN</td>\n",
       "    </tr>\n",
       "    <tr>\n",
       "      <th>top</th>\n",
       "      <td>08055d83-2d81-b097-b80f-142f87bfef1a</td>\n",
       "      <td>M</td>\n",
       "      <td>NaN</td>\n",
       "    </tr>\n",
       "    <tr>\n",
       "      <th>freq</th>\n",
       "      <td>1</td>\n",
       "      <td>5352</td>\n",
       "      <td>NaN</td>\n",
       "    </tr>\n",
       "    <tr>\n",
       "      <th>mean</th>\n",
       "      <td>NaN</td>\n",
       "      <td>NaN</td>\n",
       "      <td>52.730318</td>\n",
       "    </tr>\n",
       "    <tr>\n",
       "      <th>std</th>\n",
       "      <td>NaN</td>\n",
       "      <td>NaN</td>\n",
       "      <td>21.441445</td>\n",
       "    </tr>\n",
       "    <tr>\n",
       "      <th>min</th>\n",
       "      <td>NaN</td>\n",
       "      <td>NaN</td>\n",
       "      <td>15.000000</td>\n",
       "    </tr>\n",
       "    <tr>\n",
       "      <th>25%</th>\n",
       "      <td>NaN</td>\n",
       "      <td>NaN</td>\n",
       "      <td>34.000000</td>\n",
       "    </tr>\n",
       "    <tr>\n",
       "      <th>50%</th>\n",
       "      <td>NaN</td>\n",
       "      <td>NaN</td>\n",
       "      <td>52.000000</td>\n",
       "    </tr>\n",
       "    <tr>\n",
       "      <th>75%</th>\n",
       "      <td>NaN</td>\n",
       "      <td>NaN</td>\n",
       "      <td>71.000000</td>\n",
       "    </tr>\n",
       "    <tr>\n",
       "      <th>max</th>\n",
       "      <td>NaN</td>\n",
       "      <td>NaN</td>\n",
       "      <td>90.000000</td>\n",
       "    </tr>\n",
       "  </tbody>\n",
       "</table>\n",
       "</div>"
      ],
      "text/plain": [
       "                                          id gender          age\n",
       "count                                   9961   8965  9463.000000\n",
       "unique                                  9961      3          NaN\n",
       "top     08055d83-2d81-b097-b80f-142f87bfef1a      M          NaN\n",
       "freq                                       1   5352          NaN\n",
       "mean                                     NaN    NaN    52.730318\n",
       "std                                      NaN    NaN    21.441445\n",
       "min                                      NaN    NaN    15.000000\n",
       "25%                                      NaN    NaN    34.000000\n",
       "50%                                      NaN    NaN    52.000000\n",
       "75%                                      NaN    NaN    71.000000\n",
       "max                                      NaN    NaN    90.000000"
      ]
     },
     "execution_count": 15,
     "metadata": {},
     "output_type": "execute_result"
    }
   ],
   "source": [
    "users.describe(include='all')"
   ]
  },
  {
   "cell_type": "markdown",
   "id": "2a300249-8fcc-41e7-9d6d-d56a37dc15d9",
   "metadata": {},
   "source": [
    "**Takeaways:**\n",
    "* No duplicate users\n",
    "* Gender has 3 unique values. Will check if it makes sense.\n",
    "* Max Age is at 90. Although it's still possible, we could look at the proportion of users who are above 75th percentile of Age."
   ]
  },
  {
   "cell_type": "markdown",
   "id": "d1e3372a-e866-4f0e-8dcb-e5b5e2df647f",
   "metadata": {},
   "source": [
    "#### Rename column for consistency"
   ]
  },
  {
   "cell_type": "code",
   "execution_count": 16,
   "id": "244c6dc0-ee52-4c9c-ad98-436aacee033a",
   "metadata": {},
   "outputs": [],
   "source": [
    "users.rename(columns={'id': 'user_id'}, inplace=True)"
   ]
  },
  {
   "cell_type": "markdown",
   "id": "b7448978-58fc-433e-b6a4-1ab452f47fd5",
   "metadata": {},
   "source": [
    "#### Look at the null Gender and Age"
   ]
  },
  {
   "cell_type": "code",
   "execution_count": 17,
   "id": "84652d9d-e89b-4c2d-a684-65e43443442e",
   "metadata": {},
   "outputs": [
    {
     "name": "stdout",
     "output_type": "stream",
     "text": [
      "\n",
      "Null age is 5.00%.\n",
      "Null gender is 10.00%.\n",
      "Null gender or age is 10.00%%.\n",
      "\n"
     ]
    }
   ],
   "source": [
    "age_or_gender_null = users[(users['gender'].isna()) | (users['age'].isna())].shape[0] / users.shape[0]\n",
    "gender_null = users[(users['gender'].isna())].shape[0] / users.shape[0]\n",
    "age_null = users[(users['age'].isna())].shape[0] / users.shape[0]\n",
    "\n",
    "print(f\"\"\"\n",
    "Null age is {age_null:.2%}.\n",
    "Null gender is {gender_null:.2%}.\n",
    "Null gender or age is {age_or_gender_null:.2%}%.\n",
    "\"\"\")"
   ]
  },
  {
   "cell_type": "markdown",
   "id": "04f14dff-8748-4273-85f3-eb5ede068e97",
   "metadata": {},
   "source": [
    "#### Check on unique values of Gender"
   ]
  },
  {
   "cell_type": "code",
   "execution_count": 18,
   "id": "b9d2f9aa-cb8b-4beb-b5a4-77b9ebd3452c",
   "metadata": {},
   "outputs": [
    {
     "data": {
      "text/plain": [
       "M        5352\n",
       "F        3596\n",
       "OTHER      17\n",
       "Name: gender, dtype: int64"
      ]
     },
     "execution_count": 18,
     "metadata": {},
     "output_type": "execute_result"
    }
   ],
   "source": [
    "users['gender'].value_counts()"
   ]
  },
  {
   "cell_type": "markdown",
   "id": "2cca5d8e-97a1-4b72-81f0-5cf27164b61c",
   "metadata": {},
   "source": [
    "Gender looks okay!!!"
   ]
  },
  {
   "cell_type": "markdown",
   "id": "c931caa1-93ff-400b-a09d-c64de66adfab",
   "metadata": {},
   "source": [
    "#### Check potential outliers in Age column."
   ]
  },
  {
   "cell_type": "code",
   "execution_count": 19,
   "id": "cf16daab-745b-4fd3-9e66-16f81205d32f",
   "metadata": {},
   "outputs": [],
   "source": [
    "check_age = users.loc[(~users['age'].isna()),['age']]"
   ]
  },
  {
   "cell_type": "code",
   "execution_count": 20,
   "id": "cd2acd56-fb55-4e5a-817a-477b130e6497",
   "metadata": {},
   "outputs": [],
   "source": [
    "age_Q1 = check_age['age'].quantile(0.25)\n",
    "age_Q3 = check_age['age'].quantile(0.75)\n",
    "age_IQR = age_Q3 - age_Q1\n",
    "age_S = 1.5*age_IQR\n",
    "age_LB = age_Q1 - age_S\n",
    "age_UB = age_Q3 + age_S\n",
    "\n",
    "check_age['above_UB'] = np.where(\n",
    "    check_age['age'] > age_UB,\n",
    "    1,\n",
    "    0\n",
    ")"
   ]
  },
  {
   "cell_type": "code",
   "execution_count": 21,
   "id": "c0e8368b-4a63-4e9b-80b2-4df5ae34ee20",
   "metadata": {},
   "outputs": [
    {
     "data": {
      "text/plain": [
       "(37.0, 55.5, -21.5, 126.5)"
      ]
     },
     "execution_count": 21,
     "metadata": {},
     "output_type": "execute_result"
    }
   ],
   "source": [
    "age_IQR, age_S, age_LB, age_UB"
   ]
  },
  {
   "cell_type": "code",
   "execution_count": 22,
   "id": "13b7b5a9-197b-4b38-bcc1-5330bc24ff45",
   "metadata": {},
   "outputs": [
    {
     "data": {
      "text/plain": [
       "0    9463\n",
       "Name: above_UB, dtype: int64"
      ]
     },
     "execution_count": 22,
     "metadata": {},
     "output_type": "execute_result"
    }
   ],
   "source": [
    "check_age['above_UB'].value_counts()"
   ]
  },
  {
   "cell_type": "markdown",
   "id": "e7c478d0-c541-426c-9055-08176aac3e78",
   "metadata": {},
   "source": [
    "**Since there are no users with age exceed Upper Bound threshold of 126.5, this means that the age has no outliers. So, we don't do any special treatments to the age columns.**"
   ]
  },
  {
   "cell_type": "markdown",
   "id": "c6935f7e-438d-4ca1-aa2e-115a7c76aa02",
   "metadata": {},
   "source": [
    "### Read stores"
   ]
  },
  {
   "cell_type": "code",
   "execution_count": 44,
   "id": "61aa3976-c35e-4678-94ae-fd886e63e90c",
   "metadata": {},
   "outputs": [],
   "source": [
    "stores = pd.read_csv(f\"{configs['RAW_PATH']}/stores.csv\")"
   ]
  },
  {
   "cell_type": "code",
   "execution_count": 45,
   "id": "5b3ebb2c-699c-426a-8937-e2b381100e1a",
   "metadata": {},
   "outputs": [
    {
     "data": {
      "text/html": [
       "<div>\n",
       "<style scoped>\n",
       "    .dataframe tbody tr th:only-of-type {\n",
       "        vertical-align: middle;\n",
       "    }\n",
       "\n",
       "    .dataframe tbody tr th {\n",
       "        vertical-align: top;\n",
       "    }\n",
       "\n",
       "    .dataframe thead th {\n",
       "        text-align: right;\n",
       "    }\n",
       "</style>\n",
       "<table border=\"1\" class=\"dataframe\">\n",
       "  <thead>\n",
       "    <tr style=\"text-align: right;\">\n",
       "      <th></th>\n",
       "      <th>id</th>\n",
       "      <th>nam</th>\n",
       "      <th>laa</th>\n",
       "      <th>category</th>\n",
       "      <th>lat</th>\n",
       "      <th>lon</th>\n",
       "    </tr>\n",
       "  </thead>\n",
       "  <tbody>\n",
       "    <tr>\n",
       "      <th>0</th>\n",
       "      <td>139a9a4b-1cb4-cb91-f718-d0bdd7db31c9</td>\n",
       "      <td>Aichi Ken</td>\n",
       "      <td>Agui Cho</td>\n",
       "      <td>ショッピング</td>\n",
       "      <td>34.951439</td>\n",
       "      <td>136.935126</td>\n",
       "    </tr>\n",
       "    <tr>\n",
       "      <th>1</th>\n",
       "      <td>437e0dae-dbf7-b1a8-4a03-010b9597bbd2</td>\n",
       "      <td>Aichi Ken</td>\n",
       "      <td>Agui Cho</td>\n",
       "      <td>マッサージ</td>\n",
       "      <td>34.947078</td>\n",
       "      <td>136.884972</td>\n",
       "    </tr>\n",
       "    <tr>\n",
       "      <th>2</th>\n",
       "      <td>2deb0ff0-5909-c169-4a23-4ed3979467fc</td>\n",
       "      <td>Aichi Ken</td>\n",
       "      <td>Agui Cho</td>\n",
       "      <td>その他</td>\n",
       "      <td>34.926083</td>\n",
       "      <td>136.928418</td>\n",
       "    </tr>\n",
       "    <tr>\n",
       "      <th>3</th>\n",
       "      <td>093585a3-96ce-7513-4d60-1dd36c4b30d2</td>\n",
       "      <td>Aichi Ken</td>\n",
       "      <td>Agui Cho</td>\n",
       "      <td>カフェ</td>\n",
       "      <td>34.952815</td>\n",
       "      <td>136.889037</td>\n",
       "    </tr>\n",
       "    <tr>\n",
       "      <th>4</th>\n",
       "      <td>d0637fde-e4c8-4c60-5817-a3494a623a6f</td>\n",
       "      <td>Aichi Ken</td>\n",
       "      <td>Agui Cho</td>\n",
       "      <td>グルメ</td>\n",
       "      <td>34.922963</td>\n",
       "      <td>136.892997</td>\n",
       "    </tr>\n",
       "  </tbody>\n",
       "</table>\n",
       "</div>"
      ],
      "text/plain": [
       "                                     id        nam       laa category  \\\n",
       "0  139a9a4b-1cb4-cb91-f718-d0bdd7db31c9  Aichi Ken  Agui Cho   ショッピング   \n",
       "1  437e0dae-dbf7-b1a8-4a03-010b9597bbd2  Aichi Ken  Agui Cho    マッサージ   \n",
       "2  2deb0ff0-5909-c169-4a23-4ed3979467fc  Aichi Ken  Agui Cho      その他   \n",
       "3  093585a3-96ce-7513-4d60-1dd36c4b30d2  Aichi Ken  Agui Cho      カフェ   \n",
       "4  d0637fde-e4c8-4c60-5817-a3494a623a6f  Aichi Ken  Agui Cho      グルメ   \n",
       "\n",
       "         lat         lon  \n",
       "0  34.951439  136.935126  \n",
       "1  34.947078  136.884972  \n",
       "2  34.926083  136.928418  \n",
       "3  34.952815  136.889037  \n",
       "4  34.922963  136.892997  "
      ]
     },
     "execution_count": 45,
     "metadata": {},
     "output_type": "execute_result"
    }
   ],
   "source": [
    "stores.head()"
   ]
  },
  {
   "cell_type": "code",
   "execution_count": 46,
   "id": "787c7404-ac14-46c0-b68f-22683145abc6",
   "metadata": {},
   "outputs": [
    {
     "name": "stdout",
     "output_type": "stream",
     "text": [
      "<class 'pandas.core.frame.DataFrame'>\n",
      "RangeIndex: 99991 entries, 0 to 99990\n",
      "Data columns (total 6 columns):\n",
      " #   Column    Non-Null Count  Dtype  \n",
      "---  ------    --------------  -----  \n",
      " 0   id        99991 non-null  object \n",
      " 1   nam       99991 non-null  object \n",
      " 2   laa       99991 non-null  object \n",
      " 3   category  99991 non-null  object \n",
      " 4   lat       99991 non-null  float64\n",
      " 5   lon       99991 non-null  float64\n",
      "dtypes: float64(2), object(4)\n",
      "memory usage: 4.6+ MB\n"
     ]
    }
   ],
   "source": [
    "stores.info()"
   ]
  },
  {
   "cell_type": "code",
   "execution_count": 47,
   "id": "aab652e8-27d8-4187-9519-126a575cdd8a",
   "metadata": {},
   "outputs": [
    {
     "data": {
      "text/plain": [
       "その他               25860\n",
       "ショッピング            18111\n",
       "グルメ               14096\n",
       "カフェ               11873\n",
       "美容院・サロン            8987\n",
       "ファッション             4999\n",
       "ドラッグストア・薬局         3028\n",
       "ホテル・旅館             2032\n",
       "家電・携帯電話            2026\n",
       "コンビニ               2026\n",
       "ATMチャージ            1034\n",
       "エンタメ               1006\n",
       "病院・クリニック            996\n",
       "スーパーマーケット           989\n",
       "百貨店・ショッピングセンター      983\n",
       "マッサージ               976\n",
       "クリーニング              969\n",
       "Name: category, dtype: int64"
      ]
     },
     "execution_count": 47,
     "metadata": {},
     "output_type": "execute_result"
    }
   ],
   "source": [
    "stores['category'].value_counts()"
   ]
  },
  {
   "cell_type": "markdown",
   "id": "f1a47fb0-9900-4623-9a00-9b131b6e2bcd",
   "metadata": {},
   "source": [
    "#### Rename Stores Columns"
   ]
  },
  {
   "cell_type": "code",
   "execution_count": 48,
   "id": "d9d9bb92-ed12-4bb2-91a9-f6654fc58634",
   "metadata": {},
   "outputs": [],
   "source": [
    "stores.columns = ['store_id', 'nam', 'laa', 'category', 'lat', 'lon']"
   ]
  },
  {
   "cell_type": "markdown",
   "id": "986bbdb7-3688-42d2-8ac9-fb153cba6af0",
   "metadata": {},
   "source": [
    "#### Get descriptive statistics on Store data"
   ]
  },
  {
   "cell_type": "code",
   "execution_count": 49,
   "id": "25724873-886b-4c78-894d-0327b9538cca",
   "metadata": {},
   "outputs": [
    {
     "data": {
      "text/html": [
       "<div>\n",
       "<style scoped>\n",
       "    .dataframe tbody tr th:only-of-type {\n",
       "        vertical-align: middle;\n",
       "    }\n",
       "\n",
       "    .dataframe tbody tr th {\n",
       "        vertical-align: top;\n",
       "    }\n",
       "\n",
       "    .dataframe thead th {\n",
       "        text-align: right;\n",
       "    }\n",
       "</style>\n",
       "<table border=\"1\" class=\"dataframe\">\n",
       "  <thead>\n",
       "    <tr style=\"text-align: right;\">\n",
       "      <th></th>\n",
       "      <th>store_id</th>\n",
       "      <th>nam</th>\n",
       "      <th>laa</th>\n",
       "      <th>category</th>\n",
       "      <th>lat</th>\n",
       "      <th>lon</th>\n",
       "    </tr>\n",
       "  </thead>\n",
       "  <tbody>\n",
       "    <tr>\n",
       "      <th>count</th>\n",
       "      <td>99991</td>\n",
       "      <td>99991</td>\n",
       "      <td>99991</td>\n",
       "      <td>99991</td>\n",
       "      <td>99991.000000</td>\n",
       "      <td>99991.000000</td>\n",
       "    </tr>\n",
       "    <tr>\n",
       "      <th>unique</th>\n",
       "      <td>99991</td>\n",
       "      <td>47</td>\n",
       "      <td>1676</td>\n",
       "      <td>17</td>\n",
       "      <td>NaN</td>\n",
       "      <td>NaN</td>\n",
       "    </tr>\n",
       "    <tr>\n",
       "      <th>top</th>\n",
       "      <td>c408af8c-24e1-92df-2916-2fd063f10170</td>\n",
       "      <td>Tokyo To</td>\n",
       "      <td>Yokohama Shi</td>\n",
       "      <td>その他</td>\n",
       "      <td>NaN</td>\n",
       "      <td>NaN</td>\n",
       "    </tr>\n",
       "    <tr>\n",
       "      <th>freq</th>\n",
       "      <td>1</td>\n",
       "      <td>10273</td>\n",
       "      <td>2892</td>\n",
       "      <td>25860</td>\n",
       "      <td>NaN</td>\n",
       "      <td>NaN</td>\n",
       "    </tr>\n",
       "    <tr>\n",
       "      <th>mean</th>\n",
       "      <td>NaN</td>\n",
       "      <td>NaN</td>\n",
       "      <td>NaN</td>\n",
       "      <td>NaN</td>\n",
       "      <td>35.587883</td>\n",
       "      <td>137.092301</td>\n",
       "    </tr>\n",
       "    <tr>\n",
       "      <th>std</th>\n",
       "      <td>NaN</td>\n",
       "      <td>NaN</td>\n",
       "      <td>NaN</td>\n",
       "      <td>NaN</td>\n",
       "      <td>2.351620</td>\n",
       "      <td>3.428368</td>\n",
       "    </tr>\n",
       "    <tr>\n",
       "      <th>min</th>\n",
       "      <td>NaN</td>\n",
       "      <td>NaN</td>\n",
       "      <td>NaN</td>\n",
       "      <td>NaN</td>\n",
       "      <td>24.240666</td>\n",
       "      <td>122.988929</td>\n",
       "    </tr>\n",
       "    <tr>\n",
       "      <th>25%</th>\n",
       "      <td>NaN</td>\n",
       "      <td>NaN</td>\n",
       "      <td>NaN</td>\n",
       "      <td>NaN</td>\n",
       "      <td>34.676470</td>\n",
       "      <td>135.359701</td>\n",
       "    </tr>\n",
       "    <tr>\n",
       "      <th>50%</th>\n",
       "      <td>NaN</td>\n",
       "      <td>NaN</td>\n",
       "      <td>NaN</td>\n",
       "      <td>NaN</td>\n",
       "      <td>35.411915</td>\n",
       "      <td>138.090990</td>\n",
       "    </tr>\n",
       "    <tr>\n",
       "      <th>75%</th>\n",
       "      <td>NaN</td>\n",
       "      <td>NaN</td>\n",
       "      <td>NaN</td>\n",
       "      <td>NaN</td>\n",
       "      <td>35.916380</td>\n",
       "      <td>139.718822</td>\n",
       "    </tr>\n",
       "    <tr>\n",
       "      <th>max</th>\n",
       "      <td>NaN</td>\n",
       "      <td>NaN</td>\n",
       "      <td>NaN</td>\n",
       "      <td>NaN</td>\n",
       "      <td>45.451839</td>\n",
       "      <td>146.174823</td>\n",
       "    </tr>\n",
       "  </tbody>\n",
       "</table>\n",
       "</div>"
      ],
      "text/plain": [
       "                                    store_id       nam           laa category  \\\n",
       "count                                  99991     99991         99991    99991   \n",
       "unique                                 99991        47          1676       17   \n",
       "top     c408af8c-24e1-92df-2916-2fd063f10170  Tokyo To  Yokohama Shi      その他   \n",
       "freq                                       1     10273          2892    25860   \n",
       "mean                                     NaN       NaN           NaN      NaN   \n",
       "std                                      NaN       NaN           NaN      NaN   \n",
       "min                                      NaN       NaN           NaN      NaN   \n",
       "25%                                      NaN       NaN           NaN      NaN   \n",
       "50%                                      NaN       NaN           NaN      NaN   \n",
       "75%                                      NaN       NaN           NaN      NaN   \n",
       "max                                      NaN       NaN           NaN      NaN   \n",
       "\n",
       "                 lat           lon  \n",
       "count   99991.000000  99991.000000  \n",
       "unique           NaN           NaN  \n",
       "top              NaN           NaN  \n",
       "freq             NaN           NaN  \n",
       "mean       35.587883    137.092301  \n",
       "std         2.351620      3.428368  \n",
       "min        24.240666    122.988929  \n",
       "25%        34.676470    135.359701  \n",
       "50%        35.411915    138.090990  \n",
       "75%        35.916380    139.718822  \n",
       "max        45.451839    146.174823  "
      ]
     },
     "execution_count": 49,
     "metadata": {},
     "output_type": "execute_result"
    }
   ],
   "source": [
    "stores.describe(include='all')"
   ]
  },
  {
   "cell_type": "markdown",
   "id": "49da31d6-39a8-4e17-9929-3ee2e835aae0",
   "metadata": {},
   "source": [
    "Lat and Lon columns are looking fine since the max values are not shifted too much on the mean relative to the std deviation."
   ]
  },
  {
   "cell_type": "markdown",
   "id": "24873ec6-7b0c-42d4-b7d5-dea445d0c956",
   "metadata": {},
   "source": [
    "Since the **category** column is still in Japanese, we'll translate it into English for readability."
   ]
  },
  {
   "cell_type": "code",
   "execution_count": 50,
   "id": "396e7b1a-b871-4d40-a232-d9b535876e29",
   "metadata": {},
   "outputs": [],
   "source": [
    "# その他               25860\n",
    "# ショッピング            18111\n",
    "# グルメ               14096\n",
    "# カフェ               11873\n",
    "# 美容院・サロン            8987\n",
    "# ファッション             4999\n",
    "# ドラッグストア・薬局         3028\n",
    "# ホテル・旅館             2032\n",
    "# 家電・携帯電話            2026\n",
    "# コンビニ               2026\n",
    "# ATMチャージ            1034\n",
    "# エンタメ               1006\n",
    "# 病院・クリニック            996\n",
    "# スーパーマーケット           989\n",
    "# 百貨店・ショッピングセンター      983\n",
    "# マッサージ               976\n",
    "# クリーニング              969\n",
    "store_category_map = {\n",
    "    'コンビニ': 'conv store',\n",
    "    'ショッピング': 'shopping',\n",
    "    'グルメ': 'gourmet',\n",
    "    'スーパーマーケット': 'supermarket',\n",
    "    'カフェ': 'cafe',\n",
    "    'その他': 'others',\n",
    "    'ファッション': 'fashion',\n",
    "    'ドラッグストア・薬局': 'pharmacy',\n",
    "    'エンタメ': 'entertainment',\n",
    "    'マッサージ': 'massage',\n",
    "    '美容院・サロン': 'salon',\n",
    "    '家電・携帯電話': 'home appliances',\n",
    "    'ホテル・旅館': 'hotel',\n",
    "    '病院・クリニック': 'hospital',\n",
    "    'クリーニング': 'cleaning',\n",
    "    '百貨店・ショッピングセンター': 'dept store',\n",
    "    'ATMチャージ' : 'atm charge'\n",
    "}"
   ]
  },
  {
   "cell_type": "code",
   "execution_count": 51,
   "id": "ea0b7853-25a1-4034-aeac-4232c2978e6c",
   "metadata": {},
   "outputs": [],
   "source": [
    "stores['category_new'] = stores['category'].map(store_category_map)"
   ]
  },
  {
   "cell_type": "code",
   "execution_count": 52,
   "id": "89d2dceb-535b-4d63-a9e5-a9557b440cfa",
   "metadata": {},
   "outputs": [
    {
     "data": {
      "text/html": [
       "<div>\n",
       "<style scoped>\n",
       "    .dataframe tbody tr th:only-of-type {\n",
       "        vertical-align: middle;\n",
       "    }\n",
       "\n",
       "    .dataframe tbody tr th {\n",
       "        vertical-align: top;\n",
       "    }\n",
       "\n",
       "    .dataframe thead th {\n",
       "        text-align: right;\n",
       "    }\n",
       "</style>\n",
       "<table border=\"1\" class=\"dataframe\">\n",
       "  <thead>\n",
       "    <tr style=\"text-align: right;\">\n",
       "      <th></th>\n",
       "      <th>store_id</th>\n",
       "      <th>nam</th>\n",
       "      <th>laa</th>\n",
       "      <th>category</th>\n",
       "      <th>lat</th>\n",
       "      <th>lon</th>\n",
       "      <th>category_new</th>\n",
       "    </tr>\n",
       "  </thead>\n",
       "  <tbody>\n",
       "  </tbody>\n",
       "</table>\n",
       "</div>"
      ],
      "text/plain": [
       "Empty DataFrame\n",
       "Columns: [store_id, nam, laa, category, lat, lon, category_new]\n",
       "Index: []"
      ]
     },
     "execution_count": 52,
     "metadata": {},
     "output_type": "execute_result"
    }
   ],
   "source": [
    "stores[stores['category_new'].isna()]"
   ]
  },
  {
   "cell_type": "code",
   "execution_count": 53,
   "id": "578898c1-5563-4e38-9174-be6b3e17d5df",
   "metadata": {},
   "outputs": [],
   "source": [
    "stores.drop('category', axis=1, inplace = True)\n",
    "stores.rename(columns = {'category_new': 'category'}, inplace = True)"
   ]
  },
  {
   "cell_type": "code",
   "execution_count": 54,
   "id": "09c16209-6900-47a1-9bbe-ed2b4d812a04",
   "metadata": {},
   "outputs": [
    {
     "data": {
      "text/html": [
       "<div>\n",
       "<style scoped>\n",
       "    .dataframe tbody tr th:only-of-type {\n",
       "        vertical-align: middle;\n",
       "    }\n",
       "\n",
       "    .dataframe tbody tr th {\n",
       "        vertical-align: top;\n",
       "    }\n",
       "\n",
       "    .dataframe thead th {\n",
       "        text-align: right;\n",
       "    }\n",
       "</style>\n",
       "<table border=\"1\" class=\"dataframe\">\n",
       "  <thead>\n",
       "    <tr style=\"text-align: right;\">\n",
       "      <th></th>\n",
       "      <th>store_id</th>\n",
       "      <th>nam</th>\n",
       "      <th>laa</th>\n",
       "      <th>lat</th>\n",
       "      <th>lon</th>\n",
       "      <th>category</th>\n",
       "    </tr>\n",
       "  </thead>\n",
       "  <tbody>\n",
       "    <tr>\n",
       "      <th>0</th>\n",
       "      <td>139a9a4b-1cb4-cb91-f718-d0bdd7db31c9</td>\n",
       "      <td>Aichi Ken</td>\n",
       "      <td>Agui Cho</td>\n",
       "      <td>34.951439</td>\n",
       "      <td>136.935126</td>\n",
       "      <td>shopping</td>\n",
       "    </tr>\n",
       "    <tr>\n",
       "      <th>1</th>\n",
       "      <td>437e0dae-dbf7-b1a8-4a03-010b9597bbd2</td>\n",
       "      <td>Aichi Ken</td>\n",
       "      <td>Agui Cho</td>\n",
       "      <td>34.947078</td>\n",
       "      <td>136.884972</td>\n",
       "      <td>massage</td>\n",
       "    </tr>\n",
       "    <tr>\n",
       "      <th>2</th>\n",
       "      <td>2deb0ff0-5909-c169-4a23-4ed3979467fc</td>\n",
       "      <td>Aichi Ken</td>\n",
       "      <td>Agui Cho</td>\n",
       "      <td>34.926083</td>\n",
       "      <td>136.928418</td>\n",
       "      <td>others</td>\n",
       "    </tr>\n",
       "    <tr>\n",
       "      <th>3</th>\n",
       "      <td>093585a3-96ce-7513-4d60-1dd36c4b30d2</td>\n",
       "      <td>Aichi Ken</td>\n",
       "      <td>Agui Cho</td>\n",
       "      <td>34.952815</td>\n",
       "      <td>136.889037</td>\n",
       "      <td>cafe</td>\n",
       "    </tr>\n",
       "    <tr>\n",
       "      <th>4</th>\n",
       "      <td>d0637fde-e4c8-4c60-5817-a3494a623a6f</td>\n",
       "      <td>Aichi Ken</td>\n",
       "      <td>Agui Cho</td>\n",
       "      <td>34.922963</td>\n",
       "      <td>136.892997</td>\n",
       "      <td>gourmet</td>\n",
       "    </tr>\n",
       "  </tbody>\n",
       "</table>\n",
       "</div>"
      ],
      "text/plain": [
       "                               store_id        nam       laa        lat  \\\n",
       "0  139a9a4b-1cb4-cb91-f718-d0bdd7db31c9  Aichi Ken  Agui Cho  34.951439   \n",
       "1  437e0dae-dbf7-b1a8-4a03-010b9597bbd2  Aichi Ken  Agui Cho  34.947078   \n",
       "2  2deb0ff0-5909-c169-4a23-4ed3979467fc  Aichi Ken  Agui Cho  34.926083   \n",
       "3  093585a3-96ce-7513-4d60-1dd36c4b30d2  Aichi Ken  Agui Cho  34.952815   \n",
       "4  d0637fde-e4c8-4c60-5817-a3494a623a6f  Aichi Ken  Agui Cho  34.922963   \n",
       "\n",
       "          lon  category  \n",
       "0  136.935126  shopping  \n",
       "1  136.884972   massage  \n",
       "2  136.928418    others  \n",
       "3  136.889037      cafe  \n",
       "4  136.892997   gourmet  "
      ]
     },
     "execution_count": 54,
     "metadata": {},
     "output_type": "execute_result"
    }
   ],
   "source": [
    "stores.head()"
   ]
  },
  {
   "cell_type": "markdown",
   "id": "97fc11e6-2be7-4798-b67c-fe7edcfde1e3",
   "metadata": {},
   "source": [
    "### Checking on data completeness"
   ]
  },
  {
   "cell_type": "markdown",
   "id": "79ef6d43-e5e9-4289-8afb-ee148244911e",
   "metadata": {},
   "source": [
    "#### Join trx with users"
   ]
  },
  {
   "cell_type": "code",
   "execution_count": 55,
   "id": "50a2504d-ae3e-4966-a9de-3ead816e2bc9",
   "metadata": {},
   "outputs": [
    {
     "name": "stdout",
     "output_type": "stream",
     "text": [
      "\n",
      "# of Rows Before join trx dataframe with users: 1582260\n",
      "# of Rows After join trx dataframe with users: 1582260\n",
      "\n"
     ]
    }
   ],
   "source": [
    "print(f\"\"\"\n",
    "# of Rows Before join trx dataframe with users: {trx.shape[0]}\n",
    "# of Rows After join trx dataframe with users: {trx.merge(users,how = 'inner',left_on = 'user_id',right_on = 'user_id').shape[0]}\n",
    "\"\"\")"
   ]
  },
  {
   "cell_type": "markdown",
   "id": "cbb61dcf-e6c6-4eeb-b95e-898ef5ffef3c",
   "metadata": {},
   "source": [
    "Because the number before and after the join is the same, we can conclude that <u>**user_id in trx**</u> has corresponding <u>**user_id in users**</u> table"
   ]
  },
  {
   "cell_type": "markdown",
   "id": "35fa565d-cd41-4856-99fe-06f5f31f1f6f",
   "metadata": {},
   "source": [
    "#### Join trx with Stores"
   ]
  },
  {
   "cell_type": "code",
   "execution_count": 56,
   "id": "d26c034c-4d57-46a8-800d-be91f46ea172",
   "metadata": {},
   "outputs": [
    {
     "name": "stdout",
     "output_type": "stream",
     "text": [
      "\n",
      "# of Rows Before join trx dataframe with users: 1582260\n",
      "# of Rows After join trx dataframe with users: 1582260\n",
      "\n"
     ]
    }
   ],
   "source": [
    "print(f\"\"\"\n",
    "# of Rows Before join trx dataframe with users: {trx.shape[0]}\n",
    "# of Rows After join trx dataframe with users: {trx.merge(stores,how = 'inner',left_on = 'store_id',right_on = 'store_id').shape[0]}\n",
    "\"\"\")"
   ]
  },
  {
   "cell_type": "markdown",
   "id": "8109d6ce-aad3-44cc-9e82-5b7b6eac95f2",
   "metadata": {},
   "source": [
    "Same with users table, <u>**store_id in trx**</u> has corresponding <u>**store_id in stores**</u> table"
   ]
  },
  {
   "cell_type": "markdown",
   "id": "3ddedfa6-5396-4c85-affd-d17144d3d17d",
   "metadata": {},
   "source": [
    "### Merge all tables to one Final table"
   ]
  },
  {
   "cell_type": "code",
   "execution_count": 57,
   "id": "6801c0d2-01e4-49d3-a656-7d18dcedff13",
   "metadata": {},
   "outputs": [],
   "source": [
    "trx_fin = trx.merge(\n",
    "    users,\n",
    "    how = 'inner',\n",
    "    left_on = 'user_id',\n",
    "    right_on = 'user_id'\n",
    ").merge(\n",
    "    stores,\n",
    "    how = 'inner',\n",
    "    left_on = 'store_id',\n",
    "    right_on = 'store_id'\n",
    ")"
   ]
  },
  {
   "cell_type": "code",
   "execution_count": 58,
   "id": "c300f172-a232-4d3a-bc76-b874034128cf",
   "metadata": {},
   "outputs": [
    {
     "name": "stdout",
     "output_type": "stream",
     "text": [
      "<class 'pandas.core.frame.DataFrame'>\n",
      "Int64Index: 1582260 entries, 0 to 1582259\n",
      "Data columns (total 13 columns):\n",
      " #   Column        Non-Null Count    Dtype         \n",
      "---  ------        --------------    -----         \n",
      " 0   trx_id        1582260 non-null  object        \n",
      " 1   user_id       1582260 non-null  object        \n",
      " 2   store_id      1582260 non-null  object        \n",
      " 3   trx_datetime  1582260 non-null  datetime64[ns]\n",
      " 4   trx_amount    1582260 non-null  int64         \n",
      " 5   trx_date      1582260 non-null  object        \n",
      " 6   gender        1421978 non-null  object        \n",
      " 7   age           1505614 non-null  float64       \n",
      " 8   nam           1582260 non-null  object        \n",
      " 9   laa           1582260 non-null  object        \n",
      " 10  lat           1582260 non-null  float64       \n",
      " 11  lon           1582260 non-null  float64       \n",
      " 12  category      1582260 non-null  object        \n",
      "dtypes: datetime64[ns](1), float64(3), int64(1), object(8)\n",
      "memory usage: 169.0+ MB\n"
     ]
    }
   ],
   "source": [
    "trx_fin.info()"
   ]
  },
  {
   "cell_type": "markdown",
   "id": "9c107eb4-39ec-45cc-a61d-ffbeb5c93c5d",
   "metadata": {},
   "source": [
    "# 2. Handling Null values for Age and Gender"
   ]
  },
  {
   "cell_type": "code",
   "execution_count": 59,
   "id": "901065d8-1054-4b01-902e-316a705b9059",
   "metadata": {},
   "outputs": [
    {
     "data": {
      "text/plain": [
       "76646"
      ]
     },
     "execution_count": 59,
     "metadata": {},
     "output_type": "execute_result"
    }
   ],
   "source": [
    "## get # of rows with missing Age\n",
    "trx_fin[trx_fin['age'].isna()].shape[0]"
   ]
  },
  {
   "cell_type": "code",
   "execution_count": 60,
   "id": "52a1f575-c417-4933-86f4-f494b1aaebe4",
   "metadata": {},
   "outputs": [
    {
     "data": {
      "text/plain": [
       "160282"
      ]
     },
     "execution_count": 60,
     "metadata": {},
     "output_type": "execute_result"
    }
   ],
   "source": [
    "## get # of rows with missing Gender\n",
    "trx_fin[trx_fin['gender'].isna()].shape[0]"
   ]
  },
  {
   "cell_type": "markdown",
   "id": "5e0d0e86-e07a-4f4d-b8b6-e67c58601f6c",
   "metadata": {},
   "source": [
    "Before we choose to either drop the null rows or impute the columns, we need to look at the distribution first. If the distribution of the data differs significantly by removing the rows, then we could choose to impute the columns. "
   ]
  },
  {
   "cell_type": "markdown",
   "id": "5e2bb37f-3332-4e17-98ab-f3c243f2ddb3",
   "metadata": {},
   "source": [
    "#### Visualize the distribution of the **trx_amount**"
   ]
  },
  {
   "cell_type": "code",
   "execution_count": 61,
   "id": "7332fee7-e103-41d8-8ac7-a0808fd73da6",
   "metadata": {},
   "outputs": [
    {
     "data": {
      "image/png": "[encoded data removed]",
      "text/plain": [
       "<Figure size 1440x360 with 2 Axes>"
      ]
     },
     "metadata": {
      "needs_background": "light"
     },
     "output_type": "display_data"
    }
   ],
   "source": [
    "fig, ax = plt.subplots(1,2,figsize=(20,5))\n",
    "\n",
    "sns.histplot(x='trx_amount', data=trx_fin, ax = ax[0])\n",
    "sns.kdeplot(x='trx_amount', data=trx_fin, ax = ax[1])\n",
    "plt.show()"
   ]
  },
  {
   "cell_type": "markdown",
   "id": "64c5cd7f-5d94-41d3-bf51-ab83663bf0d7",
   "metadata": {},
   "source": [
    "We can't see much of the distribution because the trx_amount is highly right skewed due to outliers in the column. Therefore, we need to convert **trx_amount** to logarithmic value.\n",
    "\n",
    "By converting to **Logs**, there won't be a vast distance between values like in the original value."
   ]
  },
  {
   "cell_type": "code",
   "execution_count": 62,
   "id": "64c11a72-1b19-4368-92ab-b3a510f090de",
   "metadata": {},
   "outputs": [],
   "source": [
    "## Create a column with the log of trx_amount\n",
    "trx_fin['trx_amount_log'] = np.log(trx_fin['trx_amount'])"
   ]
  },
  {
   "cell_type": "code",
   "execution_count": 63,
   "id": "77a26e3a-4536-4cca-8a66-1b3a81da0cee",
   "metadata": {},
   "outputs": [
    {
     "data": {
      "text/html": [
       "<div>\n",
       "<style scoped>\n",
       "    .dataframe tbody tr th:only-of-type {\n",
       "        vertical-align: middle;\n",
       "    }\n",
       "\n",
       "    .dataframe tbody tr th {\n",
       "        vertical-align: top;\n",
       "    }\n",
       "\n",
       "    .dataframe thead th {\n",
       "        text-align: right;\n",
       "    }\n",
       "</style>\n",
       "<table border=\"1\" class=\"dataframe\">\n",
       "  <thead>\n",
       "    <tr style=\"text-align: right;\">\n",
       "      <th></th>\n",
       "      <th>trx_id</th>\n",
       "      <th>user_id</th>\n",
       "      <th>store_id</th>\n",
       "      <th>trx_datetime</th>\n",
       "      <th>trx_amount</th>\n",
       "      <th>trx_date</th>\n",
       "      <th>gender</th>\n",
       "      <th>age</th>\n",
       "      <th>nam</th>\n",
       "      <th>laa</th>\n",
       "      <th>lat</th>\n",
       "      <th>lon</th>\n",
       "      <th>category</th>\n",
       "      <th>trx_amount_log</th>\n",
       "    </tr>\n",
       "  </thead>\n",
       "  <tbody>\n",
       "    <tr>\n",
       "      <th>0</th>\n",
       "      <td>a555eb55-1da4-6087-b5ab-06b35b608002</td>\n",
       "      <td>93098549-3ff0-e579-01c3-df9183278f64</td>\n",
       "      <td>a3c7874b-75df-9cf2-62ab-cf58be5d9e0e</td>\n",
       "      <td>2020-01-01 06:40:43.323987</td>\n",
       "      <td>315</td>\n",
       "      <td>2020-01-01</td>\n",
       "      <td>M</td>\n",
       "      <td>88.0</td>\n",
       "      <td>Saitama Ken</td>\n",
       "      <td>Soka Shi</td>\n",
       "      <td>35.830649</td>\n",
       "      <td>139.809781</td>\n",
       "      <td>conv store</td>\n",
       "      <td>5.752573</td>\n",
       "    </tr>\n",
       "    <tr>\n",
       "      <th>1</th>\n",
       "      <td>5c3d2349-481f-1c77-a887-76be83e023d7</td>\n",
       "      <td>93098549-3ff0-e579-01c3-df9183278f64</td>\n",
       "      <td>a3c7874b-75df-9cf2-62ab-cf58be5d9e0e</td>\n",
       "      <td>2020-07-27 09:40:51.440810</td>\n",
       "      <td>219</td>\n",
       "      <td>2020-07-27</td>\n",
       "      <td>M</td>\n",
       "      <td>88.0</td>\n",
       "      <td>Saitama Ken</td>\n",
       "      <td>Soka Shi</td>\n",
       "      <td>35.830649</td>\n",
       "      <td>139.809781</td>\n",
       "      <td>conv store</td>\n",
       "      <td>5.389072</td>\n",
       "    </tr>\n",
       "    <tr>\n",
       "      <th>2</th>\n",
       "      <td>502bcb78-287a-fadf-390e-38d6244737ae</td>\n",
       "      <td>1f8a8d4e-dec8-e4da-7c8e-901e84151b73</td>\n",
       "      <td>a3c7874b-75df-9cf2-62ab-cf58be5d9e0e</td>\n",
       "      <td>2020-02-25 11:15:27.237772</td>\n",
       "      <td>193</td>\n",
       "      <td>2020-02-25</td>\n",
       "      <td>F</td>\n",
       "      <td>59.0</td>\n",
       "      <td>Saitama Ken</td>\n",
       "      <td>Soka Shi</td>\n",
       "      <td>35.830649</td>\n",
       "      <td>139.809781</td>\n",
       "      <td>conv store</td>\n",
       "      <td>5.262690</td>\n",
       "    </tr>\n",
       "    <tr>\n",
       "      <th>3</th>\n",
       "      <td>0e96330f-d581-9270-fec5-ced105081bea</td>\n",
       "      <td>1f8a8d4e-dec8-e4da-7c8e-901e84151b73</td>\n",
       "      <td>a3c7874b-75df-9cf2-62ab-cf58be5d9e0e</td>\n",
       "      <td>2020-04-22 12:20:33.925248</td>\n",
       "      <td>678</td>\n",
       "      <td>2020-04-22</td>\n",
       "      <td>F</td>\n",
       "      <td>59.0</td>\n",
       "      <td>Saitama Ken</td>\n",
       "      <td>Soka Shi</td>\n",
       "      <td>35.830649</td>\n",
       "      <td>139.809781</td>\n",
       "      <td>conv store</td>\n",
       "      <td>6.519147</td>\n",
       "    </tr>\n",
       "    <tr>\n",
       "      <th>4</th>\n",
       "      <td>23265b10-4398-90b1-cdbc-c2c38a570774</td>\n",
       "      <td>1f8a8d4e-dec8-e4da-7c8e-901e84151b73</td>\n",
       "      <td>a3c7874b-75df-9cf2-62ab-cf58be5d9e0e</td>\n",
       "      <td>2021-04-02 11:47:18.325738</td>\n",
       "      <td>964</td>\n",
       "      <td>2021-04-02</td>\n",
       "      <td>F</td>\n",
       "      <td>59.0</td>\n",
       "      <td>Saitama Ken</td>\n",
       "      <td>Soka Shi</td>\n",
       "      <td>35.830649</td>\n",
       "      <td>139.809781</td>\n",
       "      <td>conv store</td>\n",
       "      <td>6.871091</td>\n",
       "    </tr>\n",
       "  </tbody>\n",
       "</table>\n",
       "</div>"
      ],
      "text/plain": [
       "                                 trx_id                               user_id  \\\n",
       "0  a555eb55-1da4-6087-b5ab-06b35b608002  93098549-3ff0-e579-01c3-df9183278f64   \n",
       "1  5c3d2349-481f-1c77-a887-76be83e023d7  93098549-3ff0-e579-01c3-df9183278f64   \n",
       "2  502bcb78-287a-fadf-390e-38d6244737ae  1f8a8d4e-dec8-e4da-7c8e-901e84151b73   \n",
       "3  0e96330f-d581-9270-fec5-ced105081bea  1f8a8d4e-dec8-e4da-7c8e-901e84151b73   \n",
       "4  23265b10-4398-90b1-cdbc-c2c38a570774  1f8a8d4e-dec8-e4da-7c8e-901e84151b73   \n",
       "\n",
       "                               store_id               trx_datetime  \\\n",
       "0  a3c7874b-75df-9cf2-62ab-cf58be5d9e0e 2020-01-01 06:40:43.323987   \n",
       "1  a3c7874b-75df-9cf2-62ab-cf58be5d9e0e 2020-07-27 09:40:51.440810   \n",
       "2  a3c7874b-75df-9cf2-62ab-cf58be5d9e0e 2020-02-25 11:15:27.237772   \n",
       "3  a3c7874b-75df-9cf2-62ab-cf58be5d9e0e 2020-04-22 12:20:33.925248   \n",
       "4  a3c7874b-75df-9cf2-62ab-cf58be5d9e0e 2021-04-02 11:47:18.325738   \n",
       "\n",
       "   trx_amount    trx_date gender   age          nam       laa        lat  \\\n",
       "0         315  2020-01-01      M  88.0  Saitama Ken  Soka Shi  35.830649   \n",
       "1         219  2020-07-27      M  88.0  Saitama Ken  Soka Shi  35.830649   \n",
       "2         193  2020-02-25      F  59.0  Saitama Ken  Soka Shi  35.830649   \n",
       "3         678  2020-04-22      F  59.0  Saitama Ken  Soka Shi  35.830649   \n",
       "4         964  2021-04-02      F  59.0  Saitama Ken  Soka Shi  35.830649   \n",
       "\n",
       "          lon    category  trx_amount_log  \n",
       "0  139.809781  conv store        5.752573  \n",
       "1  139.809781  conv store        5.389072  \n",
       "2  139.809781  conv store        5.262690  \n",
       "3  139.809781  conv store        6.519147  \n",
       "4  139.809781  conv store        6.871091  "
      ]
     },
     "execution_count": 63,
     "metadata": {},
     "output_type": "execute_result"
    }
   ],
   "source": [
    "trx_fin.head()"
   ]
  },
  {
   "cell_type": "code",
   "execution_count": 64,
   "id": "a6244b42-3090-4e17-b650-1c3f2477a374",
   "metadata": {},
   "outputs": [
    {
     "data": {
      "image/png": "[encoded data removed]",
      "text/plain": [
       "<Figure size 1440x360 with 2 Axes>"
      ]
     },
     "metadata": {
      "needs_background": "light"
     },
     "output_type": "display_data"
    }
   ],
   "source": [
    "fig, axes = plt.subplots(1,2,figsize=(20,5), sharex=True)\n",
    "\n",
    "sns.histplot(x='trx_amount_log', data=trx_fin, ax = axes[0])\n",
    "sns.kdeplot(x='trx_amount_log', data=trx_fin, ax = axes[1])\n",
    "plt.suptitle('Distribution of Transaction Amount prior to Missing value Treatment')\n",
    "axes[0].set_xlabel('Trx Amount (Log)')\n",
    "axes[1].set_xlabel('Trx Amount (Log)')\n",
    "plt.show()"
   ]
  },
  {
   "cell_type": "markdown",
   "id": "834e4fea-ce10-4a92-9f05-01e0492365aa",
   "metadata": {},
   "source": [
    "#### DELETE Rows with Null Age or Gender Columns"
   ]
  },
  {
   "cell_type": "code",
   "execution_count": 65,
   "id": "97ad1283-609c-4061-8b31-3616b30e05d3",
   "metadata": {},
   "outputs": [],
   "source": [
    "trx_fin_del = trx_fin[(~trx_fin['age'].isna()) & (~trx_fin['gender'].isna())]"
   ]
  },
  {
   "cell_type": "code",
   "execution_count": 66,
   "id": "2618f2b4-edce-4260-8913-41a6b6da7ace",
   "metadata": {},
   "outputs": [
    {
     "name": "stdout",
     "output_type": "stream",
     "text": [
      "\n",
      "Before row deletion: 1582260 Rows.\n",
      "After row deletion: 1421978 Rows.\n",
      "Reduction of: -10.13%\n",
      "\n"
     ]
    }
   ],
   "source": [
    "print(f\"\"\"\n",
    "Before row deletion: {trx_fin.shape[0]} Rows.\n",
    "After row deletion: {trx_fin_del.shape[0]} Rows.\n",
    "Reduction of: {(trx_fin_del.shape[0] / trx_fin.shape[0])-1:.2%}\n",
    "\"\"\")"
   ]
  },
  {
   "cell_type": "markdown",
   "id": "f6076953-ede5-490f-bc44-aef586789c5e",
   "metadata": {},
   "source": [
    "Checking the distribution after deletion"
   ]
  },
  {
   "cell_type": "code",
   "execution_count": 67,
   "id": "e52d2aba-ffe8-41cb-8684-ec086c1fdc45",
   "metadata": {},
   "outputs": [
    {
     "data": {
      "image/png": "[encoded data removed]",
      "text/plain": [
       "<Figure size 1440x360 with 2 Axes>"
      ]
     },
     "metadata": {
      "needs_background": "light"
     },
     "output_type": "display_data"
    }
   ],
   "source": [
    "fig, axes = plt.subplots(1,2,figsize=(20,5))\n",
    "\n",
    "sns.histplot(x='trx_amount_log', data=trx_fin_del, ax = axes[0])\n",
    "sns.kdeplot(x='trx_amount_log', data=trx_fin_del, ax = axes[1])\n",
    "plt.suptitle('Distribution of Transaction Amount AFTER Delete Rows with Missing value')\n",
    "axes[0].set_xlabel('Trx Amount (Log)')\n",
    "axes[1].set_xlabel('Trx Amount (Log)')\n",
    "plt.show()"
   ]
  },
  {
   "cell_type": "markdown",
   "id": "8dea96ee-0f11-4807-850d-2a1ff2e1ffde",
   "metadata": {},
   "source": [
    "**Conclusion**: Since the reduction after deletion is only 10%, and after the deletion there was no significant difference in distribution of the Transaction Amount, we can continue the analysis by removing rows with missing Gender and Age values."
   ]
  },
  {
   "cell_type": "markdown",
   "id": "8190a5e7-5339-4b54-9520-c8916339a0a6",
   "metadata": {},
   "source": [
    "#### Save the cleaned and raw dataframe to csv"
   ]
  },
  {
   "cell_type": "code",
   "execution_count": 68,
   "id": "e72bf8e9-2965-4cd7-af64-48335ceb1a7a",
   "metadata": {},
   "outputs": [
    {
     "name": "stdout",
     "output_type": "stream",
     "text": [
      "<class 'pandas.core.frame.DataFrame'>\n",
      "Int64Index: 1582260 entries, 0 to 1582259\n",
      "Data columns (total 14 columns):\n",
      " #   Column          Non-Null Count    Dtype         \n",
      "---  ------          --------------    -----         \n",
      " 0   trx_id          1582260 non-null  object        \n",
      " 1   user_id         1582260 non-null  object        \n",
      " 2   store_id        1582260 non-null  object        \n",
      " 3   trx_datetime    1582260 non-null  datetime64[ns]\n",
      " 4   trx_amount      1582260 non-null  int64         \n",
      " 5   trx_date        1582260 non-null  object        \n",
      " 6   gender          1421978 non-null  object        \n",
      " 7   age             1505614 non-null  float64       \n",
      " 8   nam             1582260 non-null  object        \n",
      " 9   laa             1582260 non-null  object        \n",
      " 10  lat             1582260 non-null  float64       \n",
      " 11  lon             1582260 non-null  float64       \n",
      " 12  category        1582260 non-null  object        \n",
      " 13  trx_amount_log  1582260 non-null  float64       \n",
      "dtypes: datetime64[ns](1), float64(4), int64(1), object(8)\n",
      "memory usage: 213.3+ MB\n"
     ]
    }
   ],
   "source": [
    "trx_fin.info()"
   ]
  },
  {
   "cell_type": "code",
   "execution_count": 69,
   "id": "7677b20d-10cd-44dd-97b9-8e98e56091d5",
   "metadata": {},
   "outputs": [
    {
     "name": "stdout",
     "output_type": "stream",
     "text": [
      "<class 'pandas.core.frame.DataFrame'>\n",
      "Int64Index: 1421978 entries, 0 to 1582259\n",
      "Data columns (total 14 columns):\n",
      " #   Column          Non-Null Count    Dtype         \n",
      "---  ------          --------------    -----         \n",
      " 0   trx_id          1421978 non-null  object        \n",
      " 1   user_id         1421978 non-null  object        \n",
      " 2   store_id        1421978 non-null  object        \n",
      " 3   trx_datetime    1421978 non-null  datetime64[ns]\n",
      " 4   trx_amount      1421978 non-null  int64         \n",
      " 5   trx_date        1421978 non-null  object        \n",
      " 6   gender          1421978 non-null  object        \n",
      " 7   age             1421978 non-null  float64       \n",
      " 8   nam             1421978 non-null  object        \n",
      " 9   laa             1421978 non-null  object        \n",
      " 10  lat             1421978 non-null  float64       \n",
      " 11  lon             1421978 non-null  float64       \n",
      " 12  category        1421978 non-null  object        \n",
      " 13  trx_amount_log  1421978 non-null  float64       \n",
      "dtypes: datetime64[ns](1), float64(4), int64(1), object(8)\n",
      "memory usage: 162.7+ MB\n"
     ]
    }
   ],
   "source": [
    "trx_fin_del.info()"
   ]
  },
  {
   "cell_type": "code",
   "execution_count": 70,
   "id": "b7a22cf9-6e12-4638-b641-35b0badeeeb2",
   "metadata": {},
   "outputs": [],
   "source": [
    "trx_fin_del.drop(\n",
    "    'trx_amount_log', \n",
    "    axis = 1\n",
    ").to_csv(\n",
    "    f\"{configs['INTERMEDIATE_PATH']}/trx_clean.csv\", index=False\n",
    ")"
   ]
  },
  {
   "cell_type": "code",
   "execution_count": 71,
   "id": "40d42b5b-5a94-4113-82df-eac010ba81e7",
   "metadata": {},
   "outputs": [],
   "source": [
    "trx_fin.drop(\n",
    "    'trx_amount_log', \n",
    "    axis = 1\n",
    ").to_csv(\n",
    "    f\"{configs['INTERMEDIATE_PATH']}/trx_fin_raw.csv\", index=False\n",
    ")"
   ]
  },
  {
   "cell_type": "markdown",
   "id": "3893143b-2369-4b9a-9b1e-223ec9ef866a",
   "metadata": {},
   "source": [
    "# 3. Exploratory Data Analysis"
   ]
  },
  {
   "cell_type": "code",
   "execution_count": 4,
   "id": "5689bb87-45cb-4925-a50f-ad5913dcd6ae",
   "metadata": {},
   "outputs": [],
   "source": [
    "trx_fin = pd.read_csv(f\"{configs['INTERMEDIATE_PATH']}/trx_clean.csv\")"
   ]
  },
  {
   "cell_type": "code",
   "execution_count": 5,
   "id": "761f0bb4-c45b-4d20-a3e5-c3ce3da28b20",
   "metadata": {},
   "outputs": [
    {
     "data": {
      "text/html": [
       "<div>\n",
       "<style scoped>\n",
       "    .dataframe tbody tr th:only-of-type {\n",
       "        vertical-align: middle;\n",
       "    }\n",
       "\n",
       "    .dataframe tbody tr th {\n",
       "        vertical-align: top;\n",
       "    }\n",
       "\n",
       "    .dataframe thead th {\n",
       "        text-align: right;\n",
       "    }\n",
       "</style>\n",
       "<table border=\"1\" class=\"dataframe\">\n",
       "  <thead>\n",
       "    <tr style=\"text-align: right;\">\n",
       "      <th></th>\n",
       "      <th>trx_id</th>\n",
       "      <th>user_id</th>\n",
       "      <th>store_id</th>\n",
       "      <th>trx_datetime</th>\n",
       "      <th>trx_amount</th>\n",
       "      <th>trx_date</th>\n",
       "      <th>gender</th>\n",
       "      <th>age</th>\n",
       "      <th>nam</th>\n",
       "      <th>laa</th>\n",
       "      <th>lat</th>\n",
       "      <th>lon</th>\n",
       "      <th>category</th>\n",
       "    </tr>\n",
       "  </thead>\n",
       "  <tbody>\n",
       "    <tr>\n",
       "      <th>0</th>\n",
       "      <td>a555eb55-1da4-6087-b5ab-06b35b608002</td>\n",
       "      <td>93098549-3ff0-e579-01c3-df9183278f64</td>\n",
       "      <td>a3c7874b-75df-9cf2-62ab-cf58be5d9e0e</td>\n",
       "      <td>2020-01-01 06:40:43.323987</td>\n",
       "      <td>315</td>\n",
       "      <td>2020-01-01</td>\n",
       "      <td>M</td>\n",
       "      <td>88.0</td>\n",
       "      <td>Saitama Ken</td>\n",
       "      <td>Soka Shi</td>\n",
       "      <td>35.830649</td>\n",
       "      <td>139.809781</td>\n",
       "      <td>conv store</td>\n",
       "    </tr>\n",
       "    <tr>\n",
       "      <th>1</th>\n",
       "      <td>5c3d2349-481f-1c77-a887-76be83e023d7</td>\n",
       "      <td>93098549-3ff0-e579-01c3-df9183278f64</td>\n",
       "      <td>a3c7874b-75df-9cf2-62ab-cf58be5d9e0e</td>\n",
       "      <td>2020-07-27 09:40:51.440810</td>\n",
       "      <td>219</td>\n",
       "      <td>2020-07-27</td>\n",
       "      <td>M</td>\n",
       "      <td>88.0</td>\n",
       "      <td>Saitama Ken</td>\n",
       "      <td>Soka Shi</td>\n",
       "      <td>35.830649</td>\n",
       "      <td>139.809781</td>\n",
       "      <td>conv store</td>\n",
       "    </tr>\n",
       "    <tr>\n",
       "      <th>2</th>\n",
       "      <td>502bcb78-287a-fadf-390e-38d6244737ae</td>\n",
       "      <td>1f8a8d4e-dec8-e4da-7c8e-901e84151b73</td>\n",
       "      <td>a3c7874b-75df-9cf2-62ab-cf58be5d9e0e</td>\n",
       "      <td>2020-02-25 11:15:27.237772</td>\n",
       "      <td>193</td>\n",
       "      <td>2020-02-25</td>\n",
       "      <td>F</td>\n",
       "      <td>59.0</td>\n",
       "      <td>Saitama Ken</td>\n",
       "      <td>Soka Shi</td>\n",
       "      <td>35.830649</td>\n",
       "      <td>139.809781</td>\n",
       "      <td>conv store</td>\n",
       "    </tr>\n",
       "    <tr>\n",
       "      <th>3</th>\n",
       "      <td>0e96330f-d581-9270-fec5-ced105081bea</td>\n",
       "      <td>1f8a8d4e-dec8-e4da-7c8e-901e84151b73</td>\n",
       "      <td>a3c7874b-75df-9cf2-62ab-cf58be5d9e0e</td>\n",
       "      <td>2020-04-22 12:20:33.925248</td>\n",
       "      <td>678</td>\n",
       "      <td>2020-04-22</td>\n",
       "      <td>F</td>\n",
       "      <td>59.0</td>\n",
       "      <td>Saitama Ken</td>\n",
       "      <td>Soka Shi</td>\n",
       "      <td>35.830649</td>\n",
       "      <td>139.809781</td>\n",
       "      <td>conv store</td>\n",
       "    </tr>\n",
       "    <tr>\n",
       "      <th>4</th>\n",
       "      <td>23265b10-4398-90b1-cdbc-c2c38a570774</td>\n",
       "      <td>1f8a8d4e-dec8-e4da-7c8e-901e84151b73</td>\n",
       "      <td>a3c7874b-75df-9cf2-62ab-cf58be5d9e0e</td>\n",
       "      <td>2021-04-02 11:47:18.325738</td>\n",
       "      <td>964</td>\n",
       "      <td>2021-04-02</td>\n",
       "      <td>F</td>\n",
       "      <td>59.0</td>\n",
       "      <td>Saitama Ken</td>\n",
       "      <td>Soka Shi</td>\n",
       "      <td>35.830649</td>\n",
       "      <td>139.809781</td>\n",
       "      <td>conv store</td>\n",
       "    </tr>\n",
       "  </tbody>\n",
       "</table>\n",
       "</div>"
      ],
      "text/plain": [
       "                                 trx_id                               user_id  \\\n",
       "0  a555eb55-1da4-6087-b5ab-06b35b608002  93098549-3ff0-e579-01c3-df9183278f64   \n",
       "1  5c3d2349-481f-1c77-a887-76be83e023d7  93098549-3ff0-e579-01c3-df9183278f64   \n",
       "2  502bcb78-287a-fadf-390e-38d6244737ae  1f8a8d4e-dec8-e4da-7c8e-901e84151b73   \n",
       "3  0e96330f-d581-9270-fec5-ced105081bea  1f8a8d4e-dec8-e4da-7c8e-901e84151b73   \n",
       "4  23265b10-4398-90b1-cdbc-c2c38a570774  1f8a8d4e-dec8-e4da-7c8e-901e84151b73   \n",
       "\n",
       "                               store_id                trx_datetime  \\\n",
       "0  a3c7874b-75df-9cf2-62ab-cf58be5d9e0e  2020-01-01 06:40:43.323987   \n",
       "1  a3c7874b-75df-9cf2-62ab-cf58be5d9e0e  2020-07-27 09:40:51.440810   \n",
       "2  a3c7874b-75df-9cf2-62ab-cf58be5d9e0e  2020-02-25 11:15:27.237772   \n",
       "3  a3c7874b-75df-9cf2-62ab-cf58be5d9e0e  2020-04-22 12:20:33.925248   \n",
       "4  a3c7874b-75df-9cf2-62ab-cf58be5d9e0e  2021-04-02 11:47:18.325738   \n",
       "\n",
       "   trx_amount    trx_date gender   age          nam       laa        lat  \\\n",
       "0         315  2020-01-01      M  88.0  Saitama Ken  Soka Shi  35.830649   \n",
       "1         219  2020-07-27      M  88.0  Saitama Ken  Soka Shi  35.830649   \n",
       "2         193  2020-02-25      F  59.0  Saitama Ken  Soka Shi  35.830649   \n",
       "3         678  2020-04-22      F  59.0  Saitama Ken  Soka Shi  35.830649   \n",
       "4         964  2021-04-02      F  59.0  Saitama Ken  Soka Shi  35.830649   \n",
       "\n",
       "          lon    category  \n",
       "0  139.809781  conv store  \n",
       "1  139.809781  conv store  \n",
       "2  139.809781  conv store  \n",
       "3  139.809781  conv store  \n",
       "4  139.809781  conv store  "
      ]
     },
     "execution_count": 5,
     "metadata": {},
     "output_type": "execute_result"
    }
   ],
   "source": [
    "trx_fin.head()"
   ]
  },
  {
   "cell_type": "code",
   "execution_count": 6,
   "id": "3d5e2148-9ac1-4601-a5d6-e8e50d18a4e6",
   "metadata": {},
   "outputs": [
    {
     "name": "stdout",
     "output_type": "stream",
     "text": [
      "<class 'pandas.core.frame.DataFrame'>\n",
      "RangeIndex: 1421978 entries, 0 to 1421977\n",
      "Data columns (total 13 columns):\n",
      " #   Column        Non-Null Count    Dtype  \n",
      "---  ------        --------------    -----  \n",
      " 0   trx_id        1421978 non-null  object \n",
      " 1   user_id       1421978 non-null  object \n",
      " 2   store_id      1421978 non-null  object \n",
      " 3   trx_datetime  1421978 non-null  object \n",
      " 4   trx_amount    1421978 non-null  int64  \n",
      " 5   trx_date      1421978 non-null  object \n",
      " 6   gender        1421978 non-null  object \n",
      " 7   age           1421978 non-null  float64\n",
      " 8   nam           1421978 non-null  object \n",
      " 9   laa           1421978 non-null  object \n",
      " 10  lat           1421978 non-null  float64\n",
      " 11  lon           1421978 non-null  float64\n",
      " 12  category      1421978 non-null  object \n",
      "dtypes: float64(3), int64(1), object(9)\n",
      "memory usage: 141.0+ MB\n"
     ]
    }
   ],
   "source": [
    "trx_fin.info()"
   ]
  },
  {
   "cell_type": "markdown",
   "id": "f8408b93-a921-472d-91a4-f44a4b15eda5",
   "metadata": {},
   "source": [
    "### 3.1 Pareto Analysis"
   ]
  },
  {
   "cell_type": "code",
   "execution_count": 7,
   "id": "d3335e86-3781-450a-9460-751de41fa2d4",
   "metadata": {},
   "outputs": [
    {
     "data": {
      "text/plain": [
       "count    1.421978e+06\n",
       "mean     5.000995e+01\n",
       "std      1.910857e+01\n",
       "min      1.500000e+01\n",
       "25%      3.400000e+01\n",
       "50%      4.900000e+01\n",
       "75%      6.500000e+01\n",
       "max      9.000000e+01\n",
       "Name: age, dtype: float64"
      ]
     },
     "execution_count": 7,
     "metadata": {},
     "output_type": "execute_result"
    }
   ],
   "source": [
    "trx_fin['age'].describe()"
   ]
  },
  {
   "cell_type": "code",
   "execution_count": 8,
   "id": "63496f86-d344-47d8-9b9b-26bd526628cc",
   "metadata": {},
   "outputs": [],
   "source": [
    "### Create age group\n",
    "\"\"\"\n",
    "children 0-12\n",
    "teenager 13-19\n",
    "young adults 20-30\n",
    "middle aged 31-45\n",
    "old adults >45\n",
    "\"\"\"\n",
    "\n",
    "trx_fin['age_group'] = pd.cut(\n",
    "    x=trx_fin['age'], \n",
    "    bins=[0, 12, 19, 30, 45, float(\"inf\")],\n",
    "    labels=['children',\n",
    "            'teenager',\n",
    "            'young adults',\n",
    "            'middle aged',\n",
    "            'old adults'])\n"
   ]
  },
  {
   "cell_type": "code",
   "execution_count": 9,
   "id": "ee4259c6-833e-435a-b56a-acd5dd15e8ab",
   "metadata": {},
   "outputs": [
    {
     "data": {
      "text/plain": [
       "old adults      0.560402\n",
       "middle aged     0.252133\n",
       "young adults    0.148642\n",
       "teenager        0.038823\n",
       "children        0.000000\n",
       "Name: age_group, dtype: float64"
      ]
     },
     "execution_count": 9,
     "metadata": {},
     "output_type": "execute_result"
    }
   ],
   "source": [
    "trx_fin['age_group'].value_counts(normalize=True)"
   ]
  },
  {
   "cell_type": "code",
   "execution_count": 10,
   "id": "28212909-df20-45c2-abaa-adfd1b887d57",
   "metadata": {},
   "outputs": [],
   "source": [
    "trx_agg_age = trx_fin.groupby(\n",
    "    ['age_group'],\n",
    "    as_index = False,\n",
    "    observed = True\n",
    ").agg(\n",
    "    count=('trx_amount', 'size'),\n",
    "    tot_daily_amount = ('trx_amount', 'sum')\n",
    "    )\n",
    "\n",
    "trx_agg_age = trx_agg_age.sort_values('tot_daily_amount', ascending=False)\n",
    "trx_agg_age['cum_pct_trx_amount'] = round(trx_agg_age['tot_daily_amount'].cumsum() / trx_agg_age['tot_daily_amount'].sum() * 100, 2)\n",
    "trx_agg_age['cum_pct_trx_count'] = round(trx_agg_age['count'].cumsum() / trx_agg_age['count'].sum() * 100, 2)"
   ]
  },
  {
   "cell_type": "code",
   "execution_count": 11,
   "id": "59833615-f3d3-4680-b6f2-e9388899e184",
   "metadata": {},
   "outputs": [
    {
     "data": {
      "text/html": [
       "<div>\n",
       "<style scoped>\n",
       "    .dataframe tbody tr th:only-of-type {\n",
       "        vertical-align: middle;\n",
       "    }\n",
       "\n",
       "    .dataframe tbody tr th {\n",
       "        vertical-align: top;\n",
       "    }\n",
       "\n",
       "    .dataframe thead th {\n",
       "        text-align: right;\n",
       "    }\n",
       "</style>\n",
       "<table border=\"1\" class=\"dataframe\">\n",
       "  <thead>\n",
       "    <tr style=\"text-align: right;\">\n",
       "      <th></th>\n",
       "      <th>age_group</th>\n",
       "      <th>count</th>\n",
       "      <th>tot_daily_amount</th>\n",
       "      <th>cum_pct_trx_amount</th>\n",
       "      <th>cum_pct_trx_count</th>\n",
       "    </tr>\n",
       "  </thead>\n",
       "  <tbody>\n",
       "    <tr>\n",
       "      <th>3</th>\n",
       "      <td>old adults</td>\n",
       "      <td>796880</td>\n",
       "      <td>1362943368</td>\n",
       "      <td>56.24</td>\n",
       "      <td>56.04</td>\n",
       "    </tr>\n",
       "    <tr>\n",
       "      <th>2</th>\n",
       "      <td>middle aged</td>\n",
       "      <td>358527</td>\n",
       "      <td>610302716</td>\n",
       "      <td>81.42</td>\n",
       "      <td>81.25</td>\n",
       "    </tr>\n",
       "    <tr>\n",
       "      <th>1</th>\n",
       "      <td>young adults</td>\n",
       "      <td>211366</td>\n",
       "      <td>356819241</td>\n",
       "      <td>96.14</td>\n",
       "      <td>96.12</td>\n",
       "    </tr>\n",
       "    <tr>\n",
       "      <th>0</th>\n",
       "      <td>teenager</td>\n",
       "      <td>55205</td>\n",
       "      <td>93557675</td>\n",
       "      <td>100.00</td>\n",
       "      <td>100.00</td>\n",
       "    </tr>\n",
       "  </tbody>\n",
       "</table>\n",
       "</div>"
      ],
      "text/plain": [
       "      age_group   count  tot_daily_amount  cum_pct_trx_amount  \\\n",
       "3    old adults  796880        1362943368               56.24   \n",
       "2   middle aged  358527         610302716               81.42   \n",
       "1  young adults  211366         356819241               96.14   \n",
       "0      teenager   55205          93557675              100.00   \n",
       "\n",
       "   cum_pct_trx_count  \n",
       "3              56.04  \n",
       "2              81.25  \n",
       "1              96.12  \n",
       "0             100.00  "
      ]
     },
     "execution_count": 11,
     "metadata": {},
     "output_type": "execute_result"
    }
   ],
   "source": [
    "trx_agg_age"
   ]
  },
  {
   "cell_type": "code",
   "execution_count": 29,
   "id": "31ba2f0a-7222-44bb-947b-7360936870ef",
   "metadata": {
    "tags": []
   },
   "outputs": [],
   "source": [
    "# def create_count_amount_pareto(df_raw, \n",
    "#                                group_col, \n",
    "#                                xlabel=None,\n",
    "#                                return_agg_df = False\n",
    "#                               ):\n",
    "#     \"\"\"Function to create pareto analysis on specific group of transaction\n",
    "#     :df_raw: Raw dataframe before aggregated\n",
    "#     :group_col: Columm which is used as the x-axis of the analysis\n",
    "#     :count_col: Column that contains count of trx\n",
    "#     :amount_col: Column that contains amount of trx\n",
    "#     \"\"\"\n",
    "    \n",
    "#     ### CREATE DATA AGGREGATION ###\n",
    "#     df = df_raw.groupby(\n",
    "#         [group_col],\n",
    "#         as_index = False,\n",
    "#         observed = True\n",
    "#     ).agg(\n",
    "#         count=('trx_amount', 'size'),\n",
    "#         tot_daily_amount = ('trx_amount', 'sum')\n",
    "#         )\n",
    "\n",
    "#     df = df.sort_values('tot_daily_amount', ascending=False)\n",
    "#     df['cum_pct_trx_amount'] = round(df['tot_daily_amount'].cumsum() / df['tot_daily_amount'].sum() * 100, 2)\n",
    "# #     df['cum_pct_trx_count'] = round(df['count'].cumsum() / df['count'].sum() * 100, 2)\n",
    "    \n",
    "#     #### START CREATING CHART ####\n",
    "#     fig = plt.figure(figsize=(20,5))\n",
    "\n",
    "#     ### FIRST CHART\n",
    "#     ax = fig.add_subplot(121)\n",
    "#     # Plot bars (i.e. frequencies)\n",
    "#     ax.bar(df[group_col], df['tot_daily_amount'])\n",
    "#     ax.set_title(f\"{xlabel} by Total Transaction Amount\") \n",
    "#     ax.set_xlabel(xlabel)\n",
    "#     ax.set_ylabel(\"Total Trx Amount\");\n",
    "\n",
    "#     # Second y axis (i.e. cumulative percentage)\n",
    "#     ax2 = ax.twinx()\n",
    "#     ax2.plot(df[group_col], df['cum_pct_trx_amount'], color=\"red\", marker=\"D\", ms=7)\n",
    "#     ax2.axhline(80, color=\"orange\", linestyle=\"dashed\")\n",
    "#     ax2.yaxis.set_major_formatter(PercentFormatter());\n",
    "\n",
    "#     ### SECOND CHART\n",
    "    \n",
    "#     df = df.sort_values('count', ascending=False)\n",
    "# #     df['cum_pct_trx_amount'] = round(df['tot_daily_amount'].cumsum() / df['tot_daily_amount'].sum() * 100, 2)\n",
    "#     df['cum_pct_trx_count'] = round(df['count'].cumsum() / df['count'].sum() * 100, 2)\n",
    "    \n",
    "#     ax_1 = fig.add_subplot(122)\n",
    "#     # Plot bars (i.e. frequencies)\n",
    "#     ax_1.bar(df[group_col], df['count'])\n",
    "#     ax_1.set_title(f\"{xlabel} by Total Transaction Count\") # \n",
    "#     ax_1.set_xlabel(xlabel) # \"Age Group\"\n",
    "#     ax_1.set_ylabel(\"Total Trx Count\");\n",
    "\n",
    "#     # Second y axis (i.e. cumulative percentage)\n",
    "#     ax_12 = ax_1.twinx()\n",
    "#     ax_12.plot(df[group_col], df['cum_pct_trx_count'], color=\"red\", marker=\"D\", ms=7)\n",
    "#     ax_12.axhline(80, color=\"orange\", linestyle=\"dashed\")\n",
    "#     ax_12.yaxis.set_major_formatter(PercentFormatter())\n",
    "#     ax_12.set_ylabel(\"Cumulative Percentage\");\n",
    "    \n",
    "#     ## Rotate xlabel\n",
    "#     ax.tick_params(axis='x', labelrotation = 45)\n",
    "#     ax_1.tick_params(axis='x', labelrotation = 45)\n",
    "    \n",
    "#     if return_agg_df:\n",
    "#         return df"
   ]
  },
  {
   "cell_type": "code",
   "execution_count": 12,
   "id": "4f84dcb9-2100-40d1-ab20-fd5551c4b6e0",
   "metadata": {},
   "outputs": [
    {
     "data": {
      "image/png": "[encoded data removed]",
      "text/plain": [
       "<Figure size 1440x360 with 4 Axes>"
      ]
     },
     "metadata": {
      "needs_background": "light"
     },
     "output_type": "display_data"
    }
   ],
   "source": [
    "trx_age_agg = create_count_amount_pareto(\n",
    "    trx_fin, \n",
    "    'age_group', \n",
    "    xlabel = 'Age Group',\n",
    "    return_agg_df = True\n",
    ")"
   ]
  },
  {
   "cell_type": "code",
   "execution_count": 13,
   "id": "c05d165b-7ad2-4c67-8231-68fc3a812465",
   "metadata": {},
   "outputs": [
    {
     "data": {
      "text/html": [
       "<div>\n",
       "<style scoped>\n",
       "    .dataframe tbody tr th:only-of-type {\n",
       "        vertical-align: middle;\n",
       "    }\n",
       "\n",
       "    .dataframe tbody tr th {\n",
       "        vertical-align: top;\n",
       "    }\n",
       "\n",
       "    .dataframe thead th {\n",
       "        text-align: right;\n",
       "    }\n",
       "</style>\n",
       "<table border=\"1\" class=\"dataframe\">\n",
       "  <thead>\n",
       "    <tr style=\"text-align: right;\">\n",
       "      <th></th>\n",
       "      <th>age_group</th>\n",
       "      <th>count</th>\n",
       "      <th>tot_daily_amount</th>\n",
       "      <th>cum_pct_trx_amount</th>\n",
       "      <th>cum_pct_trx_count</th>\n",
       "    </tr>\n",
       "  </thead>\n",
       "  <tbody>\n",
       "    <tr>\n",
       "      <th>3</th>\n",
       "      <td>old adults</td>\n",
       "      <td>796880</td>\n",
       "      <td>1362943368</td>\n",
       "      <td>56.24</td>\n",
       "      <td>56.04</td>\n",
       "    </tr>\n",
       "    <tr>\n",
       "      <th>2</th>\n",
       "      <td>middle aged</td>\n",
       "      <td>358527</td>\n",
       "      <td>610302716</td>\n",
       "      <td>81.42</td>\n",
       "      <td>81.25</td>\n",
       "    </tr>\n",
       "    <tr>\n",
       "      <th>1</th>\n",
       "      <td>young adults</td>\n",
       "      <td>211366</td>\n",
       "      <td>356819241</td>\n",
       "      <td>96.14</td>\n",
       "      <td>96.12</td>\n",
       "    </tr>\n",
       "    <tr>\n",
       "      <th>0</th>\n",
       "      <td>teenager</td>\n",
       "      <td>55205</td>\n",
       "      <td>93557675</td>\n",
       "      <td>100.00</td>\n",
       "      <td>100.00</td>\n",
       "    </tr>\n",
       "  </tbody>\n",
       "</table>\n",
       "</div>"
      ],
      "text/plain": [
       "      age_group   count  tot_daily_amount  cum_pct_trx_amount  \\\n",
       "3    old adults  796880        1362943368               56.24   \n",
       "2   middle aged  358527         610302716               81.42   \n",
       "1  young adults  211366         356819241               96.14   \n",
       "0      teenager   55205          93557675              100.00   \n",
       "\n",
       "   cum_pct_trx_count  \n",
       "3              56.04  \n",
       "2              81.25  \n",
       "1              96.12  \n",
       "0             100.00  "
      ]
     },
     "execution_count": 13,
     "metadata": {},
     "output_type": "execute_result"
    }
   ],
   "source": [
    "trx_age_agg"
   ]
  },
  {
   "cell_type": "markdown",
   "id": "a147f51b-baab-468f-80e2-11607d636c07",
   "metadata": {},
   "source": [
    "**Takeaways:**\n",
    "* From the above analysis, it can be seen that old-adults and middle-aged age groups covered **80%** of both Total Transaction Amount and Total Transaction Count\n",
    "* This means if there are any campaigns that will be run in the near future, targeting these two groups of people will have a great impact to the total GMV for a period of time.\n",
    "* We can use this analysis not only to selectively target promos for specific group of people, but also can be used to revamp the UI/UX of the app to accomodate functionalities that suit with middle-aged and old-adult users."
   ]
  },
  {
   "cell_type": "code",
   "execution_count": 14,
   "id": "8c39ef69-59a5-4241-b481-c47f3bcf78fc",
   "metadata": {},
   "outputs": [
    {
     "data": {
      "image/png": "[encoded data removed]",
      "text/plain": [
       "<Figure size 1440x360 with 4 Axes>"
      ]
     },
     "metadata": {
      "needs_background": "light"
     },
     "output_type": "display_data"
    }
   ],
   "source": [
    "trx_name_agg = create_count_amount_pareto(\n",
    "    trx_fin, \n",
    "    'category', \n",
    "    xlabel = 'Store Category',\n",
    "    return_agg_df = True\n",
    ")"
   ]
  },
  {
   "cell_type": "code",
   "execution_count": 15,
   "id": "bcf21891-890b-43fe-b949-bece4b9030c1",
   "metadata": {},
   "outputs": [
    {
     "data": {
      "text/html": [
       "<div>\n",
       "<style scoped>\n",
       "    .dataframe tbody tr th:only-of-type {\n",
       "        vertical-align: middle;\n",
       "    }\n",
       "\n",
       "    .dataframe tbody tr th {\n",
       "        vertical-align: top;\n",
       "    }\n",
       "\n",
       "    .dataframe thead th {\n",
       "        text-align: right;\n",
       "    }\n",
       "</style>\n",
       "<table border=\"1\" class=\"dataframe\">\n",
       "  <thead>\n",
       "    <tr style=\"text-align: right;\">\n",
       "      <th></th>\n",
       "      <th>category</th>\n",
       "      <th>count</th>\n",
       "      <th>tot_daily_amount</th>\n",
       "      <th>cum_pct_trx_amount</th>\n",
       "      <th>cum_pct_trx_count</th>\n",
       "    </tr>\n",
       "  </thead>\n",
       "  <tbody>\n",
       "    <tr>\n",
       "      <th>2</th>\n",
       "      <td>conv store</td>\n",
       "      <td>459499</td>\n",
       "      <td>302658571</td>\n",
       "      <td>33.89</td>\n",
       "      <td>32.31</td>\n",
       "    </tr>\n",
       "    <tr>\n",
       "      <th>14</th>\n",
       "      <td>shopping</td>\n",
       "      <td>261662</td>\n",
       "      <td>518601657</td>\n",
       "      <td>21.40</td>\n",
       "      <td>50.72</td>\n",
       "    </tr>\n",
       "    <tr>\n",
       "      <th>6</th>\n",
       "      <td>gourmet</td>\n",
       "      <td>182939</td>\n",
       "      <td>298307811</td>\n",
       "      <td>46.19</td>\n",
       "      <td>63.58</td>\n",
       "    </tr>\n",
       "    <tr>\n",
       "      <th>15</th>\n",
       "      <td>supermarket</td>\n",
       "      <td>136672</td>\n",
       "      <td>276269334</td>\n",
       "      <td>57.59</td>\n",
       "      <td>73.19</td>\n",
       "    </tr>\n",
       "    <tr>\n",
       "      <th>0</th>\n",
       "      <td>cafe</td>\n",
       "      <td>101535</td>\n",
       "      <td>126098954</td>\n",
       "      <td>77.57</td>\n",
       "      <td>80.33</td>\n",
       "    </tr>\n",
       "  </tbody>\n",
       "</table>\n",
       "</div>"
      ],
      "text/plain": [
       "       category   count  tot_daily_amount  cum_pct_trx_amount  \\\n",
       "2    conv store  459499         302658571               33.89   \n",
       "14     shopping  261662         518601657               21.40   \n",
       "6       gourmet  182939         298307811               46.19   \n",
       "15  supermarket  136672         276269334               57.59   \n",
       "0          cafe  101535         126098954               77.57   \n",
       "\n",
       "    cum_pct_trx_count  \n",
       "2               32.31  \n",
       "14              50.72  \n",
       "6               63.58  \n",
       "15              73.19  \n",
       "0               80.33  "
      ]
     },
     "execution_count": 15,
     "metadata": {},
     "output_type": "execute_result"
    }
   ],
   "source": [
    "trx_name_agg.head()"
   ]
  },
  {
   "cell_type": "markdown",
   "id": "0ea41819-7565-4e2a-9216-6196b8a166f0",
   "metadata": {},
   "source": [
    "**Takeaways**:\n",
    "* Unlike age column, Store Category have different store category focus for different Business Metrics\n",
    "* If we want to increase **GMV Amount**, we could focus to apply marketing campaigns on these following store categories because they cover more than 80% of total **GMV Amount**:\n",
    "    * Shopping\n",
    "    * Convenience Store\n",
    "    * Gourmet\n",
    "    * Supermarket\n",
    "    * Fashion\n",
    "    * Others\n",
    "    * Cafe\n",
    "    * Home Appliances\n",
    "* If we want to increase **Transaction Count**, we could focus to apply marketing campaigns on these store categories because of the same reason:\n",
    "    * Convenience Store\n",
    "    * Shopping\n",
    "    * Gourmet\n",
    "    * Supermarket\n",
    "    * Cafe"
   ]
  },
  {
   "cell_type": "markdown",
   "id": "dd518330-b3b5-423f-a991-361e5e3dd1ee",
   "metadata": {},
   "source": [
    "### 3.2 Churn Analysis"
   ]
  },
  {
   "cell_type": "code",
   "execution_count": 16,
   "id": "7ccefcf7-a538-4922-87d5-eb55a98e75bf",
   "metadata": {},
   "outputs": [
    {
     "data": {
      "text/html": [
       "<div>\n",
       "<style scoped>\n",
       "    .dataframe tbody tr th:only-of-type {\n",
       "        vertical-align: middle;\n",
       "    }\n",
       "\n",
       "    .dataframe tbody tr th {\n",
       "        vertical-align: top;\n",
       "    }\n",
       "\n",
       "    .dataframe thead th {\n",
       "        text-align: right;\n",
       "    }\n",
       "</style>\n",
       "<table border=\"1\" class=\"dataframe\">\n",
       "  <thead>\n",
       "    <tr style=\"text-align: right;\">\n",
       "      <th></th>\n",
       "      <th>total_trx_count</th>\n",
       "      <th>total_trx_days</th>\n",
       "      <th>tot_trx_amount</th>\n",
       "      <th>avg_daily_trx_amount</th>\n",
       "      <th>median_daily_trx_amount</th>\n",
       "      <th>avg_trx_per_day</th>\n",
       "      <th>avg_trx_per_day_norm</th>\n",
       "      <th>active_days_norm</th>\n",
       "      <th>churn_days</th>\n",
       "    </tr>\n",
       "  </thead>\n",
       "  <tbody>\n",
       "    <tr>\n",
       "      <th>count</th>\n",
       "      <td>8587.000000</td>\n",
       "      <td>8587.000000</td>\n",
       "      <td>8.587000e+03</td>\n",
       "      <td>8587.000000</td>\n",
       "      <td>8587.000000</td>\n",
       "      <td>8587.000000</td>\n",
       "      <td>8587.000000</td>\n",
       "      <td>8587.000000</td>\n",
       "      <td>8587.000000</td>\n",
       "    </tr>\n",
       "    <tr>\n",
       "      <th>mean</th>\n",
       "      <td>165.596600</td>\n",
       "      <td>134.760801</td>\n",
       "      <td>2.822433e+05</td>\n",
       "      <td>2071.963880</td>\n",
       "      <td>969.563526</td>\n",
       "      <td>1.215075</td>\n",
       "      <td>0.226845</td>\n",
       "      <td>0.184604</td>\n",
       "      <td>0.815396</td>\n",
       "    </tr>\n",
       "    <tr>\n",
       "      <th>std</th>\n",
       "      <td>117.676062</td>\n",
       "      <td>92.734566</td>\n",
       "      <td>2.241938e+05</td>\n",
       "      <td>964.208586</td>\n",
       "      <td>377.112774</td>\n",
       "      <td>0.097870</td>\n",
       "      <td>0.161200</td>\n",
       "      <td>0.127034</td>\n",
       "      <td>0.127034</td>\n",
       "    </tr>\n",
       "    <tr>\n",
       "      <th>min</th>\n",
       "      <td>1.000000</td>\n",
       "      <td>1.000000</td>\n",
       "      <td>6.900000e+01</td>\n",
       "      <td>69.000000</td>\n",
       "      <td>69.000000</td>\n",
       "      <td>1.000000</td>\n",
       "      <td>0.001370</td>\n",
       "      <td>0.001370</td>\n",
       "      <td>0.523288</td>\n",
       "    </tr>\n",
       "    <tr>\n",
       "      <th>25%</th>\n",
       "      <td>63.000000</td>\n",
       "      <td>52.000000</td>\n",
       "      <td>9.803400e+04</td>\n",
       "      <td>1554.372215</td>\n",
       "      <td>738.500000</td>\n",
       "      <td>1.156863</td>\n",
       "      <td>0.086301</td>\n",
       "      <td>0.071233</td>\n",
       "      <td>0.712329</td>\n",
       "    </tr>\n",
       "    <tr>\n",
       "      <th>50%</th>\n",
       "      <td>147.000000</td>\n",
       "      <td>122.000000</td>\n",
       "      <td>2.382710e+05</td>\n",
       "      <td>1956.437209</td>\n",
       "      <td>924.500000</td>\n",
       "      <td>1.210526</td>\n",
       "      <td>0.201370</td>\n",
       "      <td>0.167123</td>\n",
       "      <td>0.832877</td>\n",
       "    </tr>\n",
       "    <tr>\n",
       "      <th>75%</th>\n",
       "      <td>252.000000</td>\n",
       "      <td>210.000000</td>\n",
       "      <td>4.219095e+05</td>\n",
       "      <td>2423.714286</td>\n",
       "      <td>1133.000000</td>\n",
       "      <td>1.269962</td>\n",
       "      <td>0.345205</td>\n",
       "      <td>0.287671</td>\n",
       "      <td>0.928767</td>\n",
       "    </tr>\n",
       "    <tr>\n",
       "      <th>max</th>\n",
       "      <td>469.000000</td>\n",
       "      <td>348.000000</td>\n",
       "      <td>2.178767e+06</td>\n",
       "      <td>32379.600000</td>\n",
       "      <td>7115.000000</td>\n",
       "      <td>3.000000</td>\n",
       "      <td>0.642466</td>\n",
       "      <td>0.476712</td>\n",
       "      <td>0.998630</td>\n",
       "    </tr>\n",
       "  </tbody>\n",
       "</table>\n",
       "</div>"
      ],
      "text/plain": [
       "       total_trx_count  total_trx_days  tot_trx_amount  avg_daily_trx_amount  \\\n",
       "count      8587.000000     8587.000000    8.587000e+03           8587.000000   \n",
       "mean        165.596600      134.760801    2.822433e+05           2071.963880   \n",
       "std         117.676062       92.734566    2.241938e+05            964.208586   \n",
       "min           1.000000        1.000000    6.900000e+01             69.000000   \n",
       "25%          63.000000       52.000000    9.803400e+04           1554.372215   \n",
       "50%         147.000000      122.000000    2.382710e+05           1956.437209   \n",
       "75%         252.000000      210.000000    4.219095e+05           2423.714286   \n",
       "max         469.000000      348.000000    2.178767e+06          32379.600000   \n",
       "\n",
       "       median_daily_trx_amount  avg_trx_per_day  avg_trx_per_day_norm  \\\n",
       "count              8587.000000      8587.000000           8587.000000   \n",
       "mean                969.563526         1.215075              0.226845   \n",
       "std                 377.112774         0.097870              0.161200   \n",
       "min                  69.000000         1.000000              0.001370   \n",
       "25%                 738.500000         1.156863              0.086301   \n",
       "50%                 924.500000         1.210526              0.201370   \n",
       "75%                1133.000000         1.269962              0.345205   \n",
       "max                7115.000000         3.000000              0.642466   \n",
       "\n",
       "       active_days_norm   churn_days  \n",
       "count       8587.000000  8587.000000  \n",
       "mean           0.184604     0.815396  \n",
       "std            0.127034     0.127034  \n",
       "min            0.001370     0.523288  \n",
       "25%            0.071233     0.712329  \n",
       "50%            0.167123     0.832877  \n",
       "75%            0.287671     0.928767  \n",
       "max            0.476712     0.998630  "
      ]
     },
     "execution_count": 16,
     "metadata": {},
     "output_type": "execute_result"
    }
   ],
   "source": [
    "### Get the avg and median of total daily trx_amount per user\n",
    "trx_agg_user = trx_fin.groupby(\n",
    "    ['user_id', 'trx_date'],\n",
    "    as_index = False,\n",
    "    observed = True\n",
    ").agg(\n",
    "    count = ('trx_amount', 'size'),\n",
    "    tot_daily_trx_amount = ('trx_amount', 'sum')\n",
    ").groupby(\n",
    "    ['user_id'],\n",
    "    as_index = False,\n",
    "    observed = True\n",
    ").agg(\n",
    "    total_trx_count = ('count', 'sum'),\n",
    "    total_trx_days = ('trx_date', 'size'),\n",
    "    tot_trx_amount = ('tot_daily_trx_amount', 'sum'),\n",
    "    avg_daily_trx_amount = ('tot_daily_trx_amount', 'mean'),\n",
    "    median_daily_trx_amount = ('tot_daily_trx_amount', 'median')\n",
    ")\n",
    "\n",
    "trx_agg_user['avg_trx_per_day'] = trx_agg_user['total_trx_count'] / trx_agg_user['total_trx_days']\n",
    "\n",
    "## avg trx per day norm = total number of transactions /  days difference between min trx_date and max trx_date\n",
    "trx_agg_user['avg_trx_per_day_norm'] = trx_agg_user['total_trx_count'] / days_between(trx_fin['trx_date'].min(), trx_fin['trx_date'].max())\n",
    "\n",
    "## Active days norm = total number of transaction days /  days difference between min trx_date and max trx_date\n",
    "trx_agg_user['active_days_norm'] = trx_agg_user['total_trx_days'] / days_between(trx_fin['trx_date'].min(), trx_fin['trx_date'].max())\n",
    "\n",
    "## Churn days = 1 - Active days norm\n",
    "trx_agg_user['churn_days'] = 1 - trx_agg_user['active_days_norm']\n",
    "trx_agg_user.describe()"
   ]
  },
  {
   "cell_type": "code",
   "execution_count": 17,
   "id": "95e19190-db2a-41cb-84ae-3c3a0eab75fa",
   "metadata": {},
   "outputs": [
    {
     "data": {
      "text/html": [
       "<div>\n",
       "<style scoped>\n",
       "    .dataframe tbody tr th:only-of-type {\n",
       "        vertical-align: middle;\n",
       "    }\n",
       "\n",
       "    .dataframe tbody tr th {\n",
       "        vertical-align: top;\n",
       "    }\n",
       "\n",
       "    .dataframe thead th {\n",
       "        text-align: right;\n",
       "    }\n",
       "</style>\n",
       "<table border=\"1\" class=\"dataframe\">\n",
       "  <thead>\n",
       "    <tr style=\"text-align: right;\">\n",
       "      <th></th>\n",
       "      <th>user_id</th>\n",
       "      <th>total_trx_count</th>\n",
       "      <th>total_trx_days</th>\n",
       "      <th>tot_trx_amount</th>\n",
       "      <th>avg_daily_trx_amount</th>\n",
       "      <th>median_daily_trx_amount</th>\n",
       "      <th>avg_trx_per_day</th>\n",
       "      <th>avg_trx_per_day_norm</th>\n",
       "      <th>active_days_norm</th>\n",
       "      <th>churn_days</th>\n",
       "    </tr>\n",
       "  </thead>\n",
       "  <tbody>\n",
       "    <tr>\n",
       "      <th>0</th>\n",
       "      <td>00073cc2-c801-c67c-d039-fca63c78c6a9</td>\n",
       "      <td>112</td>\n",
       "      <td>98</td>\n",
       "      <td>205948</td>\n",
       "      <td>2101.510204</td>\n",
       "      <td>953.0</td>\n",
       "      <td>1.142857</td>\n",
       "      <td>0.153425</td>\n",
       "      <td>0.134247</td>\n",
       "      <td>0.865753</td>\n",
       "    </tr>\n",
       "    <tr>\n",
       "      <th>1</th>\n",
       "      <td>000b6710-f8b4-ddd4-1913-90c7d424fccf</td>\n",
       "      <td>183</td>\n",
       "      <td>154</td>\n",
       "      <td>289285</td>\n",
       "      <td>1878.474026</td>\n",
       "      <td>1214.0</td>\n",
       "      <td>1.188312</td>\n",
       "      <td>0.250685</td>\n",
       "      <td>0.210959</td>\n",
       "      <td>0.789041</td>\n",
       "    </tr>\n",
       "    <tr>\n",
       "      <th>2</th>\n",
       "      <td>00183cfe-ceb0-9220-7984-f33f61c61ae4</td>\n",
       "      <td>374</td>\n",
       "      <td>295</td>\n",
       "      <td>789955</td>\n",
       "      <td>2677.813559</td>\n",
       "      <td>1302.0</td>\n",
       "      <td>1.267797</td>\n",
       "      <td>0.512329</td>\n",
       "      <td>0.404110</td>\n",
       "      <td>0.595890</td>\n",
       "    </tr>\n",
       "    <tr>\n",
       "      <th>3</th>\n",
       "      <td>001b10c4-0ec1-68c9-a059-0a44159119bd</td>\n",
       "      <td>203</td>\n",
       "      <td>182</td>\n",
       "      <td>436061</td>\n",
       "      <td>2395.939560</td>\n",
       "      <td>920.5</td>\n",
       "      <td>1.115385</td>\n",
       "      <td>0.278082</td>\n",
       "      <td>0.249315</td>\n",
       "      <td>0.750685</td>\n",
       "    </tr>\n",
       "    <tr>\n",
       "      <th>4</th>\n",
       "      <td>0021b632-3246-b7d9-bb29-66398e4a295d</td>\n",
       "      <td>217</td>\n",
       "      <td>167</td>\n",
       "      <td>343692</td>\n",
       "      <td>2058.035928</td>\n",
       "      <td>1189.0</td>\n",
       "      <td>1.299401</td>\n",
       "      <td>0.297260</td>\n",
       "      <td>0.228767</td>\n",
       "      <td>0.771233</td>\n",
       "    </tr>\n",
       "  </tbody>\n",
       "</table>\n",
       "</div>"
      ],
      "text/plain": [
       "                                user_id  total_trx_count  total_trx_days  \\\n",
       "0  00073cc2-c801-c67c-d039-fca63c78c6a9              112              98   \n",
       "1  000b6710-f8b4-ddd4-1913-90c7d424fccf              183             154   \n",
       "2  00183cfe-ceb0-9220-7984-f33f61c61ae4              374             295   \n",
       "3  001b10c4-0ec1-68c9-a059-0a44159119bd              203             182   \n",
       "4  0021b632-3246-b7d9-bb29-66398e4a295d              217             167   \n",
       "\n",
       "   tot_trx_amount  avg_daily_trx_amount  median_daily_trx_amount  \\\n",
       "0          205948           2101.510204                    953.0   \n",
       "1          289285           1878.474026                   1214.0   \n",
       "2          789955           2677.813559                   1302.0   \n",
       "3          436061           2395.939560                    920.5   \n",
       "4          343692           2058.035928                   1189.0   \n",
       "\n",
       "   avg_trx_per_day  avg_trx_per_day_norm  active_days_norm  churn_days  \n",
       "0         1.142857              0.153425          0.134247    0.865753  \n",
       "1         1.188312              0.250685          0.210959    0.789041  \n",
       "2         1.267797              0.512329          0.404110    0.595890  \n",
       "3         1.115385              0.278082          0.249315    0.750685  \n",
       "4         1.299401              0.297260          0.228767    0.771233  "
      ]
     },
     "execution_count": 17,
     "metadata": {},
     "output_type": "execute_result"
    }
   ],
   "source": [
    "trx_agg_user.head()"
   ]
  },
  {
   "cell_type": "code",
   "execution_count": 18,
   "id": "1d5d5231-0fa1-461f-9911-553954269010",
   "metadata": {},
   "outputs": [
    {
     "data": {
      "image/png": "[encoded data removed]",
      "text/plain": [
       "<Figure size 1080x360 with 1 Axes>"
      ]
     },
     "metadata": {
      "needs_background": "light"
     },
     "output_type": "display_data"
    }
   ],
   "source": [
    "fig = plt.figure(figsize=(15,5))\n",
    "\n",
    "sns.kdeplot(x=trx_agg_user['churn_days'], data = trx_agg_user)\n",
    "plt.show()"
   ]
  },
  {
   "cell_type": "code",
   "execution_count": 19,
   "id": "1c05e765-d508-4415-a459-a94d8aa25dec",
   "metadata": {},
   "outputs": [],
   "source": [
    "### Create active days group\n",
    "\"\"\"\n",
    "\n",
    "\"\"\"\n",
    "bins, labels = pd.cut(\n",
    "    x=trx_agg_user['churn_days'], \n",
    "    bins=[-float(\"inf\"), 0.5, 0.55, 0.6, 0.65, 0.7, 0.75, 0.8, 0.85, 0.9, 0.95, float(\"inf\")],\n",
    "    retbins=True)\n",
    "\n",
    "trx_agg_user['churn_days_group'] = bins"
   ]
  },
  {
   "cell_type": "code",
   "execution_count": 20,
   "id": "447f614f-c9bd-4e36-8e77-4774ce2a62c5",
   "metadata": {},
   "outputs": [],
   "source": [
    "median_churn_days = trx_agg_user.groupby(\n",
    "    'churn_days_group',\n",
    "    as_index = False,\n",
    "    observed = True\n",
    ").agg(\n",
    "    total_users = ('user_id', 'size'),\n",
    "    median_trx_amount = ('median_daily_trx_amount', 'median'),\n",
    "    median_trx_count = ('total_trx_count', 'median')\n",
    ")\n",
    "median_churn_days['pct_users'] = median_churn_days['total_users'] / median_churn_days['total_users'].sum() * 100\n",
    "median_churn_days['pct_users_cum_sum'] = median_churn_days['pct_users'].cumsum()"
   ]
  },
  {
   "cell_type": "code",
   "execution_count": 21,
   "id": "a9c888a2-75cf-4181-aa57-9d535a4460a4",
   "metadata": {},
   "outputs": [
    {
     "data": {
      "text/html": [
       "<div>\n",
       "<style scoped>\n",
       "    .dataframe tbody tr th:only-of-type {\n",
       "        vertical-align: middle;\n",
       "    }\n",
       "\n",
       "    .dataframe tbody tr th {\n",
       "        vertical-align: top;\n",
       "    }\n",
       "\n",
       "    .dataframe thead th {\n",
       "        text-align: right;\n",
       "    }\n",
       "</style>\n",
       "<table border=\"1\" class=\"dataframe\">\n",
       "  <thead>\n",
       "    <tr style=\"text-align: right;\">\n",
       "      <th></th>\n",
       "      <th>churn_days_group</th>\n",
       "      <th>total_users</th>\n",
       "      <th>median_trx_amount</th>\n",
       "      <th>median_trx_count</th>\n",
       "      <th>pct_users</th>\n",
       "      <th>pct_users_cum_sum</th>\n",
       "    </tr>\n",
       "  </thead>\n",
       "  <tbody>\n",
       "    <tr>\n",
       "      <th>0</th>\n",
       "      <td>(0.5, 0.55]</td>\n",
       "      <td>78</td>\n",
       "      <td>1032.50</td>\n",
       "      <td>438.5</td>\n",
       "      <td>0.908350</td>\n",
       "      <td>0.908350</td>\n",
       "    </tr>\n",
       "    <tr>\n",
       "      <th>1</th>\n",
       "      <td>(0.55, 0.6]</td>\n",
       "      <td>407</td>\n",
       "      <td>1035.00</td>\n",
       "      <td>406.0</td>\n",
       "      <td>4.739723</td>\n",
       "      <td>5.648073</td>\n",
       "    </tr>\n",
       "    <tr>\n",
       "      <th>2</th>\n",
       "      <td>(0.6, 0.65]</td>\n",
       "      <td>698</td>\n",
       "      <td>957.75</td>\n",
       "      <td>341.0</td>\n",
       "      <td>8.128566</td>\n",
       "      <td>13.776639</td>\n",
       "    </tr>\n",
       "    <tr>\n",
       "      <th>3</th>\n",
       "      <td>(0.65, 0.7]</td>\n",
       "      <td>703</td>\n",
       "      <td>927.00</td>\n",
       "      <td>287.0</td>\n",
       "      <td>8.186794</td>\n",
       "      <td>21.963433</td>\n",
       "    </tr>\n",
       "    <tr>\n",
       "      <th>4</th>\n",
       "      <td>(0.7, 0.75]</td>\n",
       "      <td>978</td>\n",
       "      <td>907.50</td>\n",
       "      <td>241.0</td>\n",
       "      <td>11.389309</td>\n",
       "      <td>33.352743</td>\n",
       "    </tr>\n",
       "    <tr>\n",
       "      <th>5</th>\n",
       "      <td>(0.75, 0.8]</td>\n",
       "      <td>858</td>\n",
       "      <td>927.00</td>\n",
       "      <td>198.0</td>\n",
       "      <td>9.991848</td>\n",
       "      <td>43.344591</td>\n",
       "    </tr>\n",
       "    <tr>\n",
       "      <th>6</th>\n",
       "      <td>(0.8, 0.85]</td>\n",
       "      <td>892</td>\n",
       "      <td>914.50</td>\n",
       "      <td>154.0</td>\n",
       "      <td>10.387796</td>\n",
       "      <td>53.732386</td>\n",
       "    </tr>\n",
       "    <tr>\n",
       "      <th>7</th>\n",
       "      <td>(0.85, 0.9]</td>\n",
       "      <td>1091</td>\n",
       "      <td>912.50</td>\n",
       "      <td>108.0</td>\n",
       "      <td>12.705252</td>\n",
       "      <td>66.437638</td>\n",
       "    </tr>\n",
       "    <tr>\n",
       "      <th>8</th>\n",
       "      <td>(0.9, 0.95]</td>\n",
       "      <td>1358</td>\n",
       "      <td>905.00</td>\n",
       "      <td>65.0</td>\n",
       "      <td>15.814603</td>\n",
       "      <td>82.252242</td>\n",
       "    </tr>\n",
       "    <tr>\n",
       "      <th>9</th>\n",
       "      <td>(0.95, inf]</td>\n",
       "      <td>1524</td>\n",
       "      <td>910.25</td>\n",
       "      <td>20.0</td>\n",
       "      <td>17.747758</td>\n",
       "      <td>100.000000</td>\n",
       "    </tr>\n",
       "  </tbody>\n",
       "</table>\n",
       "</div>"
      ],
      "text/plain": [
       "  churn_days_group  total_users  median_trx_amount  median_trx_count  \\\n",
       "0      (0.5, 0.55]           78            1032.50             438.5   \n",
       "1      (0.55, 0.6]          407            1035.00             406.0   \n",
       "2      (0.6, 0.65]          698             957.75             341.0   \n",
       "3      (0.65, 0.7]          703             927.00             287.0   \n",
       "4      (0.7, 0.75]          978             907.50             241.0   \n",
       "5      (0.75, 0.8]          858             927.00             198.0   \n",
       "6      (0.8, 0.85]          892             914.50             154.0   \n",
       "7      (0.85, 0.9]         1091             912.50             108.0   \n",
       "8      (0.9, 0.95]         1358             905.00              65.0   \n",
       "9      (0.95, inf]         1524             910.25              20.0   \n",
       "\n",
       "   pct_users  pct_users_cum_sum  \n",
       "0   0.908350           0.908350  \n",
       "1   4.739723           5.648073  \n",
       "2   8.128566          13.776639  \n",
       "3   8.186794          21.963433  \n",
       "4  11.389309          33.352743  \n",
       "5   9.991848          43.344591  \n",
       "6  10.387796          53.732386  \n",
       "7  12.705252          66.437638  \n",
       "8  15.814603          82.252242  \n",
       "9  17.747758         100.000000  "
      ]
     },
     "execution_count": 21,
     "metadata": {},
     "output_type": "execute_result"
    }
   ],
   "source": [
    "median_churn_days"
   ]
  },
  {
   "cell_type": "code",
   "execution_count": 22,
   "id": "9c1b5813-30cc-412a-b983-85be2105692b",
   "metadata": {},
   "outputs": [
    {
     "data": {
      "image/png": "[encoded data removed]",
      "text/plain": [
       "<Figure size 1440x360 with 3 Axes>"
      ]
     },
     "metadata": {
      "needs_background": "light"
     },
     "output_type": "display_data"
    }
   ],
   "source": [
    "fig, axes = plt.subplots(1,3, figsize = (20,5))\n",
    "\n",
    "ax2 = sns.lineplot(x=median_churn_days['churn_days_group'].astype(str), y=median_churn_days['pct_users'], ax=axes[0], color='#842E6C', marker = \"o\")\n",
    "ax2.tick_params(axis='x', labelrotation = 45)\n",
    "ax2.set_xlabel('Churn Days Group')\n",
    "ax2.set_ylabel('% of Users')\n",
    "ax2.set_title('Churn Days Group by % of Users')\n",
    "ax2.yaxis.set_major_formatter(PercentFormatter())\n",
    "\n",
    "ax = sns.lineplot(x=median_churn_days['churn_days_group'].astype(str), y=median_churn_days['median_trx_amount'], ax=axes[1], color='#40E0D0', marker = \"o\")\n",
    "ax.tick_params(axis='x', labelrotation = 45)\n",
    "ax.set_xlabel('Churn Days Group')\n",
    "ax.set_ylabel('Median Transaction Amount')\n",
    "ax.set_title('Churn Days Group by Median Transaction Amount')\n",
    "\n",
    "ax1 = sns.lineplot(x=median_churn_days['churn_days_group'].astype(str), y=median_churn_days['median_trx_count'], ax=axes[2], color='red', marker = 'D')\n",
    "ax1.tick_params(axis='x', labelrotation = 45)\n",
    "ax1.set_xlabel('Churn Days Group')\n",
    "ax1.set_ylabel('Median Transaction Count')\n",
    "ax1.set_title('Churn Days Group by Median Transaction Count')\n",
    "plt.show()"
   ]
  },
  {
   "cell_type": "markdown",
   "id": "9e2f2066-0036-486c-ab88-eaa2aca3509f",
   "metadata": {},
   "source": [
    "**Takeaways**:\n",
    "* **Churn days** means percentage of days that users did not make a transaction in the span of <u>2 Years / 730 days</u>. For example, if a user's churn day is **0.93**, this means this user only transacted **0.07** of 730 days, or equivalent to 50 days.\n",
    "* The purpose of this analysis is to know people's spending power with regards to their spending days.\n",
    "* Our main objective is to lower down churn days in higher group while maintaining or increasing the median of transaction amount in every churn days group.\n",
    "* Other important objective is to set a benchmark of which Churn Group that we need to pay attention more in order to increase the median transaction amount.\n",
    "* On the 1st chart, it can be seen that there are increasing number of users as number of churn days increases. Moreover, almost half of the users have high Churn Days.\n",
    "    * **Suggestion**: To overcome high curn days, the company could start to create a monthly event such as 1.1, 2.2, 3.3, and so on.., or even pay-day promo period.\n",
    "* On the 2nd chart, as the churn increases, so does the transaction amount. This tells us that **users who have more days to transact are more likely to spend higher amount items**.\n",
    "    * **Suggestion**: This matter can be focused on increasing the transaction amount regardless if they are in higher Churn Days Group. For instance, if a user only transacts a few times in a year, the company should push this user to increase the purchase in higher amount. And if this user only purchase small items, perhaps the company could give **discount for bulk purchase or with purchase > 1000**.\n",
    "* On the 3rd chart, churn days and transaction count are negatively correlated. The same treatment can be applied like the suggestion for 2nd chart."
   ]
  },
  {
   "cell_type": "markdown",
   "id": "c053f65a-f5ca-4999-b52b-4a284569b301",
   "metadata": {},
   "source": [
    "### 3.3 Users Who Travel"
   ]
  },
  {
   "cell_type": "code",
   "execution_count": 60,
   "id": "d5a88190-352f-4fcc-9467-9f310f916234",
   "metadata": {
    "tags": []
   },
   "outputs": [],
   "source": [
    "from math import sin, cos, sqrt, atan2, radians\n",
    "\n",
    "def get_distance_lat_lon(lat_from, lon_from, lat_to, lon_to):\n",
    "    \"\"\" Function to get distance based on 2 latitude longitude points\n",
    "    Params\n",
    "    :lat_from: Latitude of Source\n",
    "    :lon_from: Longitude of Source\n",
    "    :lat_to: Latitude of Destination\n",
    "    :lon_to: Longitude of Destination\n",
    "    \n",
    "    Return\n",
    "    :distance: float\n",
    "    \"\"\"\n",
    "    if lat_from is None or lon_from is None or lat_to is None or lon_to is None:\n",
    "        return 0\n",
    "    \n",
    "    # approximate radius of earth in km\n",
    "    R = 6373.0\n",
    "\n",
    "    lat1 = radians(lat_from)\n",
    "    lon1 = radians(lon_from)\n",
    "    lat2 = radians(lat_to)\n",
    "    lon2 = radians(lon_to)\n",
    "\n",
    "    dlon = lon2 - lon1\n",
    "    dlat = lat2 - lat1\n",
    "\n",
    "    a = sin(dlat / 2)**2 + cos(lat1) * cos(lat2) * sin(dlon / 2)**2\n",
    "    c = 2 * atan2(sqrt(a), sqrt(1 - a))\n",
    "\n",
    "    distance = R * c\n",
    "    \n",
    "    return distance"
   ]
  },
  {
   "cell_type": "code",
   "execution_count": 38,
   "id": "538189ef-bfd9-45c9-bf9b-53d142185089",
   "metadata": {},
   "outputs": [],
   "source": [
    "to_lag = trx_fin[['user_id', 'trx_datetime', 'trx_amount', 'lat','lon']].copy()\n",
    "\n",
    "to_lag['trx_datetime'] = pd.to_datetime(to_lag['trx_datetime'])\n",
    "\n",
    "### sort by user_id and trx_datetime\n",
    "to_lag.sort_values(\n",
    "    by = ['user_id', 'trx_datetime'], \n",
    "    ascending = [True, True],\n",
    "    inplace=True\n",
    ")"
   ]
  },
  {
   "cell_type": "code",
   "execution_count": 40,
   "id": "add5313d-79f1-4062-857b-8e0ed2d88907",
   "metadata": {},
   "outputs": [
    {
     "name": "stdout",
     "output_type": "stream",
     "text": [
      "<class 'pandas.core.frame.DataFrame'>\n",
      "Int64Index: 1421978 entries, 794852 to 523920\n",
      "Data columns (total 5 columns):\n",
      " #   Column        Non-Null Count    Dtype         \n",
      "---  ------        --------------    -----         \n",
      " 0   user_id       1421978 non-null  object        \n",
      " 1   trx_datetime  1421978 non-null  datetime64[ns]\n",
      " 2   trx_amount    1421978 non-null  int64         \n",
      " 3   lat           1421978 non-null  float64       \n",
      " 4   lon           1421978 non-null  float64       \n",
      "dtypes: datetime64[ns](1), float64(2), int64(1), object(1)\n",
      "memory usage: 65.1+ MB\n"
     ]
    }
   ],
   "source": [
    "to_lag.info()"
   ]
  },
  {
   "cell_type": "code",
   "execution_count": 63,
   "id": "7a9d5b34-5342-42eb-813c-73699f416bae",
   "metadata": {},
   "outputs": [],
   "source": [
    "to_lag['next_trx_datetime'] = to_lag.groupby(\n",
    "    ['user_id'],\n",
    "    as_index=False\n",
    ")['trx_datetime'].shift(-1)\n",
    "\n",
    "to_lag['next_lat'] = to_lag.groupby(\n",
    "    ['user_id'],\n",
    "    as_index=False\n",
    ")['lat'].shift(-1)\n",
    "\n",
    "to_lag['next_lon'] = to_lag.groupby(\n",
    "    ['user_id'],\n",
    "    as_index=False\n",
    ")['lon'].shift(-1)\n",
    "\n",
    "to_lag['next_trx_datetime'] = pd.to_datetime(to_lag['next_trx_datetime'])\n",
    "\n",
    "to_lag['is_same_day'] = np.where(\n",
    "    pd.to_datetime(to_lag['trx_datetime'].dt.date) == pd.to_datetime(to_lag['next_trx_datetime'].dt.date),\n",
    "    1,\n",
    "    0\n",
    ")\n",
    "\n",
    "## CALCULATE DISTANCE\n",
    "to_lag['distance_raw'] = to_lag.apply(\n",
    "    lambda x: get_distance_lat_lon(x.lat, x.lon, x.next_lat, x.next_lon), \n",
    "    axis=1\n",
    ")\n",
    "\n",
    "to_lag['daily_distance'] = np.where(\n",
    "    to_lag['is_same_day'] == 1,\n",
    "    to_lag['distance_raw'],\n",
    "    np.nan\n",
    ")"
   ]
  },
  {
   "cell_type": "code",
   "execution_count": 68,
   "id": "9794df52-f1a8-4376-9cfb-03375642b47b",
   "metadata": {},
   "outputs": [],
   "source": [
    "to_lag['trx_date'] = pd.to_datetime(to_lag['trx_datetime']).dt.date"
   ]
  },
  {
   "cell_type": "code",
   "execution_count": 109,
   "id": "1cbb85ed-c65d-4f78-8ab3-607c560e4a12",
   "metadata": {},
   "outputs": [],
   "source": [
    "\"\"\"\n",
    "overall_distance is calculated by all distance that happened for every user regardless of time/day perspective.\n",
    "\"\"\"\n",
    "overall_distance = to_lag.groupby(\n",
    "    ['user_id'],\n",
    "    as_index = False,\n",
    "    observed = True\n",
    ").agg(\n",
    "    median_distance = ('distance_raw', 'median')\n",
    ")\n",
    "\n",
    "\"\"\"\n",
    "daily_distance is calculated by a distance that happened in the same day.\n",
    "If the next transaction happened on different day, then the daily distance of current transaction is Null.\n",
    "\"\"\"\n",
    "daily_distance = to_lag[(~to_lag['daily_distance'].isna())].groupby(\n",
    "    ['user_id', 'trx_date'],\n",
    "    as_index = False,\n",
    "    observed = True\n",
    ").agg(\n",
    "    total_daily_distance = ('daily_distance', 'sum')\n",
    ").groupby(\n",
    "    ['user_id'],\n",
    "    as_index=False,\n",
    "    observed = True\n",
    ").agg(\n",
    "    median_daily_distance = ('total_daily_distance', 'median')\n",
    ")\n",
    "\n",
    "trx_agg = to_lag.groupby(\n",
    "    ['user_id', 'trx_date'],\n",
    "    as_index = False,\n",
    "    observed= True\n",
    ").agg(\n",
    "    tot_daily_trx_amount = ('trx_amount','sum'),\n",
    "    tot_daily_trx_count = ('trx_date','size')\n",
    ").groupby(\n",
    "    ['user_id'],\n",
    "    as_index = False,\n",
    "    observed = True\n",
    ").agg(\n",
    "    median_trx_amount = ('tot_daily_trx_amount', 'median'),\n",
    "    tot_trx_count = ('tot_daily_trx_count', 'sum')\n",
    ")"
   ]
  },
  {
   "cell_type": "code",
   "execution_count": 113,
   "id": "74510a4c-c81a-467a-b623-2f9d069ab329",
   "metadata": {},
   "outputs": [],
   "source": [
    "all_distance = overall_distance.merge(\n",
    "    daily_distance,\n",
    "    how = 'left',\n",
    "    left_on = 'user_id',\n",
    "    right_on = 'user_id'\n",
    ").merge(\n",
    "    trx_agg,\n",
    "    how = 'left',\n",
    "    left_on = 'user_id',\n",
    "    right_on = 'user_id'\n",
    ")\n",
    "cols_to_fillna = ['median_daily_distance', 'median_distance', 'median_trx_amount', 'tot_trx_count']\n",
    "all_distance[cols_to_fillna] = all_distance[cols_to_fillna].fillna(0)"
   ]
  },
  {
   "cell_type": "code",
   "execution_count": 114,
   "id": "cf38b509-10e8-46b0-bcad-698f729ab2e9",
   "metadata": {},
   "outputs": [
    {
     "name": "stdout",
     "output_type": "stream",
     "text": [
      "8587 0\n"
     ]
    },
    {
     "data": {
      "text/html": [
       "<div>\n",
       "<style scoped>\n",
       "    .dataframe tbody tr th:only-of-type {\n",
       "        vertical-align: middle;\n",
       "    }\n",
       "\n",
       "    .dataframe tbody tr th {\n",
       "        vertical-align: top;\n",
       "    }\n",
       "\n",
       "    .dataframe thead th {\n",
       "        text-align: right;\n",
       "    }\n",
       "</style>\n",
       "<table border=\"1\" class=\"dataframe\">\n",
       "  <thead>\n",
       "    <tr style=\"text-align: right;\">\n",
       "      <th></th>\n",
       "      <th>median_distance</th>\n",
       "      <th>median_daily_distance</th>\n",
       "      <th>median_trx_amount</th>\n",
       "      <th>tot_trx_count</th>\n",
       "    </tr>\n",
       "  </thead>\n",
       "  <tbody>\n",
       "    <tr>\n",
       "      <th>count</th>\n",
       "      <td>8587.000000</td>\n",
       "      <td>8587.000000</td>\n",
       "      <td>8587.000000</td>\n",
       "      <td>8587.000000</td>\n",
       "    </tr>\n",
       "    <tr>\n",
       "      <th>mean</th>\n",
       "      <td>71.433293</td>\n",
       "      <td>83.312836</td>\n",
       "      <td>969.563526</td>\n",
       "      <td>165.596600</td>\n",
       "    </tr>\n",
       "    <tr>\n",
       "      <th>std</th>\n",
       "      <td>52.425216</td>\n",
       "      <td>70.760844</td>\n",
       "      <td>377.112774</td>\n",
       "      <td>117.676062</td>\n",
       "    </tr>\n",
       "    <tr>\n",
       "      <th>min</th>\n",
       "      <td>0.000000</td>\n",
       "      <td>0.000000</td>\n",
       "      <td>69.000000</td>\n",
       "      <td>1.000000</td>\n",
       "    </tr>\n",
       "    <tr>\n",
       "      <th>25%</th>\n",
       "      <td>26.224185</td>\n",
       "      <td>28.200537</td>\n",
       "      <td>738.500000</td>\n",
       "      <td>63.000000</td>\n",
       "    </tr>\n",
       "    <tr>\n",
       "      <th>50%</th>\n",
       "      <td>55.613510</td>\n",
       "      <td>60.306870</td>\n",
       "      <td>924.500000</td>\n",
       "      <td>147.000000</td>\n",
       "    </tr>\n",
       "    <tr>\n",
       "      <th>75%</th>\n",
       "      <td>108.441953</td>\n",
       "      <td>124.079321</td>\n",
       "      <td>1133.000000</td>\n",
       "      <td>252.000000</td>\n",
       "    </tr>\n",
       "    <tr>\n",
       "      <th>max</th>\n",
       "      <td>452.152166</td>\n",
       "      <td>727.807661</td>\n",
       "      <td>7115.000000</td>\n",
       "      <td>469.000000</td>\n",
       "    </tr>\n",
       "  </tbody>\n",
       "</table>\n",
       "</div>"
      ],
      "text/plain": [
       "       median_distance  median_daily_distance  median_trx_amount  \\\n",
       "count      8587.000000            8587.000000        8587.000000   \n",
       "mean         71.433293              83.312836         969.563526   \n",
       "std          52.425216              70.760844         377.112774   \n",
       "min           0.000000               0.000000          69.000000   \n",
       "25%          26.224185              28.200537         738.500000   \n",
       "50%          55.613510              60.306870         924.500000   \n",
       "75%         108.441953             124.079321        1133.000000   \n",
       "max         452.152166             727.807661        7115.000000   \n",
       "\n",
       "       tot_trx_count  \n",
       "count    8587.000000  \n",
       "mean      165.596600  \n",
       "std       117.676062  \n",
       "min         1.000000  \n",
       "25%        63.000000  \n",
       "50%       147.000000  \n",
       "75%       252.000000  \n",
       "max       469.000000  "
      ]
     },
     "execution_count": 114,
     "metadata": {},
     "output_type": "execute_result"
    }
   ],
   "source": [
    "print(all_distance.shape[0], all_distance[(all_distance['median_daily_distance'].isna()) | all_distance['median_distance'].isna()].shape[0])\n",
    "all_distance.describe()"
   ]
  },
  {
   "cell_type": "code",
   "execution_count": 104,
   "id": "c6cb81bc-0b68-4153-8169-38705cc8db6a",
   "metadata": {},
   "outputs": [
    {
     "data": {
      "image/png": "[encoded data removed]",
      "text/plain": [
       "<Figure size 1080x360 with 1 Axes>"
      ]
     },
     "metadata": {
      "needs_background": "light"
     },
     "output_type": "display_data"
    }
   ],
   "source": [
    "fig = plt.figure(figsize=(15,5))\n",
    "sns.kdeplot(all_distance['median_distance'], label = 'median_distance')\n",
    "sns.kdeplot(all_distance['median_daily_distance'], label = 'median_daily_distance')\n",
    "\n",
    "plt.legend()\n",
    "plt.show()"
   ]
  },
  {
   "cell_type": "code",
   "execution_count": 115,
   "id": "c0f94d86-277b-46de-8fbb-36a6ce3b22e9",
   "metadata": {},
   "outputs": [
    {
     "data": {
      "image/png": "[encoded data removed]",
      "text/plain": [
       "<Figure size 1080x360 with 1 Axes>"
      ]
     },
     "metadata": {
      "needs_background": "light"
     },
     "output_type": "display_data"
    }
   ],
   "source": [
    "fig = plt.figure(figsize=(15,5))\n",
    "sns.kdeplot(all_distance['median_trx_amount'], label = 'median_trx_amount')\n",
    "\n",
    "plt.legend()\n",
    "plt.show()"
   ]
  },
  {
   "cell_type": "code",
   "execution_count": 116,
   "id": "3bfebd78-b52c-4e68-a16f-d5ba175176fe",
   "metadata": {},
   "outputs": [
    {
     "data": {
      "image/png": "[encoded data removed]",
      "text/plain": [
       "<Figure size 1080x360 with 1 Axes>"
      ]
     },
     "metadata": {
      "needs_background": "light"
     },
     "output_type": "display_data"
    }
   ],
   "source": [
    "fig = plt.figure(figsize=(15,5))\n",
    "sns.kdeplot(all_distance['tot_trx_count'], label = 'tot_trx_count')\n",
    "\n",
    "plt.legend()\n",
    "plt.show()"
   ]
  },
  {
   "cell_type": "code",
   "execution_count": 180,
   "id": "fc486a36-0069-4dc7-aa61-18503748e910",
   "metadata": {},
   "outputs": [],
   "source": [
    "### Create group for median_distance - Group is based on the data distribution\n",
    "bins, labels = pd.cut(\n",
    "    x=all_distance['median_distance'], \n",
    "    bins=[-float(\"inf\"), 50, 150, float(\"inf\")],\n",
    "    labels=['LOW', 'MEDIUM', 'HIGH'],\n",
    "    retbins=True)\n",
    "\n",
    "all_distance['median_distance_group'] = bins\n",
    "\n",
    "### Create group for median_trx_amount - Group is based on the data distribution\n",
    "bins, labels = pd.cut(\n",
    "    x=all_distance['median_trx_amount'], \n",
    "    bins=[-float(\"inf\"), 500, 1000, float(\"inf\")],\n",
    "    labels=['LOW', 'MEDIUM', 'HIGH'],\n",
    "    retbins=True)\n",
    "\n",
    "all_distance['median_trx_amount_group'] = bins\n",
    "\n",
    "\n",
    "### Create group for tot_trx_count\n",
    "bins, labels = pd.cut(\n",
    "    x=all_distance['tot_trx_count'], \n",
    "    bins=[-float(\"inf\"), 100, 200, float(\"inf\")],\n",
    "    labels=['LOW', 'MEDIUM', 'HIGH'],\n",
    "    retbins=True)\n",
    "\n",
    "all_distance['tot_trx_count_group'] = bins\n",
    "\n",
    "### Create group for median_daily_distance - Group is based on the data distribution\n",
    "bins, labels = pd.cut(\n",
    "    x=all_distance['median_daily_distance'], \n",
    "    bins=[-float(\"inf\"), 50, 150, float(\"inf\")],\n",
    "    labels=['LOW', 'MEDIUM', 'HIGH'],\n",
    "    retbins=True)\n",
    "\n",
    "all_distance['median_daily_distance_group'] = bins"
   ]
  },
  {
   "cell_type": "code",
   "execution_count": 181,
   "id": "26d3dad8-c771-4818-b400-680eebefdc2b",
   "metadata": {},
   "outputs": [
    {
     "data": {
      "text/html": [
       "<div>\n",
       "<style scoped>\n",
       "    .dataframe tbody tr th:only-of-type {\n",
       "        vertical-align: middle;\n",
       "    }\n",
       "\n",
       "    .dataframe tbody tr th {\n",
       "        vertical-align: top;\n",
       "    }\n",
       "\n",
       "    .dataframe thead th {\n",
       "        text-align: right;\n",
       "    }\n",
       "</style>\n",
       "<table border=\"1\" class=\"dataframe\">\n",
       "  <thead>\n",
       "    <tr style=\"text-align: right;\">\n",
       "      <th></th>\n",
       "      <th>user_id</th>\n",
       "      <th>median_distance</th>\n",
       "      <th>median_daily_distance</th>\n",
       "      <th>median_trx_amount</th>\n",
       "      <th>tot_trx_count</th>\n",
       "      <th>median_distance_group</th>\n",
       "      <th>median_trx_amount_group</th>\n",
       "      <th>tot_trx_count_group</th>\n",
       "      <th>median_daily_distance_group</th>\n",
       "    </tr>\n",
       "  </thead>\n",
       "  <tbody>\n",
       "    <tr>\n",
       "      <th>0</th>\n",
       "      <td>00073cc2-c801-c67c-d039-fca63c78c6a9</td>\n",
       "      <td>32.492416</td>\n",
       "      <td>11.372224</td>\n",
       "      <td>953.0</td>\n",
       "      <td>112</td>\n",
       "      <td>LOW</td>\n",
       "      <td>MEDIUM</td>\n",
       "      <td>MEDIUM</td>\n",
       "      <td>LOW</td>\n",
       "    </tr>\n",
       "    <tr>\n",
       "      <th>1</th>\n",
       "      <td>000b6710-f8b4-ddd4-1913-90c7d424fccf</td>\n",
       "      <td>18.417210</td>\n",
       "      <td>15.458092</td>\n",
       "      <td>1214.0</td>\n",
       "      <td>183</td>\n",
       "      <td>LOW</td>\n",
       "      <td>HIGH</td>\n",
       "      <td>MEDIUM</td>\n",
       "      <td>LOW</td>\n",
       "    </tr>\n",
       "    <tr>\n",
       "      <th>2</th>\n",
       "      <td>00183cfe-ceb0-9220-7984-f33f61c61ae4</td>\n",
       "      <td>33.591164</td>\n",
       "      <td>37.570253</td>\n",
       "      <td>1302.0</td>\n",
       "      <td>374</td>\n",
       "      <td>LOW</td>\n",
       "      <td>HIGH</td>\n",
       "      <td>HIGH</td>\n",
       "      <td>LOW</td>\n",
       "    </tr>\n",
       "    <tr>\n",
       "      <th>3</th>\n",
       "      <td>001b10c4-0ec1-68c9-a059-0a44159119bd</td>\n",
       "      <td>11.806901</td>\n",
       "      <td>14.230358</td>\n",
       "      <td>920.5</td>\n",
       "      <td>203</td>\n",
       "      <td>LOW</td>\n",
       "      <td>MEDIUM</td>\n",
       "      <td>HIGH</td>\n",
       "      <td>LOW</td>\n",
       "    </tr>\n",
       "    <tr>\n",
       "      <th>4</th>\n",
       "      <td>0021b632-3246-b7d9-bb29-66398e4a295d</td>\n",
       "      <td>30.279938</td>\n",
       "      <td>28.597604</td>\n",
       "      <td>1189.0</td>\n",
       "      <td>217</td>\n",
       "      <td>LOW</td>\n",
       "      <td>HIGH</td>\n",
       "      <td>HIGH</td>\n",
       "      <td>LOW</td>\n",
       "    </tr>\n",
       "  </tbody>\n",
       "</table>\n",
       "</div>"
      ],
      "text/plain": [
       "                                user_id  median_distance  \\\n",
       "0  00073cc2-c801-c67c-d039-fca63c78c6a9        32.492416   \n",
       "1  000b6710-f8b4-ddd4-1913-90c7d424fccf        18.417210   \n",
       "2  00183cfe-ceb0-9220-7984-f33f61c61ae4        33.591164   \n",
       "3  001b10c4-0ec1-68c9-a059-0a44159119bd        11.806901   \n",
       "4  0021b632-3246-b7d9-bb29-66398e4a295d        30.279938   \n",
       "\n",
       "   median_daily_distance  median_trx_amount  tot_trx_count  \\\n",
       "0              11.372224              953.0            112   \n",
       "1              15.458092             1214.0            183   \n",
       "2              37.570253             1302.0            374   \n",
       "3              14.230358              920.5            203   \n",
       "4              28.597604             1189.0            217   \n",
       "\n",
       "  median_distance_group median_trx_amount_group tot_trx_count_group  \\\n",
       "0                   LOW                  MEDIUM              MEDIUM   \n",
       "1                   LOW                    HIGH              MEDIUM   \n",
       "2                   LOW                    HIGH                HIGH   \n",
       "3                   LOW                  MEDIUM                HIGH   \n",
       "4                   LOW                    HIGH                HIGH   \n",
       "\n",
       "  median_daily_distance_group  \n",
       "0                         LOW  \n",
       "1                         LOW  \n",
       "2                         LOW  \n",
       "3                         LOW  \n",
       "4                         LOW  "
      ]
     },
     "execution_count": 181,
     "metadata": {},
     "output_type": "execute_result"
    }
   ],
   "source": [
    "all_distance.head()"
   ]
  },
  {
   "cell_type": "code",
   "execution_count": 182,
   "id": "690218e6-4a5f-4654-bc8c-081cb55d0c4a",
   "metadata": {},
   "outputs": [],
   "source": [
    "dist_amount = pd.crosstab(all_distance['median_distance_group'], all_distance['median_trx_amount_group'])\n",
    "dist_amount.index.names = ['Travel Distance Group']\n",
    "dist_count = pd.crosstab(all_distance['median_distance_group'], all_distance['tot_trx_count_group'])\n",
    "dist_count.index.names = ['Travel Distance Group']\n",
    "\n",
    "daily_dist_amount = pd.crosstab(all_distance['median_daily_distance_group'], all_distance['median_trx_amount_group'])\n",
    "daily_dist_amount.index.names = ['Travel DAILY Distance Group']\n",
    "daily_dist_count = pd.crosstab(all_distance['median_daily_distance_group'], all_distance['tot_trx_count_group'])\n",
    "daily_dist_count.index.names = ['Travel DAILY Distance Group']"
   ]
  },
  {
   "cell_type": "code",
   "execution_count": 183,
   "id": "f0cb34c1-1605-40d6-a2cb-ce4b1b72a7f2",
   "metadata": {},
   "outputs": [
    {
     "data": {
      "text/html": [
       "<div>\n",
       "<style scoped>\n",
       "    .dataframe tbody tr th:only-of-type {\n",
       "        vertical-align: middle;\n",
       "    }\n",
       "\n",
       "    .dataframe tbody tr th {\n",
       "        vertical-align: top;\n",
       "    }\n",
       "\n",
       "    .dataframe thead th {\n",
       "        text-align: right;\n",
       "    }\n",
       "</style>\n",
       "<table border=\"1\" class=\"dataframe\">\n",
       "  <thead>\n",
       "    <tr style=\"text-align: right;\">\n",
       "      <th>tot_trx_count_group</th>\n",
       "      <th>LOW</th>\n",
       "      <th>MEDIUM</th>\n",
       "      <th>HIGH</th>\n",
       "    </tr>\n",
       "    <tr>\n",
       "      <th>Travel Distance Group</th>\n",
       "      <th></th>\n",
       "      <th></th>\n",
       "      <th></th>\n",
       "    </tr>\n",
       "  </thead>\n",
       "  <tbody>\n",
       "    <tr>\n",
       "      <th>LOW</th>\n",
       "      <td>1554</td>\n",
       "      <td>963</td>\n",
       "      <td>1502</td>\n",
       "    </tr>\n",
       "    <tr>\n",
       "      <th>MEDIUM</th>\n",
       "      <td>1331</td>\n",
       "      <td>1018</td>\n",
       "      <td>1499</td>\n",
       "    </tr>\n",
       "    <tr>\n",
       "      <th>HIGH</th>\n",
       "      <td>338</td>\n",
       "      <td>148</td>\n",
       "      <td>234</td>\n",
       "    </tr>\n",
       "  </tbody>\n",
       "</table>\n",
       "</div>"
      ],
      "text/plain": [
       "tot_trx_count_group     LOW  MEDIUM  HIGH\n",
       "Travel Distance Group                    \n",
       "LOW                    1554     963  1502\n",
       "MEDIUM                 1331    1018  1499\n",
       "HIGH                    338     148   234"
      ]
     },
     "execution_count": 183,
     "metadata": {},
     "output_type": "execute_result"
    }
   ],
   "source": [
    "dist_count"
   ]
  },
  {
   "cell_type": "code",
   "execution_count": 184,
   "id": "fdd6315a-c45b-451d-a6b2-d67e64f624cf",
   "metadata": {},
   "outputs": [
    {
     "data": {
      "image/png": "[encoded data removed]",
      "text/plain": [
       "<Figure size 1440x720 with 8 Axes>"
      ]
     },
     "metadata": {
      "needs_background": "light"
     },
     "output_type": "display_data"
    }
   ],
   "source": [
    "fig = plt.figure(figsize=(20,10))\n",
    "\n",
    "ax1 = fig.add_subplot(221)\n",
    "sns.heatmap(dist_count,cmap=\"YlGnBu\", ax=ax1, \n",
    "            cbar_kws={'label': '# of Users'}, \n",
    "            annot=True, fmt='g', annot_kws={'fontweight':'bold'}\n",
    "           )\n",
    "ax1.invert_yaxis()\n",
    "ax1.set_xlabel('')\n",
    "ax1.set_title('Distance by Count', size = 13)\n",
    "\n",
    "ax2 = fig.add_subplot(222)\n",
    "sns.heatmap(dist_amount,cmap=\"YlGnBu\", ax=ax2, \n",
    "            cbar_kws={'label': '# of Users'}, \n",
    "            annot=True, fmt='g', annot_kws={'fontweight':'bold'}\n",
    "           )\n",
    "ax2.invert_yaxis()\n",
    "ax2.set_xlabel('')\n",
    "ax2.set_title('Distance by Amount', size = 13)\n",
    "\n",
    "ax3 = fig.add_subplot(223)\n",
    "sns.heatmap(daily_dist_count,cmap=\"YlGnBu\", ax=ax3, \n",
    "            cbar_kws={'label': '# of Users'}, \n",
    "            annot=True, fmt='g', annot_kws={'fontweight':'bold'}\n",
    "           )\n",
    "ax3.invert_yaxis()\n",
    "ax3.set_xlabel('Transaction Count Group')\n",
    "ax3.set_title('DAILY Distance by Count', size = 13)\n",
    "\n",
    "ax4 = fig.add_subplot(224)\n",
    "sns.heatmap(daily_dist_amount,cmap=\"YlGnBu\", ax=ax4, \n",
    "            cbar_kws={'label': '# of Users'}, \n",
    "            annot=True, fmt='g', annot_kws={'fontweight':'bold'}\n",
    "           )\n",
    "ax4.invert_yaxis()\n",
    "ax4.set_xlabel('Transaction Amount Group')\n",
    "ax4.set_title('DAILY Distance by Amount', size = 13)\n",
    "\n",
    "\n",
    "plt.show()"
   ]
  },
  {
   "cell_type": "markdown",
   "id": "c9ff3a1d-01ab-4ef6-85d1-f554a2359dd4",
   "metadata": {},
   "source": [
    "| Groups | LOW | MEDIUM | HIGH |\n",
    "| --- | --- | --- | --- |\n",
    "| Transaction Count Group | ≤ 100 | > 100 and ≤ 200 | > 200 |\n",
    "| Transaction Amount Group | ≤ 500 | > 500 and ≤ 1000 | > 1000 |\n",
    "| Travel Distance Group (in Km) | ≤ 50 | > 50 and ≤ 150 | > 150 |\n",
    "| Travel DAILY Distance Group (in Km) | ≤ 50 | > 50 and ≤ 150 | > 150 |"
   ]
  },
  {
   "cell_type": "markdown",
   "id": "92aba355-b911-4676-ae1d-700028ab31da",
   "metadata": {},
   "source": [
    "**Takeaways:**\n",
    "* No discernible pattern emerged from <u>overall distance</u> and <u>daily distance</u>\n",
    "* **Distance by Count & Daily Distance by Count**\n",
    "    * Looking at these two charts , users who travel further are tend to have lower number of transaction. This could be due to the fact that they are on the move more than other groups of people. Hence they are less likely to carry many things with them.\n",
    "    * **Recommendation:** \n",
    "        1. We could push users who have high mobility to purchase more on online purchases such us e-commerce, mobile data package, and so on. They still could make a purchase online while they are on the move.\n",
    "        2. Public Transportation package.\n",
    "        3. Insurance\n",
    "        4. Order ahead for self pick up.\n",
    "* **Distance by Amount & Daily Distance by Amount**\n",
    "    * Based on the next two charts, it is obvious that there is an increasing number of Users as they travel less. This could be due to users who travel less might live in the urban area where things are more expensive, but the availability of items can be found in many places.\n",
    "    * **Recommendation:** Using this grouping mechanism, we can proxy users who are more likely to live in urban VS those who live in suburban or even rural area. Since urban users tend to have higher buying power, should there be any promo that will be launched, they can be given less discount than those who live further than the urban area."
   ]
  },
  {
   "cell_type": "markdown",
   "id": "50319fef-053a-4295-a535-da78b590e845",
   "metadata": {},
   "source": [
    "# 4. Modeling"
   ]
  },
  {
   "cell_type": "markdown",
   "id": "2533b7cd-393b-4eb5-bb8c-9e5aa31b01d1",
   "metadata": {},
   "source": [
    "## 4.1 Feature Engineering"
   ]
  },
  {
   "cell_type": "markdown",
   "id": "cf1a0251-3057-4f65-a256-e985837cf568",
   "metadata": {},
   "source": [
    "### Creating labels dataset"
   ]
  },
  {
   "cell_type": "code",
   "execution_count": 53,
   "id": "1fedd2bb-6a57-4d3d-a10f-915fab45ccb4",
   "metadata": {},
   "outputs": [],
   "source": [
    "DATE_FORMAT = '%Y-%m-%d'"
   ]
  },
  {
   "cell_type": "code",
   "execution_count": 4,
   "id": "6da7a545-7482-4fdd-9e21-6d33a7d0de27",
   "metadata": {},
   "outputs": [],
   "source": [
    "trx_raw = pd.read_csv(f\"{configs['INTERMEDIATE_PATH']}/trx_fin_raw.csv\")"
   ]
  },
  {
   "cell_type": "code",
   "execution_count": 5,
   "id": "994745c5-7def-42f5-9cba-72865ed8fdcb",
   "metadata": {},
   "outputs": [],
   "source": [
    "trx_raw['trx_datetime'] = pd.to_datetime(trx_raw['trx_datetime'])"
   ]
  },
  {
   "cell_type": "code",
   "execution_count": 189,
   "id": "1578d0c3-4e83-4ed8-b8db-b687a6adacfe",
   "metadata": {},
   "outputs": [],
   "source": [
    "trx_raw['month'] = trx_raw['trx_datetime'].dt.month\n",
    "trx_raw['year'] = trx_raw['trx_datetime'].dt.year\n",
    "trx_raw['monthyear'] = trx_raw['year'].astype(str) + trx_raw['month'].map(\"{:02}\".format)\n",
    "trx_raw['is_weekend'] = (trx_raw['trx_datetime'].dt.weekday >= 5).astype(int)\n",
    "trx_raw['is_weekday'] = (trx_raw['trx_datetime'].dt.weekday < 5).astype(int)\n",
    "trx_raw['trx_amount_weekend'] = np.where(\n",
    "    trx_raw['is_weekend'] == 1,\n",
    "    trx_raw['trx_amount'],\n",
    "    0\n",
    ")\n",
    "trx_raw['trx_amount_weekday'] = np.where(\n",
    "    trx_raw['is_weekday'] == 1,\n",
    "    trx_raw['trx_amount'],\n",
    "    0\n",
    ")\n",
    "trx_raw['trx_hour'] = trx_raw['trx_datetime'].dt.hour\n",
    "trx_raw['trx_day'] = np.where(\n",
    "    (trx_raw['trx_hour'] >= 9) &\n",
    "    (trx_raw['trx_hour'] <= 18),\n",
    "    1,\n",
    "    0\n",
    ")\n",
    "trx_raw['trx_night'] = np.where(\n",
    "    (trx_raw['trx_hour'] < 9) |\n",
    "    (trx_raw['trx_hour'] > 18),\n",
    "    1,\n",
    "    0\n",
    ")\n",
    "\n",
    "trx_raw['trx_amount_day'] = np.where(\n",
    "    trx_raw['trx_day'] == 1,\n",
    "    trx_raw['trx_amount'],\n",
    "    0\n",
    ")\n",
    "\n",
    "trx_raw['trx_amount_night'] = np.where(\n",
    "    trx_raw['trx_night'] == 1,\n",
    "    trx_raw['trx_amount'],\n",
    "    0\n",
    ")"
   ]
  },
  {
   "cell_type": "code",
   "execution_count": 190,
   "id": "1f6d4534-c232-4766-af99-e5fe03118fa6",
   "metadata": {},
   "outputs": [
    {
     "name": "stdout",
     "output_type": "stream",
     "text": [
      "<class 'pandas.core.frame.DataFrame'>\n",
      "RangeIndex: 1582260 entries, 0 to 1582259\n",
      "Data columns (total 25 columns):\n",
      " #   Column              Non-Null Count    Dtype         \n",
      "---  ------              --------------    -----         \n",
      " 0   trx_id              1582260 non-null  object        \n",
      " 1   user_id             1582260 non-null  object        \n",
      " 2   store_id            1582260 non-null  object        \n",
      " 3   trx_datetime        1582260 non-null  datetime64[ns]\n",
      " 4   trx_amount          1582260 non-null  int64         \n",
      " 5   trx_date            1582260 non-null  object        \n",
      " 6   gender              1421978 non-null  object        \n",
      " 7   age                 1505614 non-null  float64       \n",
      " 8   nam                 1582260 non-null  object        \n",
      " 9   laa                 1582260 non-null  object        \n",
      " 10  lat                 1582260 non-null  float64       \n",
      " 11  lon                 1582260 non-null  float64       \n",
      " 12  category            1582260 non-null  object        \n",
      " 13  month               1582260 non-null  int64         \n",
      " 14  year                1582260 non-null  int64         \n",
      " 15  monthyear           1582260 non-null  object        \n",
      " 16  is_weekend          1582260 non-null  int64         \n",
      " 17  is_weekday          1582260 non-null  int64         \n",
      " 18  trx_amount_weekend  1582260 non-null  int64         \n",
      " 19  trx_amount_weekday  1582260 non-null  int64         \n",
      " 20  trx_hour            1582260 non-null  int64         \n",
      " 21  trx_day             1582260 non-null  int64         \n",
      " 22  trx_night           1582260 non-null  int64         \n",
      " 23  trx_amount_day      1582260 non-null  int64         \n",
      " 24  trx_amount_night    1582260 non-null  int64         \n",
      "dtypes: datetime64[ns](1), float64(3), int64(12), object(9)\n",
      "memory usage: 301.8+ MB\n"
     ]
    }
   ],
   "source": [
    "trx_raw.info()"
   ]
  },
  {
   "cell_type": "code",
   "execution_count": null,
   "id": "39ae4dae-a0d3-43c9-b099-8b9b664ea340",
   "metadata": {},
   "outputs": [],
   "source": [
    "trx_raw"
   ]
  },
  {
   "cell_type": "code",
   "execution_count": 182,
   "id": "fd017d51-d173-408f-8892-361ded34ea0f",
   "metadata": {},
   "outputs": [
    {
     "data": {
      "text/html": [
       "<div>\n",
       "<style scoped>\n",
       "    .dataframe tbody tr th:only-of-type {\n",
       "        vertical-align: middle;\n",
       "    }\n",
       "\n",
       "    .dataframe tbody tr th {\n",
       "        vertical-align: top;\n",
       "    }\n",
       "\n",
       "    .dataframe thead th {\n",
       "        text-align: right;\n",
       "    }\n",
       "</style>\n",
       "<table border=\"1\" class=\"dataframe\">\n",
       "  <thead>\n",
       "    <tr style=\"text-align: right;\">\n",
       "      <th></th>\n",
       "      <th>trx_day</th>\n",
       "      <th>trx_night</th>\n",
       "    </tr>\n",
       "  </thead>\n",
       "  <tbody>\n",
       "    <tr>\n",
       "      <th>0</th>\n",
       "      <td>0</td>\n",
       "      <td>1</td>\n",
       "    </tr>\n",
       "  </tbody>\n",
       "</table>\n",
       "</div>"
      ],
      "text/plain": [
       "   trx_day  trx_night\n",
       "0        0          1"
      ]
     },
     "execution_count": 182,
     "metadata": {},
     "output_type": "execute_result"
    }
   ],
   "source": [
    "trx_raw[(trx_raw['trx_hour'] < 9) | (trx_raw['trx_hour'] > 18)][['trx_day', 'trx_night']].drop_duplicates()"
   ]
  },
  {
   "cell_type": "code",
   "execution_count": 183,
   "id": "aaf0995c-060e-47dd-9e60-c8d376759d41",
   "metadata": {},
   "outputs": [
    {
     "data": {
      "text/html": [
       "<div>\n",
       "<style scoped>\n",
       "    .dataframe tbody tr th:only-of-type {\n",
       "        vertical-align: middle;\n",
       "    }\n",
       "\n",
       "    .dataframe tbody tr th {\n",
       "        vertical-align: top;\n",
       "    }\n",
       "\n",
       "    .dataframe thead th {\n",
       "        text-align: right;\n",
       "    }\n",
       "</style>\n",
       "<table border=\"1\" class=\"dataframe\">\n",
       "  <thead>\n",
       "    <tr style=\"text-align: right;\">\n",
       "      <th></th>\n",
       "      <th>trx_day</th>\n",
       "      <th>trx_night</th>\n",
       "    </tr>\n",
       "  </thead>\n",
       "  <tbody>\n",
       "    <tr>\n",
       "      <th>1</th>\n",
       "      <td>1</td>\n",
       "      <td>0</td>\n",
       "    </tr>\n",
       "  </tbody>\n",
       "</table>\n",
       "</div>"
      ],
      "text/plain": [
       "   trx_day  trx_night\n",
       "1        1          0"
      ]
     },
     "execution_count": 183,
     "metadata": {},
     "output_type": "execute_result"
    }
   ],
   "source": [
    "trx_raw[(trx_raw['trx_hour'] >= 9) & (trx_raw['trx_hour'] <= 18)][['trx_day', 'trx_night']].drop_duplicates()"
   ]
  },
  {
   "cell_type": "code",
   "execution_count": 146,
   "id": "666fbe5a-bf58-40d4-b737-129c2494dd70",
   "metadata": {},
   "outputs": [],
   "source": [
    "monthly_trx = trx_raw.groupby(\n",
    "    ['user_id', 'monthyear'],\n",
    "    as_index = False,\n",
    "    observed = True\n",
    ").agg(\n",
    "    monthly_amount = ('trx_amount', 'sum')\n",
    ")"
   ]
  },
  {
   "cell_type": "code",
   "execution_count": 147,
   "id": "5b216d9c-43a0-4f4c-93d2-5edda8244577",
   "metadata": {},
   "outputs": [
    {
     "name": "stdout",
     "output_type": "stream",
     "text": [
      "\n",
      "    # of users total = 9542\n",
      "    # of users transacted in Dec 2021 = 8531 (89.40%)\n",
      "    \n"
     ]
    }
   ],
   "source": [
    "next_month = str(configs['CUTOFF_DATE'].year) + str(configs['CUTOFF_DATE'].month+1).zfill(2)\n",
    "tot_users_dec_trx = monthly_trx.query(f'monthyear == \"{next_month}\"')['user_id'].nunique()\n",
    "tot_users = all_users['user_id'].nunique()\n",
    "print(\n",
    "    f\"\"\"\n",
    "    # of users total = {tot_users}\n",
    "    # of users transacted in Dec 2021 = {tot_users_dec_trx} ({tot_users_dec_trx/tot_users:.02%})\n",
    "    \"\"\"\n",
    ")"
   ]
  },
  {
   "cell_type": "code",
   "execution_count": 156,
   "id": "b260afc7-929f-4c01-bf73-36c5eaf7f729",
   "metadata": {},
   "outputs": [
    {
     "data": {
      "text/html": [
       "<div>\n",
       "<style scoped>\n",
       "    .dataframe tbody tr th:only-of-type {\n",
       "        vertical-align: middle;\n",
       "    }\n",
       "\n",
       "    .dataframe tbody tr th {\n",
       "        vertical-align: top;\n",
       "    }\n",
       "\n",
       "    .dataframe thead th {\n",
       "        text-align: right;\n",
       "    }\n",
       "</style>\n",
       "<table border=\"1\" class=\"dataframe\">\n",
       "  <thead>\n",
       "    <tr style=\"text-align: right;\">\n",
       "      <th></th>\n",
       "      <th>trx_date</th>\n",
       "      <th>is_weekend</th>\n",
       "    </tr>\n",
       "  </thead>\n",
       "  <tbody>\n",
       "    <tr>\n",
       "      <th>48</th>\n",
       "      <td>2021-04-10</td>\n",
       "      <td>1</td>\n",
       "    </tr>\n",
       "    <tr>\n",
       "      <th>368</th>\n",
       "      <td>2021-04-09</td>\n",
       "      <td>0</td>\n",
       "    </tr>\n",
       "    <tr>\n",
       "      <th>968</th>\n",
       "      <td>2021-04-11</td>\n",
       "      <td>1</td>\n",
       "    </tr>\n",
       "    <tr>\n",
       "      <th>1130</th>\n",
       "      <td>2021-04-12</td>\n",
       "      <td>0</td>\n",
       "    </tr>\n",
       "  </tbody>\n",
       "</table>\n",
       "</div>"
      ],
      "text/plain": [
       "        trx_date  is_weekend\n",
       "48    2021-04-10           1\n",
       "368   2021-04-09           0\n",
       "968   2021-04-11           1\n",
       "1130  2021-04-12           0"
      ]
     },
     "execution_count": 156,
     "metadata": {},
     "output_type": "execute_result"
    }
   ],
   "source": [
    "trx_raw[trx_raw['trx_date'].isin(['2021-04-09', '2021-04-10', '2021-04-11', '2021-04-12'])][['trx_date', 'is_weekend']].drop_duplicates()"
   ]
  },
  {
   "cell_type": "code",
   "execution_count": 196,
   "id": "8e530c29-e41c-4251-b329-027c748d36a3",
   "metadata": {},
   "outputs": [
    {
     "data": {
      "text/plain": [
       "('2020-01-01', '2021-10-31')"
      ]
     },
     "execution_count": 196,
     "metadata": {},
     "output_type": "execute_result"
    }
   ],
   "source": [
    "cutoff_monthyear = str(configs['CUTOFF_DATE'].year) + str(configs['CUTOFF_DATE'].month).zfill(2)\n",
    "daily_trx = trx_raw[trx_raw['monthyear'] <= cutoff_monthyear].groupby(\n",
    "    ['user_id', 'trx_date'],\n",
    "    as_index = False,\n",
    "    observed = True\n",
    ").agg(\n",
    "    daily_amount = ('trx_amount', 'sum'),\n",
    "    trx_count = ('trx_amount', 'size'),\n",
    "    trx_count_weekend = ('is_weekend', 'sum'),\n",
    "    trx_count_weekday = ('is_weekday', 'sum'),\n",
    "    trx_amount_weekend = ('trx_amount_weekend', 'sum'),\n",
    "    trx_amount_weekday = ('trx_amount_weekday', 'sum')\n",
    ")\n",
    "daily_trx['active_day'] = 1\n",
    "daily_trx['trx_date'].min(), daily_trx['trx_date'].max()"
   ]
  },
  {
   "cell_type": "code",
   "execution_count": 237,
   "id": "16c72434-d783-4e22-9d6a-ffa62620de05",
   "metadata": {},
   "outputs": [
    {
     "name": "stdout",
     "output_type": "stream",
     "text": [
      "(81, 9)\n"
     ]
    },
    {
     "data": {
      "text/html": [
       "<div>\n",
       "<style scoped>\n",
       "    .dataframe tbody tr th:only-of-type {\n",
       "        vertical-align: middle;\n",
       "    }\n",
       "\n",
       "    .dataframe tbody tr th {\n",
       "        vertical-align: top;\n",
       "    }\n",
       "\n",
       "    .dataframe thead th {\n",
       "        text-align: right;\n",
       "    }\n",
       "</style>\n",
       "<table border=\"1\" class=\"dataframe\">\n",
       "  <thead>\n",
       "    <tr style=\"text-align: right;\">\n",
       "      <th></th>\n",
       "      <th>user_id</th>\n",
       "      <th>trx_date</th>\n",
       "      <th>daily_amount</th>\n",
       "      <th>trx_count</th>\n",
       "      <th>trx_count_weekend</th>\n",
       "      <th>trx_count_weekday</th>\n",
       "      <th>trx_amount_weekend</th>\n",
       "      <th>trx_amount_weekday</th>\n",
       "      <th>active_day</th>\n",
       "    </tr>\n",
       "  </thead>\n",
       "  <tbody>\n",
       "    <tr>\n",
       "      <th>0</th>\n",
       "      <td>00073cc2-c801-c67c-d039-fca63c78c6a9</td>\n",
       "      <td>2020-11-30</td>\n",
       "      <td>309</td>\n",
       "      <td>1</td>\n",
       "      <td>0</td>\n",
       "      <td>1</td>\n",
       "      <td>0</td>\n",
       "      <td>309</td>\n",
       "      <td>1</td>\n",
       "    </tr>\n",
       "    <tr>\n",
       "      <th>1</th>\n",
       "      <td>00073cc2-c801-c67c-d039-fca63c78c6a9</td>\n",
       "      <td>2020-12-03</td>\n",
       "      <td>502</td>\n",
       "      <td>2</td>\n",
       "      <td>0</td>\n",
       "      <td>2</td>\n",
       "      <td>0</td>\n",
       "      <td>502</td>\n",
       "      <td>1</td>\n",
       "    </tr>\n",
       "    <tr>\n",
       "      <th>2</th>\n",
       "      <td>00073cc2-c801-c67c-d039-fca63c78c6a9</td>\n",
       "      <td>2020-12-04</td>\n",
       "      <td>1498</td>\n",
       "      <td>1</td>\n",
       "      <td>0</td>\n",
       "      <td>1</td>\n",
       "      <td>0</td>\n",
       "      <td>1498</td>\n",
       "      <td>1</td>\n",
       "    </tr>\n",
       "    <tr>\n",
       "      <th>3</th>\n",
       "      <td>00073cc2-c801-c67c-d039-fca63c78c6a9</td>\n",
       "      <td>2020-12-13</td>\n",
       "      <td>164</td>\n",
       "      <td>1</td>\n",
       "      <td>1</td>\n",
       "      <td>0</td>\n",
       "      <td>164</td>\n",
       "      <td>0</td>\n",
       "      <td>1</td>\n",
       "    </tr>\n",
       "    <tr>\n",
       "      <th>4</th>\n",
       "      <td>00073cc2-c801-c67c-d039-fca63c78c6a9</td>\n",
       "      <td>2020-12-19</td>\n",
       "      <td>1952</td>\n",
       "      <td>1</td>\n",
       "      <td>1</td>\n",
       "      <td>0</td>\n",
       "      <td>1952</td>\n",
       "      <td>0</td>\n",
       "      <td>1</td>\n",
       "    </tr>\n",
       "  </tbody>\n",
       "</table>\n",
       "</div>"
      ],
      "text/plain": [
       "                                user_id    trx_date  daily_amount  trx_count  \\\n",
       "0  00073cc2-c801-c67c-d039-fca63c78c6a9  2020-11-30           309          1   \n",
       "1  00073cc2-c801-c67c-d039-fca63c78c6a9  2020-12-03           502          2   \n",
       "2  00073cc2-c801-c67c-d039-fca63c78c6a9  2020-12-04          1498          1   \n",
       "3  00073cc2-c801-c67c-d039-fca63c78c6a9  2020-12-13           164          1   \n",
       "4  00073cc2-c801-c67c-d039-fca63c78c6a9  2020-12-19          1952          1   \n",
       "\n",
       "   trx_count_weekend  trx_count_weekday  trx_amount_weekend  \\\n",
       "0                  0                  1                   0   \n",
       "1                  0                  2                   0   \n",
       "2                  0                  1                   0   \n",
       "3                  1                  0                 164   \n",
       "4                  1                  0                1952   \n",
       "\n",
       "   trx_amount_weekday  active_day  \n",
       "0                 309           1  \n",
       "1                 502           1  \n",
       "2                1498           1  \n",
       "3                   0           1  \n",
       "4                   0           1  "
      ]
     },
     "execution_count": 237,
     "metadata": {},
     "output_type": "execute_result"
    }
   ],
   "source": [
    "test_df = daily_trx[daily_trx['user_id'] == '00073cc2-c801-c67c-d039-fca63c78c6a9']\n",
    "print(test_df.shape)\n",
    "test_df.head()"
   ]
  },
  {
   "cell_type": "code",
   "execution_count": 198,
   "id": "8bfa4482-9afb-4768-950d-c56f515621c4",
   "metadata": {},
   "outputs": [
    {
     "data": {
      "text/plain": [
       "'2021-10-31'"
      ]
     },
     "execution_count": 198,
     "metadata": {},
     "output_type": "execute_result"
    }
   ],
   "source": [
    "configs['CUTOFF_DATE'].strftime(DATE_FORMAT)"
   ]
  },
  {
   "cell_type": "code",
   "execution_count": 199,
   "id": "503844cc-6523-43ee-b9a5-c747d82dce0c",
   "metadata": {},
   "outputs": [
    {
     "data": {
      "text/plain": [
       "{'l7d': [datetime.date(2021, 10, 24), datetime.date(2021, 10, 31)],\n",
       " 'l14d': [datetime.date(2021, 10, 17), datetime.date(2021, 10, 31)],\n",
       " 'l30d': [datetime.date(2021, 10, 1), datetime.date(2021, 10, 31)],\n",
       " 'l90d': [datetime.date(2021, 8, 2), datetime.date(2021, 10, 31)],\n",
       " 'l180d': [datetime.date(2021, 5, 4), datetime.date(2021, 10, 31)]}"
      ]
     },
     "execution_count": 199,
     "metadata": {},
     "output_type": "execute_result"
    }
   ],
   "source": [
    "agg_prefix = {\n",
    "    'daily_amount': ['mean', 'sum', 'min', 'max'],\n",
    "    'trx_count': ['mean', 'sum', 'max'],\n",
    "    'active_day': ['mean', 'sum'],\n",
    "    'trx_count_weekend': ['sum'],\n",
    "    'trx_count_weekday': ['sum'],\n",
    "    'trx_amount_weekend': ['sum'],\n",
    "    'trx_amount_weekday': ['sum']\n",
    "}\n",
    "\n",
    "time_range = [\n",
    "    'l7d', \n",
    "    'l14d', \n",
    "    'l30d', \n",
    "    'l90d', \n",
    "    'l180d'\n",
    "]\n",
    "\n",
    "def suffix_timestamp(target_date_dt, time_range):\n",
    "        \"\"\"\n",
    "        Create dictionary with suffix and the corresponding start date and end date value.\n",
    "        \"\"\"\n",
    "        times = {\n",
    "            'l7d': [target_date_dt - datetime.timedelta(days=7), target_date_dt],\n",
    "            'l14d': [target_date_dt - datetime.timedelta(days=14), target_date_dt],\n",
    "            'l30d': [target_date_dt - datetime.timedelta(days=30), target_date_dt],\n",
    "            'l90d': [target_date_dt - datetime.timedelta(days=90), target_date_dt],\n",
    "            'l180d': [target_date_dt - datetime.timedelta(days=180), target_date_dt]\n",
    "        }\n",
    "\n",
    "        return {k: times.get(k) for k in time_range}\n",
    "\n",
    "suffix_daterange_map = suffix_timestamp(configs['CUTOFF_DATE'], time_range)\n",
    "suffix_daterange_map"
   ]
  },
  {
   "cell_type": "code",
   "execution_count": 231,
   "id": "270ff9c6-2100-47c7-a678-076560e566d2",
   "metadata": {},
   "outputs": [],
   "source": [
    "test_df_users = test_df[['user_id']].drop_duplicates()\n",
    "test_df_users\n",
    "\n",
    "all_users = trx_raw[['user_id']].drop_duplicates()\n",
    "\n",
    "for suffix, date_range in suffix_daterange_map.items():\n",
    "    for agg_ix, agg_val in agg_prefix.items():\n",
    "        for agg in agg_val:\n",
    "            \n",
    "            if agg_ix in ['trx_count', 'active_day'] and agg == 'mean':\n",
    "                agg_test = daily_trx[ # test_df\n",
    "                    (pd.to_datetime(daily_trx['trx_date']) <= date_range[1].strftime(DATE_FORMAT)) &\n",
    "                    (pd.to_datetime(daily_trx['trx_date']) > date_range[0].strftime(DATE_FORMAT))\n",
    "                ].groupby(\n",
    "                    ['user_id'],\n",
    "                    as_index = False,\n",
    "                    observed = True\n",
    "                ).agg(\n",
    "                    {\n",
    "                        agg_ix: 'sum'\n",
    "                    }\n",
    "                )\n",
    "                \n",
    "                agg_test[agg_ix] = agg_test[agg_ix] / int(suffix[1:-1])\n",
    "            else:\n",
    "                agg_test = daily_trx[ # test_df\n",
    "                    (pd.to_datetime(daily_trx['trx_date']) <= date_range[1].strftime(DATE_FORMAT)) &\n",
    "                    (pd.to_datetime(daily_trx['trx_date']) > date_range[0].strftime(DATE_FORMAT))\n",
    "                ].groupby(\n",
    "                    ['user_id'],\n",
    "                    as_index = False,\n",
    "                    observed = True\n",
    "                ).agg(\n",
    "                    {\n",
    "                        agg_ix: agg\n",
    "                    }\n",
    "                )\n",
    "            agg_test.columns = ['user_id', f'{agg}_{agg_ix}_{suffix}']\n",
    "            \n",
    "            all_users = all_users.merge(\n",
    "                agg_test,\n",
    "                how = 'left',\n",
    "                left_on = 'user_id',\n",
    "                right_on = 'user_id'\n",
    "            )\n",
    "            \n",
    "### FIND WEEKEND WEEKDAY COLUMNS AND CALCULATE MEAN TRX AMOUNT WEEKEND WEEKDAY\n",
    "all_cols = list(all_users.columns) # test_df_users\n",
    "r = re.compile(\".*amount_(weekday|weekend).*\")\n",
    "weekend_day_cols = list(filter(r.match, all_cols)) \n",
    "\n",
    "for i in weekend_day_cols:\n",
    "    midfix_list = i.split('_')[1:-1]\n",
    "    midfix = \"_\".join(midfix_list)\n",
    "    suffix = i.split('_')[-1]\n",
    "    full_col_name = f'mean_{midfix}_{suffix}'\n",
    "    \n",
    "    midfix_list[1] = 'count'\n",
    "    denom_col_name = f'sum_{\"_\".join(midfix_list)}_{suffix}'\n",
    "    all_users[full_col_name] = all_users[i] / all_users[denom_col_name]"
   ]
  },
  {
   "cell_type": "code",
   "execution_count": 234,
   "id": "b51b45c4-50d9-4ec3-a29e-30731fec5028",
   "metadata": {},
   "outputs": [
    {
     "data": {
      "text/html": [
       "<div>\n",
       "<style scoped>\n",
       "    .dataframe tbody tr th:only-of-type {\n",
       "        vertical-align: middle;\n",
       "    }\n",
       "\n",
       "    .dataframe tbody tr th {\n",
       "        vertical-align: top;\n",
       "    }\n",
       "\n",
       "    .dataframe thead th {\n",
       "        text-align: right;\n",
       "    }\n",
       "</style>\n",
       "<table border=\"1\" class=\"dataframe\">\n",
       "  <thead>\n",
       "    <tr style=\"text-align: right;\">\n",
       "      <th></th>\n",
       "      <th>sum_trx_amount_weekend_l7d</th>\n",
       "      <th>sum_trx_count_weekend_l7d</th>\n",
       "      <th>mean_trx_amount_weekend_l7d</th>\n",
       "      <th>sum_trx_amount_weekend_l180d</th>\n",
       "      <th>sum_trx_count_weekend_l180d</th>\n",
       "      <th>mean_trx_amount_weekend_l180d</th>\n",
       "      <th>sum_trx_amount_weekend_l90d</th>\n",
       "      <th>sum_trx_count_weekend_l90d</th>\n",
       "      <th>mean_trx_amount_weekend_l90d</th>\n",
       "      <th>sum_trx_amount_weekend_l30d</th>\n",
       "      <th>sum_trx_count_weekend_l30d</th>\n",
       "      <th>mean_trx_amount_weekend_l30d</th>\n",
       "    </tr>\n",
       "  </thead>\n",
       "  <tbody>\n",
       "    <tr>\n",
       "      <th>0</th>\n",
       "      <td>NaN</td>\n",
       "      <td>NaN</td>\n",
       "      <td>NaN</td>\n",
       "      <td>NaN</td>\n",
       "      <td>NaN</td>\n",
       "      <td>NaN</td>\n",
       "      <td>NaN</td>\n",
       "      <td>NaN</td>\n",
       "      <td>NaN</td>\n",
       "      <td>NaN</td>\n",
       "      <td>NaN</td>\n",
       "      <td>NaN</td>\n",
       "    </tr>\n",
       "    <tr>\n",
       "      <th>1</th>\n",
       "      <td>0.0</td>\n",
       "      <td>0.0</td>\n",
       "      <td>NaN</td>\n",
       "      <td>17106.0</td>\n",
       "      <td>27.0</td>\n",
       "      <td>633.555556</td>\n",
       "      <td>11802.0</td>\n",
       "      <td>16.0</td>\n",
       "      <td>737.625000</td>\n",
       "      <td>1264.0</td>\n",
       "      <td>5.0</td>\n",
       "      <td>252.800000</td>\n",
       "    </tr>\n",
       "    <tr>\n",
       "      <th>2</th>\n",
       "      <td>0.0</td>\n",
       "      <td>0.0</td>\n",
       "      <td>NaN</td>\n",
       "      <td>94461.0</td>\n",
       "      <td>30.0</td>\n",
       "      <td>3148.700000</td>\n",
       "      <td>31237.0</td>\n",
       "      <td>14.0</td>\n",
       "      <td>2231.214286</td>\n",
       "      <td>17729.0</td>\n",
       "      <td>5.0</td>\n",
       "      <td>3545.800000</td>\n",
       "    </tr>\n",
       "    <tr>\n",
       "      <th>3</th>\n",
       "      <td>0.0</td>\n",
       "      <td>0.0</td>\n",
       "      <td>NaN</td>\n",
       "      <td>34604.0</td>\n",
       "      <td>18.0</td>\n",
       "      <td>1922.444444</td>\n",
       "      <td>24771.0</td>\n",
       "      <td>10.0</td>\n",
       "      <td>2477.100000</td>\n",
       "      <td>1333.0</td>\n",
       "      <td>2.0</td>\n",
       "      <td>666.500000</td>\n",
       "    </tr>\n",
       "    <tr>\n",
       "      <th>4</th>\n",
       "      <td>201.0</td>\n",
       "      <td>1.0</td>\n",
       "      <td>201.0</td>\n",
       "      <td>50390.0</td>\n",
       "      <td>26.0</td>\n",
       "      <td>1938.076923</td>\n",
       "      <td>25734.0</td>\n",
       "      <td>13.0</td>\n",
       "      <td>1979.538462</td>\n",
       "      <td>2764.0</td>\n",
       "      <td>6.0</td>\n",
       "      <td>460.666667</td>\n",
       "    </tr>\n",
       "  </tbody>\n",
       "</table>\n",
       "</div>"
      ],
      "text/plain": [
       "   sum_trx_amount_weekend_l7d  sum_trx_count_weekend_l7d  \\\n",
       "0                         NaN                        NaN   \n",
       "1                         0.0                        0.0   \n",
       "2                         0.0                        0.0   \n",
       "3                         0.0                        0.0   \n",
       "4                       201.0                        1.0   \n",
       "\n",
       "   mean_trx_amount_weekend_l7d  sum_trx_amount_weekend_l180d  \\\n",
       "0                          NaN                           NaN   \n",
       "1                          NaN                       17106.0   \n",
       "2                          NaN                       94461.0   \n",
       "3                          NaN                       34604.0   \n",
       "4                        201.0                       50390.0   \n",
       "\n",
       "   sum_trx_count_weekend_l180d  mean_trx_amount_weekend_l180d  \\\n",
       "0                          NaN                            NaN   \n",
       "1                         27.0                     633.555556   \n",
       "2                         30.0                    3148.700000   \n",
       "3                         18.0                    1922.444444   \n",
       "4                         26.0                    1938.076923   \n",
       "\n",
       "   sum_trx_amount_weekend_l90d  sum_trx_count_weekend_l90d  \\\n",
       "0                          NaN                         NaN   \n",
       "1                      11802.0                        16.0   \n",
       "2                      31237.0                        14.0   \n",
       "3                      24771.0                        10.0   \n",
       "4                      25734.0                        13.0   \n",
       "\n",
       "   mean_trx_amount_weekend_l90d  sum_trx_amount_weekend_l30d  \\\n",
       "0                           NaN                          NaN   \n",
       "1                    737.625000                       1264.0   \n",
       "2                   2231.214286                      17729.0   \n",
       "3                   2477.100000                       1333.0   \n",
       "4                   1979.538462                       2764.0   \n",
       "\n",
       "   sum_trx_count_weekend_l30d  mean_trx_amount_weekend_l30d  \n",
       "0                         NaN                           NaN  \n",
       "1                         5.0                    252.800000  \n",
       "2                         5.0                   3545.800000  \n",
       "3                         2.0                    666.500000  \n",
       "4                         6.0                    460.666667  "
      ]
     },
     "execution_count": 234,
     "metadata": {},
     "output_type": "execute_result"
    }
   ],
   "source": [
    "all_users[\n",
    "    ['sum_trx_amount_weekend_l7d', \n",
    "     'sum_trx_count_weekend_l7d', \n",
    "     'mean_trx_amount_weekend_l7d',\n",
    "     'sum_trx_amount_weekend_l180d', \n",
    "     'sum_trx_count_weekend_l180d', \n",
    "     'mean_trx_amount_weekend_l180d',\n",
    "     'sum_trx_amount_weekend_l90d', \n",
    "     'sum_trx_count_weekend_l90d', \n",
    "     'mean_trx_amount_weekend_l90d',\n",
    "     'sum_trx_amount_weekend_l30d', \n",
    "     'sum_trx_count_weekend_l30d', \n",
    "     'mean_trx_amount_weekend_l30d'\n",
    "    ]\n",
    "].head()"
   ]
  },
  {
   "cell_type": "code",
   "execution_count": 233,
   "id": "ab8369ab-16c6-44c4-9fdd-480d5b5b809e",
   "metadata": {},
   "outputs": [
    {
     "name": "stdout",
     "output_type": "stream",
     "text": [
      "<class 'pandas.core.frame.DataFrame'>\n",
      "Int64Index: 9542 entries, 0 to 9541\n",
      "Data columns (total 76 columns):\n",
      " #   Column                         Non-Null Count  Dtype  \n",
      "---  ------                         --------------  -----  \n",
      " 0   user_id                        9542 non-null   object \n",
      " 1   mean_daily_amount_l7d          7609 non-null   float64\n",
      " 2   sum_daily_amount_l7d           7609 non-null   float64\n",
      " 3   min_daily_amount_l7d           7609 non-null   float64\n",
      " 4   max_daily_amount_l7d           7609 non-null   float64\n",
      " 5   mean_trx_count_l7d             7609 non-null   float64\n",
      " 6   sum_trx_count_l7d              7609 non-null   float64\n",
      " 7   max_trx_count_l7d              7609 non-null   float64\n",
      " 8   mean_active_day_l7d            7609 non-null   float64\n",
      " 9   sum_active_day_l7d             7609 non-null   float64\n",
      " 10  sum_trx_count_weekend_l7d      7609 non-null   float64\n",
      " 11  sum_trx_count_weekday_l7d      7609 non-null   float64\n",
      " 12  sum_trx_amount_weekend_l7d     7609 non-null   float64\n",
      " 13  sum_trx_amount_weekday_l7d     7609 non-null   float64\n",
      " 14  mean_daily_amount_l14d         8134 non-null   float64\n",
      " 15  sum_daily_amount_l14d          8134 non-null   float64\n",
      " 16  min_daily_amount_l14d          8134 non-null   float64\n",
      " 17  max_daily_amount_l14d          8134 non-null   float64\n",
      " 18  mean_trx_count_l14d            8134 non-null   float64\n",
      " 19  sum_trx_count_l14d             8134 non-null   float64\n",
      " 20  max_trx_count_l14d             8134 non-null   float64\n",
      " 21  mean_active_day_l14d           8134 non-null   float64\n",
      " 22  sum_active_day_l14d            8134 non-null   float64\n",
      " 23  sum_trx_count_weekend_l14d     8134 non-null   float64\n",
      " 24  sum_trx_count_weekday_l14d     8134 non-null   float64\n",
      " 25  sum_trx_amount_weekend_l14d    8134 non-null   float64\n",
      " 26  sum_trx_amount_weekday_l14d    8134 non-null   float64\n",
      " 27  mean_daily_amount_l30d         8230 non-null   float64\n",
      " 28  sum_daily_amount_l30d          8230 non-null   float64\n",
      " 29  min_daily_amount_l30d          8230 non-null   float64\n",
      " 30  max_daily_amount_l30d          8230 non-null   float64\n",
      " 31  mean_trx_count_l30d            8230 non-null   float64\n",
      " 32  sum_trx_count_l30d             8230 non-null   float64\n",
      " 33  max_trx_count_l30d             8230 non-null   float64\n",
      " 34  mean_active_day_l30d           8230 non-null   float64\n",
      " 35  sum_active_day_l30d            8230 non-null   float64\n",
      " 36  sum_trx_count_weekend_l30d     8230 non-null   float64\n",
      " 37  sum_trx_count_weekday_l30d     8230 non-null   float64\n",
      " 38  sum_trx_amount_weekend_l30d    8230 non-null   float64\n",
      " 39  sum_trx_amount_weekday_l30d    8230 non-null   float64\n",
      " 40  mean_daily_amount_l90d         8290 non-null   float64\n",
      " 41  sum_daily_amount_l90d          8290 non-null   float64\n",
      " 42  min_daily_amount_l90d          8290 non-null   float64\n",
      " 43  max_daily_amount_l90d          8290 non-null   float64\n",
      " 44  mean_trx_count_l90d            8290 non-null   float64\n",
      " 45  sum_trx_count_l90d             8290 non-null   float64\n",
      " 46  max_trx_count_l90d             8290 non-null   float64\n",
      " 47  mean_active_day_l90d           8290 non-null   float64\n",
      " 48  sum_active_day_l90d            8290 non-null   float64\n",
      " 49  sum_trx_count_weekend_l90d     8290 non-null   float64\n",
      " 50  sum_trx_count_weekday_l90d     8290 non-null   float64\n",
      " 51  sum_trx_amount_weekend_l90d    8290 non-null   float64\n",
      " 52  sum_trx_amount_weekday_l90d    8290 non-null   float64\n",
      " 53  mean_daily_amount_l180d        8378 non-null   float64\n",
      " 54  sum_daily_amount_l180d         8378 non-null   float64\n",
      " 55  min_daily_amount_l180d         8378 non-null   float64\n",
      " 56  max_daily_amount_l180d         8378 non-null   float64\n",
      " 57  mean_trx_count_l180d           8378 non-null   float64\n",
      " 58  sum_trx_count_l180d            8378 non-null   float64\n",
      " 59  max_trx_count_l180d            8378 non-null   float64\n",
      " 60  mean_active_day_l180d          8378 non-null   float64\n",
      " 61  sum_active_day_l180d           8378 non-null   float64\n",
      " 62  sum_trx_count_weekend_l180d    8378 non-null   float64\n",
      " 63  sum_trx_count_weekday_l180d    8378 non-null   float64\n",
      " 64  sum_trx_amount_weekend_l180d   8378 non-null   float64\n",
      " 65  sum_trx_amount_weekday_l180d   8378 non-null   float64\n",
      " 66  mean_trx_amount_weekend_l7d    4786 non-null   float64\n",
      " 67  mean_trx_amount_weekday_l7d    6887 non-null   float64\n",
      " 68  mean_trx_amount_weekend_l14d   6649 non-null   float64\n",
      " 69  mean_trx_amount_weekday_l14d   7932 non-null   float64\n",
      " 70  mean_trx_amount_weekend_l30d   7992 non-null   float64\n",
      " 71  mean_trx_amount_weekday_l30d   8175 non-null   float64\n",
      " 72  mean_trx_amount_weekend_l90d   8230 non-null   float64\n",
      " 73  mean_trx_amount_weekday_l90d   8244 non-null   float64\n",
      " 74  mean_trx_amount_weekend_l180d  8311 non-null   float64\n",
      " 75  mean_trx_amount_weekday_l180d  8330 non-null   float64\n",
      "dtypes: float64(75), object(1)\n",
      "memory usage: 5.6+ MB\n"
     ]
    }
   ],
   "source": [
    "# test_df_users.info()\n",
    "all_users.info()"
   ]
  },
  {
   "cell_type": "code",
   "execution_count": 235,
   "id": "4380f272-7a2a-4c6c-af5b-c6706b36db63",
   "metadata": {},
   "outputs": [
    {
     "data": {
      "text/plain": [
       "'data/03.final'"
      ]
     },
     "execution_count": 235,
     "metadata": {},
     "output_type": "execute_result"
    }
   ],
   "source": [
    "configs['FINAL_PATH']"
   ]
  },
  {
   "cell_type": "code",
   "execution_count": 236,
   "id": "41c1419e-a94c-4b11-b361-9a4e84538dae",
   "metadata": {},
   "outputs": [],
   "source": [
    "all_users.to_csv(f\"{configs['FINAL_PATH']}/full_features.csv\", index = False)"
   ]
  },
  {
   "cell_type": "code",
   "execution_count": 117,
   "id": "2328217f-4246-4367-8875-5421d3b70554",
   "metadata": {},
   "outputs": [
    {
     "data": {
      "text/html": [
       "<div>\n",
       "<style scoped>\n",
       "    .dataframe tbody tr th:only-of-type {\n",
       "        vertical-align: middle;\n",
       "    }\n",
       "\n",
       "    .dataframe tbody tr th {\n",
       "        vertical-align: top;\n",
       "    }\n",
       "\n",
       "    .dataframe thead th {\n",
       "        text-align: right;\n",
       "    }\n",
       "</style>\n",
       "<table border=\"1\" class=\"dataframe\">\n",
       "  <thead>\n",
       "    <tr style=\"text-align: right;\">\n",
       "      <th></th>\n",
       "      <th>user_id</th>\n",
       "      <th>trx_count</th>\n",
       "    </tr>\n",
       "  </thead>\n",
       "  <tbody>\n",
       "    <tr>\n",
       "      <th>0</th>\n",
       "      <td>00073cc2-c801-c67c-d039-fca63c78c6a9</td>\n",
       "      <td>44</td>\n",
       "    </tr>\n",
       "  </tbody>\n",
       "</table>\n",
       "</div>"
      ],
      "text/plain": [
       "                                user_id  trx_count\n",
       "0  00073cc2-c801-c67c-d039-fca63c78c6a9         44"
      ]
     },
     "execution_count": 117,
     "metadata": {},
     "output_type": "execute_result"
    }
   ],
   "source": [
    "date_range = [datetime.date(2021, 5, 4), datetime.date(2021, 10, 31)]\n",
    "test_df[\n",
    "                    (pd.to_datetime(test_df['trx_date']) <= date_range[1].strftime(DATE_FORMAT)) &\n",
    "                    (pd.to_datetime(test_df['trx_date']) > date_range[0].strftime(DATE_FORMAT))\n",
    "                ].groupby(\n",
    "                    ['user_id'],\n",
    "                    as_index = False,\n",
    "                    observed = True\n",
    "                ).agg(\n",
    "                    {\n",
    "                        'trx_count': 'sum'\n",
    "                    }\n",
    "                )"
   ]
  }
 ],
 "metadata": {
  "kernelspec": {
   "display_name": "Python 3",
   "language": "python",
   "name": "python3"
  },
  "language_info": {
   "codemirror_mode": {
    "name": "ipython",
    "version": 3
   },
   "file_extension": ".py",
   "mimetype": "text/x-python",
   "name": "python",
   "nbconvert_exporter": "python",
   "pygments_lexer": "ipython3",
   "version": "3.8.13"
  }
 },
 "nbformat": 4,
 "nbformat_minor": 5
}
